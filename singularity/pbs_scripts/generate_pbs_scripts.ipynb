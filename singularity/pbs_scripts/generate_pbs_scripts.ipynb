{
 "cells": [
  {
   "cell_type": "code",
   "execution_count": null,
   "metadata": {},
   "outputs": [],
   "source": [
    "for i in range(156):\n",
    "    file = open(\"script_{}.pbs\".format(i),\"a+\")\n",
    "\n",
    "    string = \"\"\"\n",
    "#PBS -N Aurel_Test\n",
    "#PBS -q Nspin_long\n",
    "#PBS -l nodes=1:ppn=10\n",
    "#PBS -l mem=64gb\n",
    "#PBS -l walltime=5:00:00\n",
    "#PBS -j oe                      \n",
    "#PBS -o output{}.out\n",
    "\n",
    "apptainer run --bind /neurospin tembedding.sif precompute-dfc-dist \\\n",
    "\t\t/neurospin/lbi/monkeyfmri/deepstim/database/ANESTHETIC_database/derivatives/reference_kmeans/inputs/inputs.npy \\\n",
    "                /neurospin/lbi/monkeyfmri/deepstim/database/ANESTHETIC_database/derivatives/reference_kmeans/inputs/metadata.tsv \\\n",
    "                {} \\\n",
    "                /neurospin/lbi/monkeyfmri/deepstim/workspace/2023_ASM_tembedding/gitproject/2023_asm_tembedding/data/DistanceMatrices/all\n",
    "\"\"\".format(i,i)\n",
    "\n",
    "    file.write(string)\n",
    "    file.close()"
   ]
  },
  {
   "cell_type": "code",
   "execution_count": 10,
   "metadata": {},
   "outputs": [],
   "source": [
    "file = open(\"bashfile.sh\",\"a+\")\n",
    "string = \"\"\n",
    "for i in range(156):\n",
    "    if i < 155 : \n",
    "        string += \"qsub script_{}.pbs & \\n\".format(i)\n",
    "    else : \n",
    "        string += \"qsub script_{}.pbs\".format(i)\n",
    "file.write(string)\n",
    "file.close()"
   ]
  }
 ],
 "metadata": {
  "kernelspec": {
   "display_name": "env",
   "language": "python",
   "name": "python3"
  },
  "language_info": {
   "codemirror_mode": {
    "name": "ipython",
    "version": 3
   },
   "file_extension": ".py",
   "mimetype": "text/x-python",
   "name": "python",
   "nbconvert_exporter": "python",
   "pygments_lexer": "ipython3",
   "version": "3.8.0"
  },
  "orig_nbformat": 4
 },
 "nbformat": 4,
 "nbformat_minor": 2
}
