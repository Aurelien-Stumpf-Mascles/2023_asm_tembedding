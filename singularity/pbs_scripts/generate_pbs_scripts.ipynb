{
 "cells": [
  {
   "cell_type": "code",
   "execution_count": 1,
   "metadata": {},
   "outputs": [],
   "source": [
    "for i in range(1):\n",
    "    file = open(\"script_{}.pbs\".format(i),\"a+\")\n",
    "\n",
    "    string = \"\"\"\n",
    "#PBS -N Aurel_Test\n",
    "#PBS -q Nspin_long\n",
    "#PBS -l nodes=1:ppn=10\n",
    "#PBS -l mem=64gb\n",
    "#PBS -l walltime=5:00:00\n",
    "#PBS -j oe                      \n",
    "#PBS -o gettingStarted.out\n",
    "\n",
    "singularity run --bind /neurospin /neurospin/lbi/monkeyfmri/deepstim/workspace/2023_ASM_tembedding/compute_distance/container.sif \\\n",
    "            /neurospin/lbi/monkeyfmri/deepstim/database/ANESTHETIC_database/derivatives/reference_kmeans/inputs/inputs.npy \\\n",
    "            /neurospin/lbi/monkeyfmri/deepstim/database/ANESTHETIC_database/derivatives/reference_kmeans/inputs/metadata.tsv \\\n",
    "            /neurospin/lbi/monkeyfmri/deepstim/workspace/2023_ASM_tembedding/compute_distance/distance_all.npy \\\n",
    "            {}\n",
    "\"\"\".format(i)\n",
    "\n",
    "    file.write(string)\n",
    "    file.close()"
   ]
  },
  {
   "cell_type": "code",
   "execution_count": 7,
   "metadata": {},
   "outputs": [],
   "source": [
    "file = open(\"bashfile\",\"a+\")\n",
    "string = \"\"\n",
    "for i in range(156):\n",
    "    string += \"qsub script_{} & \\n\".format(i)\n",
    "file.write(string)\n",
    "file.close()"
   ]
  }
 ],
 "metadata": {
  "kernelspec": {
   "display_name": "env",
   "language": "python",
   "name": "python3"
  },
  "language_info": {
   "codemirror_mode": {
    "name": "ipython",
    "version": 3
   },
   "file_extension": ".py",
   "mimetype": "text/x-python",
   "name": "python",
   "nbconvert_exporter": "python",
   "pygments_lexer": "ipython3",
   "version": "3.8.0"
  },
  "orig_nbformat": 4
 },
 "nbformat": 4,
 "nbformat_minor": 2
}
