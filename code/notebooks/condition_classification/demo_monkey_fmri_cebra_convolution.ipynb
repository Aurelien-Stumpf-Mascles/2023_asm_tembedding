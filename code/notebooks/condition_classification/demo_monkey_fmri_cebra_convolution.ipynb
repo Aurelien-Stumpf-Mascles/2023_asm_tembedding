{
 "cells": [
  {
   "cell_type": "code",
   "execution_count": null,
   "metadata": {},
   "outputs": [],
   "source": [
    "import sys\n",
    "sys.path\n",
    "sys.path.append('/volatile/aurelien_stumpf_mascles/project/code/')"
   ]
  },
  {
   "cell_type": "code",
   "execution_count": 1,
   "metadata": {},
   "outputs": [],
   "source": [
    "import numpy as np\n",
    "import matplotlib.pyplot as plt\n",
    "import matplotlib\n",
    "import torch\n",
    "import torch.nn as nn\n",
    "import cebra_v2 as cebra2\n",
    "from collections import defaultdict\n",
    "import torch.nn.functional as F\n",
    "from sklearn.model_selection import train_test_split\n",
    "from sklearn.decomposition import PCA,FastICA\n",
    "from torch.utils.data.sampler import BatchSampler\n",
    "import package\n",
    "import pandas as pd\n",
    "import matplotlib.animation as animation\n",
    "import tembedding\n",
    "import scipy as sc\n",
    "from skimage.metrics import structural_similarity as ssim\n",
    "from sklearn.cluster import KMeans,OPTICS\n",
    "import math\n",
    "from joblib import Memory,Parallel,delayed,parallel_backend\n",
    "import time\n",
    "from multiprocessing import Lock, Process, Queue\n",
    "import multiprocessing\n",
    "import queue \n",
    "import os\n",
    "import networkx as nx\n",
    "from scipy.spatial.transform import Rotation as R"
   ]
  },
  {
   "cell_type": "code",
   "execution_count": 45,
   "metadata": {},
   "outputs": [
    {
     "data": {
      "text/plain": [
       "<module 'cebra_v2.dataset' from '/volatile/aurelien_stumpf_mascles/project/code/cebra_v2/dataset.py'>"
      ]
     },
     "execution_count": 45,
     "metadata": {},
     "output_type": "execute_result"
    }
   ],
   "source": [
    "import importlib\n",
    "importlib.reload(package.torch_classifier)\n",
    "importlib.reload(cebra2.distribution)\n",
    "importlib.reload(cebra2.dataset)"
   ]
  },
  {
   "attachments": {},
   "cell_type": "markdown",
   "metadata": {},
   "source": [
    "## Utilitaires"
   ]
  },
  {
   "cell_type": "code",
   "execution_count": 2,
   "metadata": {},
   "outputs": [],
   "source": [
    "def single_session_solver(data_loader, **kwargs):\n",
    "    \"\"\"Train a single session CEBRA model.\"\"\"\n",
    "    norm = True\n",
    "    if kwargs['distance'] == 'euclidean':\n",
    "        norm = False\n",
    "    model = kwargs[\"model\"]\n",
    "\n",
    "    if kwargs['distance'] == 'euclidean':\n",
    "        criterion = cebra2.criterion.EuclideanInfoNCE(temperature=kwargs['temperature'],beta = kwargs['beta'])\n",
    "    elif kwargs['distance'] == 'cosine':        \n",
    "        criterion = cebra2.criterion.CosineInfoNCE(temperature=kwargs['temperature'],beta = kwargs['beta'])\n",
    "\n",
    "    optimizer = torch.optim.Adam(model.parameters(), lr=kwargs['learning_rate'])\n",
    "\n",
    "    return cebra2.solver.SingleSessionSolver(model=model,\n",
    "                                            criterion=criterion,\n",
    "                                            optimizer=optimizer)\n",
    "\n",
    "@torch.no_grad()\n",
    "def get_emissions(model, dataset):\n",
    "    if torch.cuda.is_available():\n",
    "        device = \"cuda\"\n",
    "    else:\n",
    "        device = \"cpu\"\n",
    "    model.to(device)\n",
    "    return model(dataset).cpu().numpy()\n",
    "\n",
    "def _compute_emissions_single(solver, dataset):\n",
    "    return get_emissions(solver.model, dataset)"
   ]
  },
  {
   "attachments": {},
   "cell_type": "markdown",
   "metadata": {},
   "source": [
    "## Data Loading"
   ]
  },
  {
   "cell_type": "code",
   "execution_count": 3,
   "metadata": {},
   "outputs": [],
   "source": [
    "dfc = np.load('/neurospin/lbi/monkeyfmri/deepstim/database/ANESTHETIC_database/derivatives/reference_kmeans/inputs/inputs.npy')\n",
    "meta = pd.read_csv(\"/neurospin/lbi/monkeyfmri/deepstim/database/ANESTHETIC_database/derivatives/reference_kmeans/inputs/metadata.tsv\", sep=\"\\t\")"
   ]
  },
  {
   "cell_type": "code",
   "execution_count": 4,
   "metadata": {},
   "outputs": [],
   "source": [
    "n_runs = len(set(meta[\"unique_id\"] + meta[\"monkey\"]))\n",
    "n_wins = 464\n",
    "dfc_train = dfc[meta[\"monkey\"].isin(['almira', 'khali', 'kimiko', 'rana']) & (meta[\"condition\"].isin(['awake', 'light-propofol', 'deep-propofol']))].reshape((-1, n_wins, 82, 82))\n",
    "dfc_test = dfc[meta[\"monkey\"] == \"jade\"].reshape((-1, n_wins, 82, 82))\n",
    "dfc_all = dfc.reshape((-1, n_wins, 82, 82))"
   ]
  },
  {
   "cell_type": "code",
   "execution_count": 5,
   "metadata": {},
   "outputs": [],
   "source": [
    "def STRUCTURE(x,y):\n",
    "        return 1 - package.preprocessing.structure(x,y,is_batch = False)\n",
    "\n",
    "metric = STRUCTURE"
   ]
  },
  {
   "cell_type": "code",
   "execution_count": 6,
   "metadata": {},
   "outputs": [],
   "source": [
    "n_wins = 464\n",
    "dfc_awake = dfc[meta[\"monkey\"].isin(['almira', 'khali', 'kimiko', 'rana', 'jade']) & (meta[\"condition\"].isin(['light-propofol','deep-propofol']))].reshape((-1, n_wins, 82, 82))\n",
    "dfc_anaesthesized = dfc[meta[\"monkey\"].isin(['almira', 'khali', 'kimiko', 'rana', 'jade']) & (meta[\"condition\"].isin(['awake']))].reshape((-1, n_wins, 82, 82))\n",
    "dfc_train_anaesthesized = dfc[meta[\"monkey\"].isin(['almira', 'khali', 'kimiko', 'rana']) & (meta[\"condition\"].isin(['light-propofol','deep-propofol']))].reshape((-1, n_wins, 82, 82))\n",
    "dfc_train_awake = dfc[meta[\"monkey\"].isin(['almira', 'khali', 'kimiko', 'rana']) & (meta[\"condition\"].isin(['awake']))].reshape((-1, n_wins, 82, 82))\n",
    "dfc_test_awake = dfc[(meta[\"monkey\"].isin(['jade'])) & (meta[\"condition\"] == \"awake\")].reshape(-1,n_wins,82,82)\n",
    "dfc_test_light_propofol = dfc[(meta[\"monkey\"].isin(['jade'])) & (meta[\"condition\"].isin(['light-propofol','deep-propofol']))].reshape(-1,n_wins,82,82)"
   ]
  },
  {
   "attachments": {},
   "cell_type": "markdown",
   "metadata": {},
   "source": [
    "## Cebra on convolution"
   ]
  },
  {
   "cell_type": "code",
   "execution_count": 7,
   "metadata": {},
   "outputs": [],
   "source": [
    "dict_labels = {\"light-propofol\" : 0, \"deep-propofol\" : 1, \"awake\" : 2}"
   ]
  },
  {
   "cell_type": "code",
   "execution_count": 227,
   "metadata": {},
   "outputs": [],
   "source": [
    "meta_test = meta[meta[\"monkey\"].isin(['jade']) & (meta[\"condition\"].isin([\"awake\",\"light-propofol\",\"deep-propofol\"]))][\"condition\"]\n",
    "labels_test_condition = np.array([meta_test.iloc[i] for i in range(len(meta_test))])\n",
    "labels_test = np.array([dict_labels[elem] for elem in labels_test_condition]).reshape((len(labels_test_condition)//464,464))"
   ]
  },
  {
   "cell_type": "code",
   "execution_count": 26,
   "metadata": {},
   "outputs": [],
   "source": [
    "meta_train = meta[meta[\"monkey\"].isin(['almira', 'khali', 'kimiko', 'rana']) & (meta[\"condition\"].isin([\"awake\",\"light-propofol\",\"deep-propofol\"]))][\"condition\"]\n",
    "labels_train_condition = np.array([meta_train.iloc[i] for i in range(len(meta_train))])\n",
    "labels_train = np.array([dict_labels[elem] for elem in labels_train_condition]).reshape((len(labels_train_condition)//464,464))"
   ]
  },
  {
   "cell_type": "code",
   "execution_count": 12,
   "metadata": {},
   "outputs": [],
   "source": [
    "#We define the architecture of the model we will use\n",
    "\n",
    "num_output = 3\n",
    "normalize = True\n",
    "num_neurons = 3321\n",
    "\n",
    "model = cebra2.model.Model(\n",
    "    nn.AvgPool2d(kernel_size=(2, 2),stride = (2,2)),\n",
    "    nn.Conv2d(1, 30, kernel_size=(5,5)),\n",
    "    nn.ReLU(),\n",
    "    #self.drop1 = nn.Dropout(0.3)\n",
    "\n",
    "    nn.Conv2d(30, 30, kernel_size=(3,3)),\n",
    "    nn.ReLU(),\n",
    "    nn.MaxPool2d(kernel_size=(5, 5)),\n",
    "\n",
    "    nn.Flatten(),\n",
    "\n",
    "    nn.Linear(1470, 512),\n",
    "    nn.ReLU(),\n",
    "    #nn.Dropout(0.5),\n",
    "\n",
    "    nn.Linear(512, 20),\n",
    "    nn.Linear(\n",
    "        20,\n",
    "        3,\n",
    "    ),\n",
    "    num_input=num_neurons,\n",
    "    num_output=num_output,\n",
    "    normalize = True\n",
    "        )"
   ]
  },
  {
   "cell_type": "code",
   "execution_count": 216,
   "metadata": {},
   "outputs": [],
   "source": [
    "dfc_train = dfc[meta[\"monkey\"].isin(['almira', 'khali', 'kimiko', 'rana']) & (meta[\"condition\"].isin(['awake','light-propofol', 'deep-propofol']))].reshape((-1, n_wins, 82, 82))\n",
    "dfc_test = dfc[meta[\"monkey\"].isin(['jade']) & (meta[\"condition\"].isin(['awake','light-propofol', 'deep-propofol']))].reshape((-1, n_wins, 82, 82))\n",
    "fc_train = torch.from_numpy(dfc_train.reshape((dfc_train.shape[0],464,1,82,82)))\n",
    "fc_test = torch.from_numpy(dfc_test.reshape((dfc_test.shape[0],464,1,82,82)))\n",
    "discrete = labels_train"
   ]
  },
  {
   "cell_type": "code",
   "execution_count": 22,
   "metadata": {},
   "outputs": [],
   "source": [
    "fc_dataset = cebra2.dataset.SimpleMultiSessionDataset(fc_train) #,discrete = discrete)\n",
    "fc_loader = cebra2.dataset.MultiSessionLoader(fc_dataset, num_steps = 1000, batch_size = 500,  time_delta = 5) #, matrix_delta = 0.5)"
   ]
  },
  {
   "cell_type": "code",
   "execution_count": 23,
   "metadata": {},
   "outputs": [],
   "source": [
    "cebra_fc = single_session_solver(data_loader = fc_loader, model_architecture = 'offset1-model', \n",
    "                 distance = 'cosine', num_hidden_units = 128, output_dimension = 128,\n",
    "                verbose = True, temperature = 1, beta = 1,learning_rate = 3e-4, model = model)"
   ]
  },
  {
   "cell_type": "code",
   "execution_count": 31,
   "metadata": {},
   "outputs": [
    {
     "name": "stdout",
     "output_type": "stream",
     "text": [
      "Epoch 0\n",
      "Train loss 4.6050, Train accuracy 0.00%\n",
      "Epoch 100\n",
      "Train loss 3.8239, Train accuracy 0.00%\n",
      "Epoch 200\n",
      "Train loss 3.7763, Train accuracy 0.00%\n",
      "Epoch 300\n",
      "Train loss 3.7709, Train accuracy 0.00%\n",
      "Epoch 400\n",
      "Train loss 3.7584, Train accuracy 0.00%\n",
      "Epoch 500\n",
      "Train loss 3.7773, Train accuracy 0.00%\n",
      "Epoch 600\n",
      "Train loss 3.7923, Train accuracy 0.00%\n",
      "Epoch 700\n",
      "Train loss 3.7669, Train accuracy 0.00%\n",
      "Epoch 800\n",
      "Train loss 3.7677, Train accuracy 0.00%\n",
      "Epoch 900\n",
      "Train loss 3.7664, Train accuracy 0.00%\n"
     ]
    }
   ],
   "source": [
    "cebra_fc.fit(fc_loader)"
   ]
  },
  {
   "attachments": {},
   "cell_type": "markdown",
   "metadata": {},
   "source": [
    "## Conv Network"
   ]
  },
  {
   "cell_type": "code",
   "execution_count": 252,
   "metadata": {},
   "outputs": [
    {
     "data": {
      "text/plain": [
       "<module 'package.torch_classifier' from '/volatile/aurelien_stumpf_mascles/project/code/package/torch_classifier.py'>"
      ]
     },
     "execution_count": 252,
     "metadata": {},
     "output_type": "execute_result"
    }
   ],
   "source": [
    "import importlib\n",
    "importlib.reload(package.torch_classifier)"
   ]
  },
  {
   "cell_type": "code",
   "execution_count": 186,
   "metadata": {},
   "outputs": [
    {
     "name": "stderr",
     "output_type": "stream",
     "text": [
      "/volatile/aurelien_stumpf_mascles/project/env/lib/python3.8/site-packages/torch/_tensor.py:775: UserWarning: non-inplace resize is deprecated\n",
      "  warnings.warn(\"non-inplace resize is deprecated\")\n"
     ]
    }
   ],
   "source": [
    "net = package.torch_classifier.CNN1()\n",
    "a,b,_,_,_ = fc_dataset.neural.shape\n",
    "data = fc_dataset.neural.resize(a*b,1,82,82)\n",
    "X = data.numpy()\n",
    "y = labels_train.reshape((-1))\n",
    "X_train, X_test,y_train, y_test = train_test_split(X, y, test_size=0.25, random_state=42)\n",
    "train = package.torch_classifier.SimpleDataset(X_train,y_train)\n",
    "test = package.torch_classifier.SimpleDataset(X_test,y_test)\n",
    "balanced_batch_sampler = package.torch_classifier.BalancedBatchSampler(train, n_classes = 3, n_samples = 100)\n",
    "train_loader = torch.utils.data.DataLoader(train, batch_sampler = balanced_batch_sampler)\n",
    "test_loader = torch.utils.data.DataLoader(test, batch_size=10, shuffle=True, num_workers=6)"
   ]
  },
  {
   "cell_type": "code",
   "execution_count": 187,
   "metadata": {},
   "outputs": [
    {
     "name": "stdout",
     "output_type": "stream",
     "text": [
      "Train loss 1.0878, Train accuracy 36.91%\n",
      "Test accuracy 40.68%\n",
      "Train loss 0.1089, Train accuracy 95.68%\n",
      "Test accuracy 92.44%\n",
      "Train loss 0.0223, Train accuracy 99.47%\n",
      "Test accuracy 99.06%\n"
     ]
    },
    {
     "ename": "KeyboardInterrupt",
     "evalue": "",
     "output_type": "error",
     "traceback": [
      "\u001b[0;31m---------------------------------------------------------------------------\u001b[0m",
      "\u001b[0;31mKeyboardInterrupt\u001b[0m                         Traceback (most recent call last)",
      "Cell \u001b[0;32mIn[187], line 1\u001b[0m\n\u001b[0;32m----> 1\u001b[0m package\u001b[39m.\u001b[39;49mtorch_classifier\u001b[39m.\u001b[39;49mTrain(net,train_loader,test_loader,\u001b[39m100\u001b[39;49m,lr \u001b[39m=\u001b[39;49m \u001b[39m0.01\u001b[39;49m)\n",
      "File \u001b[0;32m/volatile/aurelien_stumpf_mascles/project/code/package/torch_classifier.py:166\u001b[0m, in \u001b[0;36mTrain\u001b[0;34m(net, train_loader, test_loader, nb_epochs, lr)\u001b[0m\n\u001b[1;32m    163\u001b[0m loss \u001b[39m=\u001b[39m criterion(output, targets)\n\u001b[1;32m    165\u001b[0m optimizer\u001b[39m.\u001b[39mzero_grad()\n\u001b[0;32m--> 166\u001b[0m loss\u001b[39m.\u001b[39;49mbackward()\n\u001b[1;32m    167\u001b[0m optimizer\u001b[39m.\u001b[39mstep()\n\u001b[1;32m    169\u001b[0m pred \u001b[39m=\u001b[39m output\u001b[39m.\u001b[39mmax(\u001b[39m1\u001b[39m, keepdim\u001b[39m=\u001b[39m\u001b[39mTrue\u001b[39;00m)[\u001b[39m1\u001b[39m]\n",
      "File \u001b[0;32m/volatile/aurelien_stumpf_mascles/project/env/lib/python3.8/site-packages/torch/_tensor.py:487\u001b[0m, in \u001b[0;36mTensor.backward\u001b[0;34m(self, gradient, retain_graph, create_graph, inputs)\u001b[0m\n\u001b[1;32m    477\u001b[0m \u001b[39mif\u001b[39;00m has_torch_function_unary(\u001b[39mself\u001b[39m):\n\u001b[1;32m    478\u001b[0m     \u001b[39mreturn\u001b[39;00m handle_torch_function(\n\u001b[1;32m    479\u001b[0m         Tensor\u001b[39m.\u001b[39mbackward,\n\u001b[1;32m    480\u001b[0m         (\u001b[39mself\u001b[39m,),\n\u001b[0;32m   (...)\u001b[0m\n\u001b[1;32m    485\u001b[0m         inputs\u001b[39m=\u001b[39minputs,\n\u001b[1;32m    486\u001b[0m     )\n\u001b[0;32m--> 487\u001b[0m torch\u001b[39m.\u001b[39;49mautograd\u001b[39m.\u001b[39;49mbackward(\n\u001b[1;32m    488\u001b[0m     \u001b[39mself\u001b[39;49m, gradient, retain_graph, create_graph, inputs\u001b[39m=\u001b[39;49minputs\n\u001b[1;32m    489\u001b[0m )\n",
      "File \u001b[0;32m/volatile/aurelien_stumpf_mascles/project/env/lib/python3.8/site-packages/torch/autograd/__init__.py:200\u001b[0m, in \u001b[0;36mbackward\u001b[0;34m(tensors, grad_tensors, retain_graph, create_graph, grad_variables, inputs)\u001b[0m\n\u001b[1;32m    195\u001b[0m     retain_graph \u001b[39m=\u001b[39m create_graph\n\u001b[1;32m    197\u001b[0m \u001b[39m# The reason we repeat same the comment below is that\u001b[39;00m\n\u001b[1;32m    198\u001b[0m \u001b[39m# some Python versions print out the first line of a multi-line function\u001b[39;00m\n\u001b[1;32m    199\u001b[0m \u001b[39m# calls in the traceback and some print out the last line\u001b[39;00m\n\u001b[0;32m--> 200\u001b[0m Variable\u001b[39m.\u001b[39;49m_execution_engine\u001b[39m.\u001b[39;49mrun_backward(  \u001b[39m# Calls into the C++ engine to run the backward pass\u001b[39;49;00m\n\u001b[1;32m    201\u001b[0m     tensors, grad_tensors_, retain_graph, create_graph, inputs,\n\u001b[1;32m    202\u001b[0m     allow_unreachable\u001b[39m=\u001b[39;49m\u001b[39mTrue\u001b[39;49;00m, accumulate_grad\u001b[39m=\u001b[39;49m\u001b[39mTrue\u001b[39;49;00m)\n",
      "\u001b[0;31mKeyboardInterrupt\u001b[0m: "
     ]
    }
   ],
   "source": [
    "package.torch_classifier.Train(net,train_loader,test_loader,100,lr = 0.01)"
   ]
  },
  {
   "attachments": {},
   "cell_type": "markdown",
   "metadata": {},
   "source": [
    "## Grad CAM"
   ]
  },
  {
   "cell_type": "code",
   "execution_count": 188,
   "metadata": {},
   "outputs": [
    {
     "name": "stdout",
     "output_type": "stream",
     "text": [
      "CNN1(\n",
      "  (fc1): Conv2d(1, 5, kernel_size=(5, 5), stride=(1, 1))\n",
      "  (fc2): Conv2d(5, 5, kernel_size=(3, 3), stride=(1, 1))\n",
      "  (fc3): MaxPool2d(kernel_size=(5, 5), stride=(5, 5), padding=0, dilation=1, ceil_mode=False)\n",
      "  (fc4): Flatten(start_dim=1, end_dim=-1)\n",
      "  (fc5): Linear(in_features=1125, out_features=50, bias=True)\n",
      "  (fc6): Linear(in_features=50, out_features=3, bias=True)\n",
      "  (fc7): LogSoftmax(dim=1)\n",
      ")\n"
     ]
    }
   ],
   "source": [
    "print(net)"
   ]
  },
  {
   "cell_type": "code",
   "execution_count": 189,
   "metadata": {},
   "outputs": [
    {
     "data": {
      "text/plain": [
       "Conv2d(5, 5, kernel_size=(3, 3), stride=(1, 1))"
      ]
     },
     "execution_count": 189,
     "metadata": {},
     "output_type": "execute_result"
    }
   ],
   "source": [
    "net.fc2"
   ]
  },
  {
   "cell_type": "code",
   "execution_count": 358,
   "metadata": {},
   "outputs": [],
   "source": [
    "# defines two global scope variables to store our gradients and activations\n",
    "gradients = None\n",
    "activations = None\n",
    "\n",
    "def backward_hook(module, grad_input, grad_output):\n",
    "  global gradients # refers to the variable in the global scope\n",
    "  print('Backward hook running...')\n",
    "  gradients = grad_output\n",
    "  # In this case, we expect it to be torch.Size([batch size, 1024, 8, 8])\n",
    "  print(f'Gradients size: {gradients[0].size()}') \n",
    "  # We need the 0 index because the tensor containing the gradients comes\n",
    "  # inside a one element tuple.\n",
    "\n",
    "def forward_hook(module, args, output):\n",
    "  global activations # refers to the variable in the global scope\n",
    "  print('Forward hook running...')\n",
    "  activations = output\n",
    "  # In this case, we expect it to be torch.Size([batch size, 1024, 8, 8])\n",
    "  print(f'Activations size: {activations.size()}')"
   ]
  },
  {
   "cell_type": "code",
   "execution_count": 359,
   "metadata": {},
   "outputs": [],
   "source": [
    "backward_hook = net.fc2.register_full_backward_hook(backward_hook, prepend=False)\n",
    "forward_hook = net.fc2.register_forward_hook(forward_hook, prepend=False)"
   ]
  },
  {
   "cell_type": "code",
   "execution_count": 385,
   "metadata": {},
   "outputs": [],
   "source": [
    "img_tensor = fc_test[0,237,:,:,:].unsqueeze(0).type(torch.float32)\n",
    "label = labels_test[0,237]"
   ]
  },
  {
   "cell_type": "code",
   "execution_count": 386,
   "metadata": {},
   "outputs": [
    {
     "name": "stdout",
     "output_type": "stream",
     "text": [
      "Forward hook running...\n",
      "Activations size: torch.Size([1, 5, 76, 76])\n",
      "Backward hook running...\n",
      "Gradients size: torch.Size([1, 5, 76, 76])\n"
     ]
    }
   ],
   "source": [
    "net.eval()\n",
    "pred = net(img_tensor)\n",
    "pred.backward(torch.ones((1,3)))"
   ]
  },
  {
   "cell_type": "code",
   "execution_count": 387,
   "metadata": {},
   "outputs": [],
   "source": [
    "# pool the gradients across the channels\n",
    "pooled_gradients = torch.mean(gradients[0], dim=[0, 2, 3])"
   ]
  },
  {
   "cell_type": "code",
   "execution_count": 388,
   "metadata": {},
   "outputs": [
    {
     "data": {
      "text/plain": [
       "<matplotlib.image.AxesImage at 0x7f1ed58f93a0>"
      ]
     },
     "execution_count": 388,
     "metadata": {},
     "output_type": "execute_result"
    },
    {
     "data": {
      "image/png": "[encoded data removed]",
      "text/plain": [
       "<Figure size 480x480 with 1 Axes>"
      ]
     },
     "metadata": {},
     "output_type": "display_data"
    }
   ],
   "source": [
    "# weight the channels by corresponding gradients\n",
    "for i in range(activations.size()[1]):\n",
    "    activations[:, i, :, :] *= pooled_gradients[i]\n",
    "\n",
    "# average the channels of the activations\n",
    "heatmap = torch.mean(activations, dim=1).squeeze()\n",
    "\n",
    "# relu on top of the heatmap\n",
    "heatmap = F.relu(heatmap)\n",
    "\n",
    "# normalize the heatmap\n",
    "heatmap /= torch.max(heatmap)\n",
    "\n",
    "# draw the heatmap\n",
    "plt.matshow(heatmap.detach())"
   ]
  },
  {
   "cell_type": "code",
   "execution_count": 389,
   "metadata": {},
   "outputs": [
    {
     "name": "stdout",
     "output_type": "stream",
     "text": [
      "tensor([[1.0570e-05, 9.9999e-01, 1.3697e-06]], grad_fn=<ExpBackward0>)\n",
      "2\n"
     ]
    },
    {
     "data": {
      "text/plain": [
       "<matplotlib.image.AxesImage at 0x7f1ed5924430>"
      ]
     },
     "execution_count": 389,
     "metadata": {},
     "output_type": "execute_result"
    },
    {
     "data": {
      "image/png": "[encoded data removed]",
      "text/plain": [
       "<Figure size 640x480 with 1 Axes>"
      ]
     },
     "metadata": {},
     "output_type": "display_data"
    }
   ],
   "source": [
    "print(torch.exp(pred))\n",
    "print(label)\n",
    "plt.imshow(img_tensor.squeeze(0).squeeze(0))"
   ]
  },
  {
   "cell_type": "code",
   "execution_count": 296,
   "metadata": {},
   "outputs": [],
   "source": [
    "filter_maps = net.fc1.weight.detach().numpy()"
   ]
  },
  {
   "attachments": {},
   "cell_type": "markdown",
   "metadata": {},
   "source": [
    "## Test sur Jade"
   ]
  },
  {
   "cell_type": "code",
   "execution_count": 391,
   "metadata": {},
   "outputs": [],
   "source": [
    "forward_hook.remove()\n",
    "backward_hook.remove()"
   ]
  },
  {
   "cell_type": "code",
   "execution_count": 257,
   "metadata": {},
   "outputs": [],
   "source": [
    "valid = fc_test.reshape(fc_test.shape[0]*fc_test.shape[1],1,82,82).numpy()\n",
    "valid_loader = package.torch_classifier.SimpleDataset(valid,labels_test.flatten())"
   ]
  },
  {
   "cell_type": "code",
   "execution_count": 259,
   "metadata": {},
   "outputs": [
    {
     "name": "stdout",
     "output_type": "stream",
     "text": [
      "Test accuracy 69.23%\n"
     ]
    }
   ],
   "source": [
    "net.eval()\n",
    "\n",
    "# loop, over whole test set\n",
    "compteur_batch = 0\n",
    "net.eval()\n",
    "test_correct = 0\n",
    "\n",
    "for i, (batch,target) in enumerate(valid_loader):\n",
    "    output = net(batch.unsqueeze(0))\n",
    "    pred = output.max(1, keepdim=True)[1]\n",
    "    test_correct += pred[0,0].eq(target).sum().item()\n",
    "    compteur_batch+=1\n",
    "    \n",
    "print('Test accuracy {:.2f}%'.format(\n",
    "    100 * test_correct / (compteur_batch)))"
   ]
  },
  {
   "cell_type": "code",
   "execution_count": 351,
   "metadata": {},
   "outputs": [
    {
     "name": "stdout",
     "output_type": "stream",
     "text": [
      "True label : 2, Predicted label : 2, Probas : [0.08260743 0.04907328 0.8683193 ]\n",
      "True label : 2, Predicted label : 0, Probas : [0.3991746  0.2097877  0.39103764]\n",
      "True label : 2, Predicted label : 2, Probas : [0.20824935 0.37659764 0.415153  ]\n",
      "True label : 2, Predicted label : 2, Probas : [0.21357825 0.23991624 0.5465055 ]\n",
      "True label : 2, Predicted label : 2, Probas : [0.02803184 0.01170275 0.96026546]\n",
      "True label : 2, Predicted label : 2, Probas : [0.03773293 0.12387148 0.8383956 ]\n",
      "True label : 2, Predicted label : 2, Probas : [0.08220387 0.11487816 0.80291796]\n",
      "True label : 2, Predicted label : 2, Probas : [0.05534697 0.03153082 0.91312224]\n",
      "True label : 2, Predicted label : 2, Probas : [0.06470918 0.24968433 0.6856065 ]\n",
      "True label : 2, Predicted label : 2, Probas : [0.02574341 0.2204306  0.753826  ]\n",
      "True label : 2, Predicted label : 2, Probas : [0.08076604 0.21384177 0.70539224]\n",
      "True label : 2, Predicted label : 2, Probas : [0.10680876 0.13237809 0.76081324]\n",
      "True label : 2, Predicted label : 2, Probas : [0.06443392 0.14297044 0.79259557]\n",
      "True label : 2, Predicted label : 2, Probas : [0.13856956 0.06267827 0.7987522 ]\n",
      "True label : 2, Predicted label : 2, Probas : [0.06350005 0.06679422 0.86970574]\n",
      "True label : 2, Predicted label : 2, Probas : [0.11589599 0.17323609 0.71086794]\n",
      "True label : 2, Predicted label : 2, Probas : [0.21950592 0.22296607 0.557528  ]\n",
      "True label : 2, Predicted label : 2, Probas : [0.14444998 0.22645284 0.62909716]\n",
      "True label : 0, Predicted label : 0, Probas : [8.1322622e-01 1.8668813e-01 8.5662818e-05]\n",
      "True label : 0, Predicted label : 0, Probas : [0.8403911  0.10759865 0.05201024]\n",
      "True label : 1, Predicted label : 0, Probas : [0.6128941  0.38597625 0.00112962]\n",
      "True label : 1, Predicted label : 1, Probas : [0.36634514 0.62875503 0.00489981]\n",
      "True label : 1, Predicted label : 1, Probas : [0.43398857 0.5572899  0.00872156]\n",
      "True label : 1, Predicted label : 1, Probas : [2.8724095e-01 7.1234643e-01 4.1257995e-04]\n",
      "True label : 1, Predicted label : 0, Probas : [0.5222514  0.47214454 0.005604  ]\n",
      "True label : 1, Predicted label : 1, Probas : [0.3077395 0.6843578 0.0079027]\n",
      "True label : 1, Predicted label : 1, Probas : [4.4058490e-01 5.5927902e-01 1.3606767e-04]\n",
      "True label : 1, Predicted label : 1, Probas : [0.2923285  0.61853516 0.08913638]\n"
     ]
    }
   ],
   "source": [
    "for session in range(fc_test.shape[0]):\n",
    "    data = fc_test[session,:,:]\n",
    "    accu = torch.exp(net(data.type(torch.float32)))\n",
    "    probas = torch.sum(accu,dim = 0) / 464\n",
    "    res = torch.argmax(probas)\n",
    "    print(\"True label : {}, Predicted label : {}, Probas : {}\".format(labels_test[session,0],res,probas.detach().numpy()))"
   ]
  },
  {
   "cell_type": "code",
   "execution_count": 392,
   "metadata": {},
   "outputs": [
    {
     "name": "stdout",
     "output_type": "stream",
     "text": [
      "17 tensor([0.0908, 0.6010, 0.3082], grad_fn=<SliceBackward0>)\n",
      "18 tensor([0.3175, 0.5888, 0.0937], grad_fn=<SliceBackward0>)\n",
      "19 tensor([0.6369, 0.3419, 0.0213], grad_fn=<SliceBackward0>)\n",
      "20 tensor([0.9397, 0.0564, 0.0039], grad_fn=<SliceBackward0>)\n",
      "21 tensor([0.9919, 0.0070, 0.0011], grad_fn=<SliceBackward0>)\n",
      "22 tensor([9.9920e-01, 5.2046e-04, 2.7982e-04], grad_fn=<SliceBackward0>)\n",
      "23 tensor([9.9982e-01, 6.8170e-05, 1.0706e-04], grad_fn=<SliceBackward0>)\n",
      "24 tensor([9.9988e-01, 3.2104e-05, 8.3989e-05], grad_fn=<SliceBackward0>)\n",
      "25 tensor([9.9981e-01, 6.9146e-05, 1.1805e-04], grad_fn=<SliceBackward0>)\n",
      "26 tensor([9.9968e-01, 1.7626e-04, 1.4294e-04], grad_fn=<SliceBackward0>)\n",
      "27 tensor([9.9973e-01, 2.0311e-04, 6.2042e-05], grad_fn=<SliceBackward0>)\n",
      "28 tensor([9.9984e-01, 1.3627e-04, 2.2127e-05], grad_fn=<SliceBackward0>)\n",
      "29 tensor([9.9994e-01, 4.9118e-05, 7.9377e-06], grad_fn=<SliceBackward0>)\n",
      "30 tensor([9.9998e-01, 2.0371e-05, 3.6599e-06], grad_fn=<SliceBackward0>)\n",
      "31 tensor([1.0000e+00, 2.6266e-06, 8.8158e-07], grad_fn=<SliceBackward0>)\n",
      "32 tensor([1.0000e+00, 2.0655e-06, 5.5384e-07], grad_fn=<SliceBackward0>)\n",
      "33 tensor([9.9999e-01, 5.9719e-06, 8.4188e-07], grad_fn=<SliceBackward0>)\n",
      "34 tensor([9.9996e-01, 3.4674e-05, 2.2640e-06], grad_fn=<SliceBackward0>)\n",
      "35 tensor([9.9959e-01, 4.0209e-04, 9.2942e-06], grad_fn=<SliceBackward0>)\n",
      "36 tensor([9.9212e-01, 7.8126e-03, 6.4720e-05], grad_fn=<SliceBackward0>)\n",
      "37 tensor([7.6013e-01, 2.3935e-01, 5.2321e-04], grad_fn=<SliceBackward0>)\n",
      "38 tensor([0.2061, 0.7929, 0.0010], grad_fn=<SliceBackward0>)\n",
      "39 tensor([0.0734, 0.9255, 0.0011], grad_fn=<SliceBackward0>)\n",
      "40 tensor([0.0823, 0.9163, 0.0014], grad_fn=<SliceBackward0>)\n",
      "41 tensor([0.2770, 0.7213, 0.0017], grad_fn=<SliceBackward0>)\n",
      "42 tensor([0.3217, 0.6770, 0.0013], grad_fn=<SliceBackward0>)\n",
      "43 tensor([0.5522, 0.4468, 0.0010], grad_fn=<SliceBackward0>)\n",
      "44 tensor([0.4381, 0.5612, 0.0007], grad_fn=<SliceBackward0>)\n",
      "45 tensor([5.8013e-01, 4.1935e-01, 5.2068e-04], grad_fn=<SliceBackward0>)\n",
      "46 tensor([6.7853e-01, 3.2110e-01, 3.7554e-04], grad_fn=<SliceBackward0>)\n",
      "47 tensor([8.0919e-01, 1.9056e-01, 2.5065e-04], grad_fn=<SliceBackward0>)\n",
      "48 tensor([9.2531e-01, 7.4547e-02, 1.4156e-04], grad_fn=<SliceBackward0>)\n",
      "49 tensor([9.5943e-01, 4.0460e-02, 1.1065e-04], grad_fn=<SliceBackward0>)\n",
      "50 tensor([9.8246e-01, 1.7434e-02, 1.0294e-04], grad_fn=<SliceBackward0>)\n",
      "51 tensor([9.8588e-01, 1.3956e-02, 1.6723e-04], grad_fn=<SliceBackward0>)\n",
      "52 tensor([9.8106e-01, 1.8489e-02, 4.4798e-04], grad_fn=<SliceBackward0>)\n",
      "53 tensor([0.9797, 0.0190, 0.0013], grad_fn=<SliceBackward0>)\n",
      "54 tensor([0.9757, 0.0122, 0.0121], grad_fn=<SliceBackward0>)\n",
      "55 tensor([0.7502, 0.0224, 0.2274], grad_fn=<SliceBackward0>)\n",
      "69 tensor([0.0070, 0.6713, 0.3217], grad_fn=<SliceBackward0>)\n",
      "70 tensor([0.0234, 0.7923, 0.1843], grad_fn=<SliceBackward0>)\n",
      "71 tensor([0.0569, 0.8747, 0.0685], grad_fn=<SliceBackward0>)\n",
      "72 tensor([0.1771, 0.8084, 0.0145], grad_fn=<SliceBackward0>)\n",
      "73 tensor([0.1743, 0.8238, 0.0019], grad_fn=<SliceBackward0>)\n",
      "74 tensor([2.5349e-02, 9.7447e-01, 1.8505e-04], grad_fn=<SliceBackward0>)\n",
      "75 tensor([1.9730e-02, 9.8018e-01, 9.4730e-05], grad_fn=<SliceBackward0>)\n",
      "76 tensor([1.2968e-02, 9.8698e-01, 5.0283e-05], grad_fn=<SliceBackward0>)\n",
      "77 tensor([3.7628e-03, 9.9622e-01, 2.2109e-05], grad_fn=<SliceBackward0>)\n",
      "78 tensor([1.1443e-03, 9.9884e-01, 1.0916e-05], grad_fn=<SliceBackward0>)\n",
      "79 tensor([6.0067e-04, 9.9939e-01, 7.8651e-06], grad_fn=<SliceBackward0>)\n",
      "80 tensor([5.2410e-04, 9.9947e-01, 8.0849e-06], grad_fn=<SliceBackward0>)\n",
      "81 tensor([1.3565e-03, 9.9863e-01, 1.6033e-05], grad_fn=<SliceBackward0>)\n",
      "82 tensor([6.7765e-03, 9.9319e-01, 3.6818e-05], grad_fn=<SliceBackward0>)\n",
      "83 tensor([6.8026e-02, 9.3187e-01, 1.0472e-04], grad_fn=<SliceBackward0>)\n",
      "84 tensor([4.0022e-01, 5.9961e-01, 1.6472e-04], grad_fn=<SliceBackward0>)\n",
      "85 tensor([6.5010e-01, 3.4975e-01, 1.5191e-04], grad_fn=<SliceBackward0>)\n",
      "86 tensor([7.5822e-01, 2.4162e-01, 1.5668e-04], grad_fn=<SliceBackward0>)\n",
      "87 tensor([8.3838e-01, 1.6143e-01, 1.9034e-04], grad_fn=<SliceBackward0>)\n",
      "88 tensor([9.2692e-01, 7.2833e-02, 2.4746e-04], grad_fn=<SliceBackward0>)\n",
      "89 tensor([9.7910e-01, 2.0623e-02, 2.7918e-04], grad_fn=<SliceBackward0>)\n",
      "90 tensor([0.9735, 0.0254, 0.0011], grad_fn=<SliceBackward0>)\n",
      "91 tensor([0.9096, 0.0608, 0.0296], grad_fn=<SliceBackward0>)\n",
      "122 tensor([9.5802e-01, 2.1895e-04, 4.1757e-02], grad_fn=<SliceBackward0>)\n",
      "123 tensor([9.9678e-01, 8.2302e-05, 3.1380e-03], grad_fn=<SliceBackward0>)\n",
      "124 tensor([9.9961e-01, 4.9186e-05, 3.4189e-04], grad_fn=<SliceBackward0>)\n",
      "125 tensor([9.9992e-01, 3.6497e-05, 4.5942e-05], grad_fn=<SliceBackward0>)\n",
      "126 tensor([9.9994e-01, 4.6084e-05, 1.6766e-05], grad_fn=<SliceBackward0>)\n",
      "127 tensor([9.9991e-01, 7.4061e-05, 1.2100e-05], grad_fn=<SliceBackward0>)\n",
      "128 tensor([9.9993e-01, 6.3348e-05, 6.9562e-06], grad_fn=<SliceBackward0>)\n",
      "129 tensor([9.9998e-01, 1.8027e-05, 3.7527e-06], grad_fn=<SliceBackward0>)\n",
      "130 tensor([9.9999e-01, 7.5505e-06, 4.6463e-06], grad_fn=<SliceBackward0>)\n",
      "131 tensor([9.9998e-01, 9.4027e-06, 9.4027e-06], grad_fn=<SliceBackward0>)\n",
      "132 tensor([9.9968e-01, 3.6092e-05, 2.7975e-04], grad_fn=<SliceBackward0>)\n",
      "133 tensor([9.8937e-01, 1.1875e-04, 1.0512e-02], grad_fn=<SliceBackward0>)\n",
      "134 tensor([6.5589e-01, 4.5131e-04, 3.4366e-01], grad_fn=<SliceBackward0>)\n",
      "148 tensor([6.7857e-01, 4.2704e-04, 3.2101e-01], grad_fn=<SliceBackward0>)\n",
      "149 tensor([8.8075e-01, 5.9739e-04, 1.1865e-01], grad_fn=<SliceBackward0>)\n",
      "150 tensor([9.7876e-01, 5.3085e-04, 2.0709e-02], grad_fn=<SliceBackward0>)\n",
      "151 tensor([9.9581e-01, 3.5160e-04, 3.8374e-03], grad_fn=<SliceBackward0>)\n",
      "152 tensor([9.9914e-01, 1.8821e-04, 6.7477e-04], grad_fn=<SliceBackward0>)\n",
      "153 tensor([9.9975e-01, 1.5022e-04, 9.9493e-05], grad_fn=<SliceBackward0>)\n",
      "154 tensor([9.9990e-01, 6.7504e-05, 3.0729e-05], grad_fn=<SliceBackward0>)\n",
      "155 tensor([9.9980e-01, 1.7423e-04, 2.3410e-05], grad_fn=<SliceBackward0>)\n",
      "156 tensor([9.9908e-01, 8.8857e-04, 2.9284e-05], grad_fn=<SliceBackward0>)\n",
      "157 tensor([9.7053e-01, 2.9377e-02, 8.9662e-05], grad_fn=<SliceBackward0>)\n",
      "158 tensor([4.5928e-01, 5.4059e-01, 1.3673e-04], grad_fn=<SliceBackward0>)\n",
      "159 tensor([3.3375e-02, 9.6660e-01, 2.3955e-05], grad_fn=<SliceBackward0>)\n",
      "160 tensor([1.5096e-02, 9.8489e-01, 9.1079e-06], grad_fn=<SliceBackward0>)\n",
      "161 tensor([1.5197e-02, 9.8480e-01, 5.9668e-06], grad_fn=<SliceBackward0>)\n",
      "162 tensor([8.4491e-02, 9.1550e-01, 1.1806e-05], grad_fn=<SliceBackward0>)\n",
      "163 tensor([4.8740e-01, 5.1258e-01, 1.8148e-05], grad_fn=<SliceBackward0>)\n",
      "164 tensor([8.9971e-01, 1.0028e-01, 9.7157e-06], grad_fn=<SliceBackward0>)\n",
      "165 tensor([9.9438e-01, 5.6133e-03, 1.9618e-06], grad_fn=<SliceBackward0>)\n",
      "166 tensor([9.9995e-01, 5.4364e-05, 1.4571e-07], grad_fn=<SliceBackward0>)\n",
      "167 tensor([1.0000e+00, 1.1277e-06, 2.0911e-08], grad_fn=<SliceBackward0>)\n",
      "168 tensor([1.0000e+00, 7.8110e-08, 6.4816e-09], grad_fn=<SliceBackward0>)\n",
      "169 tensor([1.0000e+00, 2.1986e-08, 4.0783e-09], grad_fn=<SliceBackward0>)\n",
      "170 tensor([1.0000e+00, 2.0851e-08, 4.4812e-09], grad_fn=<SliceBackward0>)\n",
      "171 tensor([1.0000e+00, 1.1608e-08, 4.1218e-09], grad_fn=<SliceBackward0>)\n",
      "172 tensor([1.0000e+00, 1.3660e-08, 5.7357e-09], grad_fn=<SliceBackward0>)\n",
      "173 tensor([1.0000e+00, 3.3594e-08, 8.9072e-09], grad_fn=<SliceBackward0>)\n",
      "174 tensor([1.0000e+00, 6.7508e-08, 1.0179e-08], grad_fn=<SliceBackward0>)\n",
      "175 tensor([1.0000e+00, 7.2244e-08, 7.2032e-09], grad_fn=<SliceBackward0>)\n",
      "176 tensor([1.0000e+00, 8.9023e-08, 4.8325e-09], grad_fn=<SliceBackward0>)\n",
      "177 tensor([1.0000e+00, 7.8457e-08, 2.7273e-09], grad_fn=<SliceBackward0>)\n",
      "178 tensor([1.0000e+00, 7.9087e-08, 1.6829e-09], grad_fn=<SliceBackward0>)\n",
      "179 tensor([1.0000e+00, 5.5954e-08, 1.0212e-09], grad_fn=<SliceBackward0>)\n",
      "180 tensor([1.0000e+00, 4.2772e-08, 7.4353e-10], grad_fn=<SliceBackward0>)\n",
      "181 tensor([1.0000e+00, 3.7683e-08, 6.5755e-10], grad_fn=<SliceBackward0>)\n",
      "182 tensor([1.0000e+00, 7.7275e-08, 8.7359e-10], grad_fn=<SliceBackward0>)\n",
      "183 tensor([1.0000e+00, 1.1121e-07, 9.5322e-10], grad_fn=<SliceBackward0>)\n",
      "184 tensor([1.0000e+00, 1.4313e-07, 1.1066e-09], grad_fn=<SliceBackward0>)\n",
      "185 tensor([1.0000e+00, 4.5202e-07, 2.5694e-09], grad_fn=<SliceBackward0>)\n",
      "186 tensor([9.9999e-01, 5.0177e-06, 1.5404e-08], grad_fn=<SliceBackward0>)\n",
      "187 tensor([9.9997e-01, 3.1108e-05, 8.2427e-08], grad_fn=<SliceBackward0>)\n",
      "188 tensor([9.9981e-01, 1.9255e-04, 4.6452e-07], grad_fn=<SliceBackward0>)\n",
      "189 tensor([9.9953e-01, 4.6809e-04, 1.9840e-06], grad_fn=<SliceBackward0>)\n",
      "190 tensor([9.9667e-01, 3.3150e-03, 1.5524e-05], grad_fn=<SliceBackward0>)\n",
      "191 tensor([9.7301e-01, 2.6844e-02, 1.4262e-04], grad_fn=<SliceBackward0>)\n",
      "192 tensor([9.8957e-01, 9.5404e-03, 8.8764e-04], grad_fn=<SliceBackward0>)\n",
      "193 tensor([0.9911, 0.0042, 0.0047], grad_fn=<SliceBackward0>)\n",
      "194 tensor([0.9791, 0.0015, 0.0194], grad_fn=<SliceBackward0>)\n",
      "195 tensor([0.8768, 0.0009, 0.1223], grad_fn=<SliceBackward0>)\n",
      "196 tensor([0.5263, 0.0007, 0.4730], grad_fn=<SliceBackward0>)\n",
      "205 tensor([0.5774, 0.0011, 0.4215], grad_fn=<SliceBackward0>)\n",
      "206 tensor([0.7248, 0.0019, 0.2733], grad_fn=<SliceBackward0>)\n",
      "207 tensor([0.8608, 0.0049, 0.1344], grad_fn=<SliceBackward0>)\n",
      "208 tensor([0.9265, 0.0131, 0.0604], grad_fn=<SliceBackward0>)\n",
      "209 tensor([0.9226, 0.0446, 0.0328], grad_fn=<SliceBackward0>)\n",
      "210 tensor([0.8511, 0.1255, 0.0234], grad_fn=<SliceBackward0>)\n",
      "211 tensor([0.6778, 0.2911, 0.0312], grad_fn=<SliceBackward0>)\n",
      "212 tensor([0.2602, 0.7216, 0.0182], grad_fn=<SliceBackward0>)\n",
      "213 tensor([0.0895, 0.9035, 0.0070], grad_fn=<SliceBackward0>)\n",
      "214 tensor([0.0373, 0.9602, 0.0026], grad_fn=<SliceBackward0>)\n",
      "215 tensor([0.0917, 0.9059, 0.0024], grad_fn=<SliceBackward0>)\n",
      "216 tensor([0.0629, 0.9357, 0.0015], grad_fn=<SliceBackward0>)\n",
      "217 tensor([0.0224, 0.9750, 0.0026], grad_fn=<SliceBackward0>)\n",
      "218 tensor([0.0017, 0.9888, 0.0095], grad_fn=<SliceBackward0>)\n",
      "219 tensor([5.3385e-04, 8.7440e-01, 1.2507e-01], grad_fn=<SliceBackward0>)\n",
      "231 tensor([0.6632, 0.1639, 0.1728], grad_fn=<SliceBackward0>)\n",
      "232 tensor([0.8854, 0.0486, 0.0660], grad_fn=<SliceBackward0>)\n",
      "233 tensor([0.9587, 0.0139, 0.0275], grad_fn=<SliceBackward0>)\n",
      "234 tensor([0.9850, 0.0072, 0.0078], grad_fn=<SliceBackward0>)\n",
      "235 tensor([0.9808, 0.0144, 0.0048], grad_fn=<SliceBackward0>)\n",
      "236 tensor([0.9392, 0.0522, 0.0086], grad_fn=<SliceBackward0>)\n",
      "237 tensor([0.8969, 0.0856, 0.0175], grad_fn=<SliceBackward0>)\n",
      "238 tensor([0.7953, 0.1254, 0.0793], grad_fn=<SliceBackward0>)\n",
      "239 tensor([0.5601, 0.0946, 0.3454], grad_fn=<SliceBackward0>)\n",
      "242 tensor([0.1438, 0.4432, 0.4130], grad_fn=<SliceBackward0>)\n",
      "243 tensor([0.2865, 0.4847, 0.2288], grad_fn=<SliceBackward0>)\n",
      "244 tensor([0.3946, 0.4762, 0.1292], grad_fn=<SliceBackward0>)\n",
      "245 tensor([0.6623, 0.3015, 0.0361], grad_fn=<SliceBackward0>)\n",
      "246 tensor([0.9160, 0.0819, 0.0021], grad_fn=<SliceBackward0>)\n",
      "247 tensor([9.7480e-01, 2.5034e-02, 1.7012e-04], grad_fn=<SliceBackward0>)\n",
      "248 tensor([9.7341e-01, 2.6511e-02, 7.6375e-05], grad_fn=<SliceBackward0>)\n",
      "249 tensor([9.7653e-01, 2.3439e-02, 3.4372e-05], grad_fn=<SliceBackward0>)\n",
      "250 tensor([9.7795e-01, 2.2030e-02, 1.6968e-05], grad_fn=<SliceBackward0>)\n",
      "251 tensor([9.9305e-01, 6.9414e-03, 5.5230e-06], grad_fn=<SliceBackward0>)\n",
      "252 tensor([9.9782e-01, 2.1809e-03, 1.9598e-06], grad_fn=<SliceBackward0>)\n",
      "253 tensor([9.9891e-01, 1.0858e-03, 1.0003e-06], grad_fn=<SliceBackward0>)\n",
      "254 tensor([9.9760e-01, 2.3972e-03, 9.7374e-07], grad_fn=<SliceBackward0>)\n",
      "255 tensor([9.9397e-01, 6.0281e-03, 1.1642e-06], grad_fn=<SliceBackward0>)\n",
      "256 tensor([9.9344e-01, 6.5577e-03, 1.2293e-06], grad_fn=<SliceBackward0>)\n",
      "257 tensor([9.8364e-01, 1.6356e-02, 2.0227e-06], grad_fn=<SliceBackward0>)\n",
      "258 tensor([9.6044e-01, 3.9552e-02, 3.5656e-06], grad_fn=<SliceBackward0>)\n",
      "259 tensor([8.8955e-01, 1.1045e-01, 7.2647e-06], grad_fn=<SliceBackward0>)\n",
      "260 tensor([6.6361e-01, 3.3638e-01, 1.1706e-05], grad_fn=<SliceBackward0>)\n",
      "261 tensor([3.7187e-01, 6.2811e-01, 1.2872e-05], grad_fn=<SliceBackward0>)\n",
      "262 tensor([3.3255e-01, 6.6743e-01, 1.5225e-05], grad_fn=<SliceBackward0>)\n",
      "263 tensor([4.4737e-01, 5.5262e-01, 1.8966e-05], grad_fn=<SliceBackward0>)\n",
      "264 tensor([6.9702e-01, 3.0296e-01, 1.9994e-05], grad_fn=<SliceBackward0>)\n",
      "265 tensor([9.7349e-01, 2.6507e-02, 7.5897e-06], grad_fn=<SliceBackward0>)\n",
      "266 tensor([9.9749e-01, 2.5106e-03, 2.4253e-06], grad_fn=<SliceBackward0>)\n",
      "267 tensor([9.9828e-01, 1.7138e-03, 2.4860e-06], grad_fn=<SliceBackward0>)\n",
      "268 tensor([9.9757e-01, 2.4250e-03, 4.0268e-06], grad_fn=<SliceBackward0>)\n",
      "269 tensor([9.9616e-01, 3.8372e-03, 6.8795e-06], grad_fn=<SliceBackward0>)\n",
      "270 tensor([9.9068e-01, 9.3095e-03, 1.3788e-05], grad_fn=<SliceBackward0>)\n",
      "271 tensor([9.2429e-01, 7.5654e-02, 5.2657e-05], grad_fn=<SliceBackward0>)\n",
      "272 tensor([6.9374e-01, 3.0609e-01, 1.6838e-04], grad_fn=<SliceBackward0>)\n",
      "273 tensor([2.7428e-01, 7.2523e-01, 4.8375e-04], grad_fn=<SliceBackward0>)\n",
      "274 tensor([0.1526, 0.8443, 0.0032], grad_fn=<SliceBackward0>)\n",
      "275 tensor([0.0608, 0.9118, 0.0274], grad_fn=<SliceBackward0>)\n",
      "276 tensor([0.0327, 0.6582, 0.3091], grad_fn=<SliceBackward0>)\n",
      "298 tensor([0.1379, 0.4331, 0.4290], grad_fn=<SliceBackward0>)\n",
      "302 tensor([0.0045, 0.5026, 0.4928], grad_fn=<SliceBackward0>)\n",
      "303 tensor([0.0021, 0.6912, 0.3067], grad_fn=<SliceBackward0>)\n",
      "304 tensor([0.0010, 0.8778, 0.1212], grad_fn=<SliceBackward0>)\n",
      "305 tensor([7.2104e-04, 9.4696e-01, 5.2314e-02], grad_fn=<SliceBackward0>)\n",
      "306 tensor([0.0010, 0.9463, 0.0527], grad_fn=<SliceBackward0>)\n",
      "307 tensor([0.0046, 0.8559, 0.1395], grad_fn=<SliceBackward0>)\n",
      "308 tensor([0.0212, 0.6157, 0.3631], grad_fn=<SliceBackward0>)\n",
      "315 tensor([7.4992e-01, 2.9616e-04, 2.4979e-01], grad_fn=<SliceBackward0>)\n",
      "316 tensor([8.9527e-01, 1.6667e-04, 1.0457e-01], grad_fn=<SliceBackward0>)\n",
      "317 tensor([8.8957e-01, 1.8450e-04, 1.1024e-01], grad_fn=<SliceBackward0>)\n",
      "318 tensor([9.0243e-01, 1.7625e-04, 9.7389e-02], grad_fn=<SliceBackward0>)\n",
      "319 tensor([9.2871e-01, 1.3681e-04, 7.1154e-02], grad_fn=<SliceBackward0>)\n",
      "320 tensor([9.4271e-01, 7.6391e-05, 5.7211e-02], grad_fn=<SliceBackward0>)\n",
      "321 tensor([9.3706e-01, 5.4255e-05, 6.2881e-02], grad_fn=<SliceBackward0>)\n",
      "322 tensor([9.5540e-01, 4.1564e-05, 4.4560e-02], grad_fn=<SliceBackward0>)\n",
      "323 tensor([9.8909e-01, 1.5818e-05, 1.0897e-02], grad_fn=<SliceBackward0>)\n",
      "324 tensor([9.9692e-01, 6.7320e-06, 3.0756e-03], grad_fn=<SliceBackward0>)\n",
      "325 tensor([9.9917e-01, 2.8597e-06, 8.2811e-04], grad_fn=<SliceBackward0>)\n",
      "326 tensor([9.9987e-01, 9.9657e-07, 1.2617e-04], grad_fn=<SliceBackward0>)\n",
      "327 tensor([9.9998e-01, 3.5097e-07, 1.9065e-05], grad_fn=<SliceBackward0>)\n",
      "328 tensor([1.0000e+00, 1.9399e-07, 4.1969e-06], grad_fn=<SliceBackward0>)\n",
      "329 tensor([1.0000e+00, 1.0244e-07, 1.0742e-06], grad_fn=<SliceBackward0>)\n",
      "330 tensor([1.0000e+00, 3.7045e-08, 1.9254e-07], grad_fn=<SliceBackward0>)\n",
      "331 tensor([1.0000e+00, 2.8814e-08, 1.0463e-07], grad_fn=<SliceBackward0>)\n",
      "332 tensor([1.0000e+00, 3.2067e-08, 6.1133e-08], grad_fn=<SliceBackward0>)\n",
      "333 tensor([1.0000e+00, 4.4220e-08, 4.4220e-08], grad_fn=<SliceBackward0>)\n",
      "334 tensor([1.0000e+00, 1.2498e-07, 1.2498e-07], grad_fn=<SliceBackward0>)\n",
      "335 tensor([1.0000e+00, 4.7508e-07, 4.7508e-07], grad_fn=<SliceBackward0>)\n",
      "336 tensor([1.0000e+00, 1.5458e-06, 7.4467e-07], grad_fn=<SliceBackward0>)\n",
      "337 tensor([9.9999e-01, 8.1120e-06, 9.2828e-07], grad_fn=<SliceBackward0>)\n",
      "338 tensor([9.9992e-01, 7.3979e-05, 1.7427e-06], grad_fn=<SliceBackward0>)\n",
      "339 tensor([9.9976e-01, 2.3273e-04, 2.4109e-06], grad_fn=<SliceBackward0>)\n",
      "340 tensor([9.9975e-01, 2.4503e-04, 1.6498e-06], grad_fn=<SliceBackward0>)\n",
      "341 tensor([9.9980e-01, 1.9749e-04, 9.2026e-07], grad_fn=<SliceBackward0>)\n",
      "342 tensor([9.9981e-01, 1.8693e-04, 4.8935e-07], grad_fn=<SliceBackward0>)\n",
      "343 tensor([9.9937e-01, 6.3069e-04, 4.4205e-07], grad_fn=<SliceBackward0>)\n",
      "344 tensor([9.9502e-01, 4.9742e-03, 8.4582e-07], grad_fn=<SliceBackward0>)\n",
      "345 tensor([9.8755e-01, 1.2445e-02, 1.3700e-06], grad_fn=<SliceBackward0>)\n",
      "346 tensor([9.7736e-01, 2.2640e-02, 2.0341e-06], grad_fn=<SliceBackward0>)\n",
      "347 tensor([9.5552e-01, 4.4473e-02, 3.9782e-06], grad_fn=<SliceBackward0>)\n",
      "348 tensor([9.1699e-01, 8.2997e-02, 7.8300e-06], grad_fn=<SliceBackward0>)\n",
      "349 tensor([9.0990e-01, 9.0086e-02, 1.1975e-05], grad_fn=<SliceBackward0>)\n",
      "350 tensor([9.5065e-01, 4.9342e-02, 1.2384e-05], grad_fn=<SliceBackward0>)\n",
      "351 tensor([9.8740e-01, 1.2590e-02, 9.7571e-06], grad_fn=<SliceBackward0>)\n",
      "352 tensor([9.8337e-01, 1.6606e-02, 1.9990e-05], grad_fn=<SliceBackward0>)\n",
      "353 tensor([9.5953e-01, 4.0411e-02, 5.9797e-05], grad_fn=<SliceBackward0>)\n",
      "354 tensor([8.4428e-01, 1.5557e-01, 1.5753e-04], grad_fn=<SliceBackward0>)\n",
      "355 tensor([7.1326e-01, 2.8640e-01, 3.3822e-04], grad_fn=<SliceBackward0>)\n",
      "356 tensor([2.5079e-01, 7.4872e-01, 4.9270e-04], grad_fn=<SliceBackward0>)\n",
      "357 tensor([1.8796e-02, 9.8096e-01, 2.4064e-04], grad_fn=<SliceBackward0>)\n",
      "358 tensor([1.0904e-03, 9.9882e-01, 9.2203e-05], grad_fn=<SliceBackward0>)\n",
      "359 tensor([5.4535e-05, 9.9992e-01, 2.8733e-05], grad_fn=<SliceBackward0>)\n",
      "360 tensor([2.3394e-05, 9.9995e-01, 2.3394e-05], grad_fn=<SliceBackward0>)\n",
      "361 tensor([3.2634e-05, 9.9986e-01, 1.0393e-04], grad_fn=<SliceBackward0>)\n",
      "362 tensor([6.8622e-05, 9.9894e-01, 9.9029e-04], grad_fn=<SliceBackward0>)\n",
      "363 tensor([1.3870e-04, 9.8866e-01, 1.1206e-02], grad_fn=<SliceBackward0>)\n",
      "364 tensor([4.9819e-04, 7.4417e-01, 2.5533e-01], grad_fn=<SliceBackward0>)\n",
      "380 tensor([0.0316, 0.9479, 0.0204], grad_fn=<SliceBackward0>)\n",
      "381 tensor([4.4726e-03, 9.9501e-01, 5.2071e-04], grad_fn=<SliceBackward0>)\n",
      "382 tensor([1.1011e-03, 9.9887e-01, 2.8250e-05], grad_fn=<SliceBackward0>)\n",
      "383 tensor([6.1678e-04, 9.9938e-01, 7.0336e-06], grad_fn=<SliceBackward0>)\n",
      "384 tensor([3.3112e-04, 9.9967e-01, 2.1326e-06], grad_fn=<SliceBackward0>)\n",
      "385 tensor([2.8424e-04, 9.9971e-01, 1.0543e-06], grad_fn=<SliceBackward0>)\n",
      "386 tensor([5.4650e-04, 9.9945e-01, 1.0466e-06], grad_fn=<SliceBackward0>)\n",
      "387 tensor([2.8526e-03, 9.9715e-01, 2.0122e-06], grad_fn=<SliceBackward0>)\n",
      "388 tensor([8.9609e-03, 9.9103e-01, 5.3615e-06], grad_fn=<SliceBackward0>)\n",
      "389 tensor([1.7912e-02, 9.8207e-01, 1.4133e-05], grad_fn=<SliceBackward0>)\n",
      "390 tensor([4.6477e-02, 9.5347e-01, 5.7461e-05], grad_fn=<SliceBackward0>)\n",
      "391 tensor([5.9359e-02, 9.4048e-01, 1.5784e-04], grad_fn=<SliceBackward0>)\n",
      "392 tensor([2.0984e-01, 7.8961e-01, 5.5321e-04], grad_fn=<SliceBackward0>)\n",
      "393 tensor([0.8168, 0.1819, 0.0013], grad_fn=<SliceBackward0>)\n",
      "394 tensor([0.8993, 0.0933, 0.0074], grad_fn=<SliceBackward0>)\n",
      "395 tensor([0.8868, 0.0594, 0.0538], grad_fn=<SliceBackward0>)\n",
      "396 tensor([0.8225, 0.0254, 0.1521], grad_fn=<SliceBackward0>)\n",
      "397 tensor([0.5891, 0.0125, 0.3983], grad_fn=<SliceBackward0>)\n",
      "428 tensor([0.0031, 0.6687, 0.3282], grad_fn=<SliceBackward0>)\n",
      "429 tensor([0.0104, 0.8413, 0.1483], grad_fn=<SliceBackward0>)\n",
      "430 tensor([0.0264, 0.9265, 0.0471], grad_fn=<SliceBackward0>)\n",
      "431 tensor([0.0391, 0.9512, 0.0097], grad_fn=<SliceBackward0>)\n",
      "432 tensor([0.0306, 0.9668, 0.0025], grad_fn=<SliceBackward0>)\n",
      "433 tensor([0.0204, 0.9784, 0.0011], grad_fn=<SliceBackward0>)\n",
      "434 tensor([0.0365, 0.9615, 0.0019], grad_fn=<SliceBackward0>)\n",
      "435 tensor([0.0580, 0.9351, 0.0069], grad_fn=<SliceBackward0>)\n",
      "436 tensor([0.0686, 0.8926, 0.0388], grad_fn=<SliceBackward0>)\n",
      "437 tensor([0.0447, 0.4997, 0.4556], grad_fn=<SliceBackward0>)\n",
      "453 tensor([3.8830e-04, 9.3502e-01, 6.4590e-02], grad_fn=<SliceBackward0>)\n",
      "454 tensor([3.1577e-04, 9.9737e-01, 2.3137e-03], grad_fn=<SliceBackward0>)\n",
      "455 tensor([3.5268e-04, 9.9922e-01, 4.2660e-04], grad_fn=<SliceBackward0>)\n",
      "456 tensor([4.7956e-04, 9.9926e-01, 2.5930e-04], grad_fn=<SliceBackward0>)\n",
      "457 tensor([4.0653e-04, 9.9922e-01, 3.7725e-04], grad_fn=<SliceBackward0>)\n",
      "458 tensor([8.0236e-05, 9.9873e-01, 1.1858e-03], grad_fn=<SliceBackward0>)\n",
      "459 tensor([7.7348e-05, 9.9082e-01, 9.1033e-03], grad_fn=<SliceBackward0>)\n",
      "460 tensor([1.3129e-04, 7.0664e-01, 2.9323e-01], grad_fn=<SliceBackward0>)\n"
     ]
    }
   ],
   "source": [
    "data = fc_test[1,:,:]\n",
    "probas = torch.exp(net(data.type(torch.float32)))\n",
    "for i in range(464):\n",
    "    pred = torch.argmax(probas[i,:])\n",
    "    if pred < 2 :\n",
    "        print(i, probas[i,:])"
   ]
  },
  {
   "cell_type": "code",
   "execution_count": 402,
   "metadata": {},
   "outputs": [
    {
     "data": {
      "text/plain": [
       "<matplotlib.image.AxesImage at 0x7f1ed0054ac0>"
      ]
     },
     "execution_count": 402,
     "metadata": {},
     "output_type": "execute_result"
    },
    {
     "data": {
      "image/png": "[encoded data removed]",
      "text/plain": [
       "<Figure size 640x480 with 1 Axes>"
      ]
     },
     "metadata": {},
     "output_type": "display_data"
    }
   ],
   "source": [
    "plt.imshow(fc_test[1,247,0,:,:])"
   ]
  },
  {
   "cell_type": "code",
   "execution_count": 414,
   "metadata": {},
   "outputs": [
    {
     "name": "stdout",
     "output_type": "stream",
     "text": [
      "[(0, 2), (1, 2), (2, 2), (3, 2), (4, 2), (5, 2), (6, 2), (7, 2), (8, 2), (9, 2), (10, 2), (11, 2), (12, 2), (13, 0), (14, 0), (15, 0), (16, 0), (17, 0), (18, 0), (19, 0), (20, 0), (21, 0), (22, 0), (23, 0), (24, 0), (25, 0), (26, 0), (27, 0), (28, 0), (29, 0), (30, 0), (31, 0), (32, 0), (33, 0), (34, 0), (35, 0), (36, 1), (37, 1), (38, 1), (39, 1), (40, 1), (41, 1), (42, 1), (43, 1), (44, 1), (45, 1), (46, 1), (47, 1), (48, 1), (49, 1), (50, 1), (51, 1), (52, 1), (53, 1), (54, 1), (55, 1), (56, 1), (57, 1)]\n"
     ]
    },
    {
     "ename": "",
     "evalue": "",
     "output_type": "error",
     "traceback": [
      "\u001b[1;31mThe Kernel crashed while executing code in the the current cell or a previous cell. Please review the code in the cell(s) to identify a possible cause of the failure. Click <a href='https://aka.ms/vscodeJupyterKernelCrash'>here</a> for more info. View Jupyter <a href='command:jupyter.viewOutput'>log</a> for further details."
     ]
    }
   ],
   "source": [
    "session_train = [(i,labels_train[i,0]) for i in range(len(labels_train))]\n",
    "print(session_train)"
   ]
  },
  {
   "cell_type": "code",
   "execution_count": 410,
   "metadata": {},
   "outputs": [],
   "source": [
    "session_condition = [(i,meta[\"condition\"].iloc[464*i],meta[\"monkey\"].iloc[464*i]) for i in range(len(meta)//464)]"
   ]
  },
  {
   "cell_type": "code",
   "execution_count": 411,
   "metadata": {},
   "outputs": [
    {
     "data": {
      "text/plain": [
       "[(0, 'awake', 'almira'),\n",
       " (1, 'awake', 'almira'),\n",
       " (2, 'awake', 'almira'),\n",
       " (3, 'awake', 'almira'),\n",
       " (4, 'awake', 'jade'),\n",
       " (5, 'awake', 'jade'),\n",
       " (6, 'awake', 'jade'),\n",
       " (7, 'awake', 'jade'),\n",
       " (8, 'awake', 'jade'),\n",
       " (9, 'awake', 'jade'),\n",
       " (10, 'awake', 'jade'),\n",
       " (11, 'awake', 'jade'),\n",
       " (12, 'awake', 'jade'),\n",
       " (13, 'awake', 'jade'),\n",
       " (14, 'awake', 'jade'),\n",
       " (15, 'awake', 'jade'),\n",
       " (16, 'awake', 'jade'),\n",
       " (17, 'awake', 'jade'),\n",
       " (18, 'awake', 'jade'),\n",
       " (19, 'awake', 'jade'),\n",
       " (20, 'awake', 'jade'),\n",
       " (21, 'awake', 'jade'),\n",
       " (22, 'awake', 'khali'),\n",
       " (23, 'awake', 'khali'),\n",
       " (24, 'awake', 'khali'),\n",
       " (25, 'awake', 'khali'),\n",
       " (26, 'awake', 'khali'),\n",
       " (27, 'awake', 'khali'),\n",
       " (28, 'awake', 'khali'),\n",
       " (29, 'awake', 'khali'),\n",
       " (30, 'awake', 'khali'),\n",
       " (31, 'ketamine', 'khali'),\n",
       " (32, 'ketamine', 'khali'),\n",
       " (33, 'ketamine', 'khali'),\n",
       " (34, 'ketamine', 'khali'),\n",
       " (35, 'ketamine', 'khali'),\n",
       " (36, 'ketamine', 'khali'),\n",
       " (37, 'ketamine', 'khali'),\n",
       " (38, 'ketamine', 'khali'),\n",
       " (39, 'ketamine', 'kimiko'),\n",
       " (40, 'ketamine', 'kimiko'),\n",
       " (41, 'ketamine', 'kimiko'),\n",
       " (42, 'ketamine', 'kimiko'),\n",
       " (43, 'ketamine', 'kimiko'),\n",
       " (44, 'ketamine', 'kimiko'),\n",
       " (45, 'ketamine', 'kimiko'),\n",
       " (46, 'ketamine', 'rana'),\n",
       " (47, 'ketamine', 'rana'),\n",
       " (48, 'ketamine', 'rana'),\n",
       " (49, 'ketamine', 'rana'),\n",
       " (50, 'ketamine', 'rana'),\n",
       " (51, 'ketamine', 'rana'),\n",
       " (52, 'ketamine', 'rana'),\n",
       " (53, 'ketamine', 'rana'),\n",
       " (54, 'ketamine', 'rana'),\n",
       " (55, 'ketamine', 'rana'),\n",
       " (56, 'light-propofol', 'jade'),\n",
       " (57, 'light-propofol', 'jade'),\n",
       " (58, 'light-propofol', 'khali'),\n",
       " (59, 'light-propofol', 'khali'),\n",
       " (60, 'light-propofol', 'khali'),\n",
       " (61, 'light-propofol', 'khali'),\n",
       " (62, 'light-propofol', 'khali'),\n",
       " (63, 'light-propofol', 'khali'),\n",
       " (64, 'light-propofol', 'khali'),\n",
       " (65, 'light-propofol', 'khali'),\n",
       " (66, 'light-propofol', 'khali'),\n",
       " (67, 'light-propofol', 'khali'),\n",
       " (68, 'light-propofol', 'khali'),\n",
       " (69, 'light-propofol', 'rana'),\n",
       " (70, 'light-propofol', 'rana'),\n",
       " (71, 'light-propofol', 'rana'),\n",
       " (72, 'light-propofol', 'rana'),\n",
       " (73, 'light-propofol', 'rana'),\n",
       " (74, 'light-propofol', 'rana'),\n",
       " (75, 'light-propofol', 'rana'),\n",
       " (76, 'light-propofol', 'rana'),\n",
       " (77, 'light-propofol', 'rana'),\n",
       " (78, 'light-propofol', 'rana'),\n",
       " (79, 'light-propofol', 'rana'),\n",
       " (80, 'light-propofol', 'rana'),\n",
       " (81, 'deep-propofol', 'jade'),\n",
       " (82, 'deep-propofol', 'jade'),\n",
       " (83, 'deep-propofol', 'jade'),\n",
       " (84, 'deep-propofol', 'jade'),\n",
       " (85, 'deep-propofol', 'jade'),\n",
       " (86, 'deep-propofol', 'jade'),\n",
       " (87, 'deep-propofol', 'jade'),\n",
       " (88, 'deep-propofol', 'jade'),\n",
       " (89, 'deep-propofol', 'khali'),\n",
       " (90, 'deep-propofol', 'khali'),\n",
       " (91, 'deep-propofol', 'khali'),\n",
       " (92, 'deep-propofol', 'khali'),\n",
       " (93, 'deep-propofol', 'khali'),\n",
       " (94, 'deep-propofol', 'khali'),\n",
       " (95, 'deep-propofol', 'khali'),\n",
       " (96, 'deep-propofol', 'khali'),\n",
       " (97, 'deep-propofol', 'khali'),\n",
       " (98, 'deep-propofol', 'khali'),\n",
       " (99, 'deep-propofol', 'rana'),\n",
       " (100, 'deep-propofol', 'rana'),\n",
       " (101, 'deep-propofol', 'rana'),\n",
       " (102, 'deep-propofol', 'rana'),\n",
       " (103, 'deep-propofol', 'rana'),\n",
       " (104, 'deep-propofol', 'rana'),\n",
       " (105, 'deep-propofol', 'rana'),\n",
       " (106, 'deep-propofol', 'rana'),\n",
       " (107, 'deep-propofol', 'rana'),\n",
       " (108, 'deep-propofol', 'rana'),\n",
       " (109, 'deep-propofol', 'rana'),\n",
       " (110, 'deep-propofol', 'rana'),\n",
       " (111, 'light-sevoflurane', 'jade'),\n",
       " (112, 'light-sevoflurane', 'jade'),\n",
       " (113, 'light-sevoflurane', 'jade'),\n",
       " (114, 'light-sevoflurane', 'jade'),\n",
       " (115, 'light-sevoflurane', 'jade'),\n",
       " (116, 'light-sevoflurane', 'kimiko'),\n",
       " (117, 'light-sevoflurane', 'kimiko'),\n",
       " (118, 'light-sevoflurane', 'kimiko'),\n",
       " (119, 'light-sevoflurane', 'kimiko'),\n",
       " (120, 'light-sevoflurane', 'kimiko'),\n",
       " (121, 'light-sevoflurane', 'kimiko'),\n",
       " (122, 'light-sevoflurane', 'kimiko'),\n",
       " (123, 'light-sevoflurane', 'kimiko'),\n",
       " (124, 'light-sevoflurane', 'kimiko'),\n",
       " (125, 'light-sevoflurane', 'kimiko'),\n",
       " (126, 'light-sevoflurane', 'rana'),\n",
       " (127, 'light-sevoflurane', 'rana'),\n",
       " (128, 'light-sevoflurane', 'rana'),\n",
       " (129, 'light-sevoflurane', 'rana'),\n",
       " (130, 'light-sevoflurane', 'rana'),\n",
       " (131, 'light-sevoflurane', 'rana'),\n",
       " (132, 'light-sevoflurane', 'rana'),\n",
       " (133, 'light-sevoflurane', 'rana'),\n",
       " (134, 'light-sevoflurane', 'rana'),\n",
       " (135, 'light-sevoflurane', 'rana'),\n",
       " (136, 'deep-sevoflurane', 'jade'),\n",
       " (137, 'deep-sevoflurane', 'jade'),\n",
       " (138, 'deep-sevoflurane', 'kimiko'),\n",
       " (139, 'deep-sevoflurane', 'kimiko'),\n",
       " (140, 'deep-sevoflurane', 'kimiko'),\n",
       " (141, 'deep-sevoflurane', 'kimiko'),\n",
       " (142, 'deep-sevoflurane', 'kimiko'),\n",
       " (143, 'deep-sevoflurane', 'kimiko'),\n",
       " (144, 'deep-sevoflurane', 'kimiko'),\n",
       " (145, 'deep-sevoflurane', 'kimiko'),\n",
       " (146, 'deep-sevoflurane', 'rana'),\n",
       " (147, 'deep-sevoflurane', 'rana'),\n",
       " (148, 'deep-sevoflurane', 'rana'),\n",
       " (149, 'deep-sevoflurane', 'rana'),\n",
       " (150, 'deep-sevoflurane', 'rana'),\n",
       " (151, 'deep-sevoflurane', 'rana'),\n",
       " (152, 'deep-sevoflurane', 'rana'),\n",
       " (153, 'deep-sevoflurane', 'rana'),\n",
       " (154, 'deep-sevoflurane', 'rana'),\n",
       " (155, 'deep-sevoflurane', 'rana')]"
      ]
     },
     "execution_count": 411,
     "metadata": {},
     "output_type": "execute_result"
    }
   ],
   "source": [
    "session_condition"
   ]
  },
  {
   "attachments": {},
   "cell_type": "markdown",
   "metadata": {},
   "source": [
    "## Cebra with concat"
   ]
  },
  {
   "cell_type": "code",
   "execution_count": 9,
   "metadata": {},
   "outputs": [],
   "source": [
    "dict_labels = {\"light-propofol\" : 0, \"deep-propofol\" : 1, \"awake\" : 2}"
   ]
  },
  {
   "cell_type": "code",
   "execution_count": 57,
   "metadata": {},
   "outputs": [],
   "source": [
    "meta_test = meta[meta[\"monkey\"].isin(['jade']) & (meta[\"condition\"].isin([\"light-propofol\",\"deep-propofol\"]))][\"condition\"]\n",
    "labels_test_condition = np.array([meta_test.iloc[i] for i in range(len(meta_test))])\n",
    "labels_test = np.array([dict_labels[elem] for elem in labels_test_condition]).reshape((len(labels_test_condition)//464,464))"
   ]
  },
  {
   "cell_type": "code",
   "execution_count": 26,
   "metadata": {},
   "outputs": [],
   "source": [
    "meta_train = meta[meta[\"monkey\"].isin(['almira', 'khali', 'kimiko', 'rana']) & (meta[\"condition\"].isin([\"light-propofol\",\"deep-propofol\"]))][\"condition\"]\n",
    "labels_train_condition = np.array([meta_train.iloc[i] for i in range(len(meta_train))])\n",
    "labels_train = np.array([dict_labels[elem] for elem in labels_train_condition]).reshape((len(labels_train_condition)//464,464))"
   ]
  },
  {
   "cell_type": "code",
   "execution_count": 37,
   "metadata": {},
   "outputs": [],
   "source": [
    "#We define the architecture of the model we will use\n",
    "\n",
    "num_output = 3\n",
    "normalize = True\n",
    "num_neurons = 3321\n",
    "\n",
    "model = cebra2.model.Model(\n",
    "    nn.Conv2d(10, 30, kernel_size=(5,5)),\n",
    "    nn.ReLU(),\n",
    "    #self.drop1 = nn.Dropout(0.3)\n",
    "\n",
    "    nn.Conv2d(30, 30, kernel_size=(3,3)),\n",
    "    nn.ReLU(),\n",
    "    nn.MaxPool2d(kernel_size=(5, 5)),\n",
    "\n",
    "    nn.Flatten(),\n",
    "\n",
    "    nn.Linear(1470, 512),\n",
    "    nn.ReLU(),\n",
    "    #nn.Dropout(0.5),\n",
    "\n",
    "    nn.Linear(512, 20),\n",
    "    nn.Linear(\n",
    "        20,\n",
    "        3,\n",
    "    ),\n",
    "    num_input=num_neurons,\n",
    "    num_output=num_output,\n",
    "    normalize = True\n",
    "        )"
   ]
  },
  {
   "cell_type": "code",
   "execution_count": 52,
   "metadata": {},
   "outputs": [],
   "source": [
    "dfc_train = dfc[meta[\"monkey\"].isin(['almira', 'khali', 'kimiko', 'rana']) & (meta[\"condition\"].isin(['light-propofol', 'deep-propofol']))].reshape((-1, n_wins, 82, 82))\n",
    "dfc_test = dfc[meta[\"monkey\"].isin(['jade']) & (meta[\"condition\"].isin(['light-propofol', 'deep-propofol']))].reshape((-1, n_wins, 82, 82))\n",
    "accu = torch.from_numpy(dfc_train.reshape((dfc_train.shape[0]*dfc_train.shape[1],1,82,82)))\n",
    "fc_train = nn.AvgPool2d(kernel_size=(2, 2),stride = (2,2))(accu).reshape((dfc_train.shape[0],dfc_train.shape[1],1,41,41))\n",
    "accu = torch.from_numpy(dfc_test.reshape((dfc_test.shape[0]*dfc_train.shape[1],1,82,82)))\n",
    "fc_test = nn.AvgPool2d(kernel_size=(2, 2),stride = (2,2))(accu).reshape((dfc_test.shape[0],dfc_test.shape[1],1,41,41))"
   ]
  },
  {
   "cell_type": "code",
   "execution_count": 53,
   "metadata": {},
   "outputs": [],
   "source": [
    "n = 10\n",
    "fc_train_cat = torch.cat([fc_train[:,i:-n+i,:,:,:] for i in range(n)],dim = 2)\n",
    "fc_test_cat = torch.cat([fc_test[:,i:-n+i,:,:,:] for i in range(n)],dim = 2)\n",
    "discrete = labels_train[:,:-10]"
   ]
  },
  {
   "cell_type": "code",
   "execution_count": 35,
   "metadata": {},
   "outputs": [],
   "source": [
    "fc_dataset = cebra2.dataset.SimpleMultiSessionDataset(fc_train_cat,discrete = discrete)\n",
    "fc_loader = cebra2.dataset.MultiSessionLoader(fc_dataset, num_steps = 1000, batch_size = 500,  time_delta = 5) #, matrix_delta = 0.5)"
   ]
  },
  {
   "cell_type": "code",
   "execution_count": 38,
   "metadata": {},
   "outputs": [
    {
     "name": "stdout",
     "output_type": "stream",
     "text": [
      "Epoch 0\n",
      "Train loss 6.2144, Train accuracy 0.00%\n",
      "Epoch 100\n",
      "Train loss 5.8930, Train accuracy 0.00%\n",
      "Epoch 200\n",
      "Train loss 5.8174, Train accuracy 0.00%\n",
      "Epoch 300\n",
      "Train loss 5.7245, Train accuracy 0.00%\n",
      "Epoch 400\n",
      "Train loss 5.6713, Train accuracy 0.00%\n",
      "Epoch 500\n",
      "Train loss 5.6242, Train accuracy 0.00%\n",
      "Epoch 600\n",
      "Train loss 5.6352, Train accuracy 0.00%\n",
      "Epoch 700\n",
      "Train loss 5.6304, Train accuracy 0.00%\n",
      "Epoch 800\n",
      "Train loss 5.6140, Train accuracy 0.00%\n",
      "Epoch 900\n",
      "Train loss 5.6257, Train accuracy 0.00%\n"
     ]
    },
    {
     "ename": "KeyboardInterrupt",
     "evalue": "",
     "output_type": "error",
     "traceback": [
      "\u001b[0;31m---------------------------------------------------------------------------\u001b[0m",
      "\u001b[0;31mKeyboardInterrupt\u001b[0m                         Traceback (most recent call last)",
      "Cell \u001b[0;32mIn[38], line 5\u001b[0m\n\u001b[1;32m      1\u001b[0m cebra_fc \u001b[39m=\u001b[39m single_session_solver(data_loader \u001b[39m=\u001b[39m fc_loader, model_architecture \u001b[39m=\u001b[39m \u001b[39m'\u001b[39m\u001b[39moffset1-model\u001b[39m\u001b[39m'\u001b[39m, \n\u001b[1;32m      2\u001b[0m                  distance \u001b[39m=\u001b[39m \u001b[39m'\u001b[39m\u001b[39mcosine\u001b[39m\u001b[39m'\u001b[39m, num_hidden_units \u001b[39m=\u001b[39m \u001b[39m128\u001b[39m, output_dimension \u001b[39m=\u001b[39m \u001b[39m128\u001b[39m,\n\u001b[1;32m      3\u001b[0m                 verbose \u001b[39m=\u001b[39m \u001b[39mTrue\u001b[39;00m, temperature \u001b[39m=\u001b[39m \u001b[39m1\u001b[39m, beta \u001b[39m=\u001b[39m \u001b[39m1\u001b[39m,learning_rate \u001b[39m=\u001b[39m \u001b[39m3e-4\u001b[39m, model \u001b[39m=\u001b[39m model)\n\u001b[0;32m----> 5\u001b[0m cebra_fc\u001b[39m.\u001b[39;49mfit(fc_loader)\n",
      "File \u001b[0;32m/volatile/aurelien_stumpf_mascles/project/code/cebra_v2/solver.py:119\u001b[0m, in \u001b[0;36mSingleSessionSolver.fit\u001b[0;34m(self, loader, valid_loader, save_frequency, valid_frequency, decode, logdir)\u001b[0m\n\u001b[1;32m    117\u001b[0m \u001b[39mself\u001b[39m\u001b[39m.\u001b[39mmodel\u001b[39m.\u001b[39mtrain()\n\u001b[1;32m    118\u001b[0m \u001b[39mfor\u001b[39;00m id_step, batch \u001b[39min\u001b[39;00m iterator:\n\u001b[0;32m--> 119\u001b[0m     stats \u001b[39m=\u001b[39m \u001b[39mself\u001b[39;49m\u001b[39m.\u001b[39;49mstep(batch)\n\u001b[1;32m    121\u001b[0m     \u001b[39mif\u001b[39;00m id_step \u001b[39m%\u001b[39m \u001b[39m100\u001b[39m \u001b[39m==\u001b[39m \u001b[39m0\u001b[39m : \n\u001b[1;32m    122\u001b[0m         \u001b[39mprint\u001b[39m(\u001b[39m'\u001b[39m\u001b[39mEpoch \u001b[39m\u001b[39m{}\u001b[39;00m\u001b[39m'\u001b[39m\u001b[39m.\u001b[39mformat(id_step))\n",
      "File \u001b[0;32m/volatile/aurelien_stumpf_mascles/project/code/cebra_v2/solver.py:77\u001b[0m, in \u001b[0;36mSingleSessionSolver.step\u001b[0;34m(self, batch)\u001b[0m\n\u001b[1;32m     72\u001b[0m prediction \u001b[39m=\u001b[39m \u001b[39mself\u001b[39m\u001b[39m.\u001b[39m_inference(batch)\n\u001b[1;32m     73\u001b[0m loss, align, uniform \u001b[39m=\u001b[39m \u001b[39mself\u001b[39m\u001b[39m.\u001b[39mcriterion(prediction\u001b[39m.\u001b[39mreference,\n\u001b[1;32m     74\u001b[0m                                       prediction\u001b[39m.\u001b[39mpositive,\n\u001b[1;32m     75\u001b[0m                                       prediction\u001b[39m.\u001b[39mnegative)\n\u001b[0;32m---> 77\u001b[0m loss\u001b[39m.\u001b[39;49mbackward()\n\u001b[1;32m     78\u001b[0m \u001b[39mself\u001b[39m\u001b[39m.\u001b[39moptimizer\u001b[39m.\u001b[39mstep()\n\u001b[1;32m     79\u001b[0m \u001b[39mself\u001b[39m\u001b[39m.\u001b[39mhistory\u001b[39m.\u001b[39mappend(loss\u001b[39m.\u001b[39mitem())\n",
      "File \u001b[0;32m/volatile/aurelien_stumpf_mascles/project/env/lib/python3.8/site-packages/torch/_tensor.py:487\u001b[0m, in \u001b[0;36mTensor.backward\u001b[0;34m(self, gradient, retain_graph, create_graph, inputs)\u001b[0m\n\u001b[1;32m    477\u001b[0m \u001b[39mif\u001b[39;00m has_torch_function_unary(\u001b[39mself\u001b[39m):\n\u001b[1;32m    478\u001b[0m     \u001b[39mreturn\u001b[39;00m handle_torch_function(\n\u001b[1;32m    479\u001b[0m         Tensor\u001b[39m.\u001b[39mbackward,\n\u001b[1;32m    480\u001b[0m         (\u001b[39mself\u001b[39m,),\n\u001b[0;32m   (...)\u001b[0m\n\u001b[1;32m    485\u001b[0m         inputs\u001b[39m=\u001b[39minputs,\n\u001b[1;32m    486\u001b[0m     )\n\u001b[0;32m--> 487\u001b[0m torch\u001b[39m.\u001b[39;49mautograd\u001b[39m.\u001b[39;49mbackward(\n\u001b[1;32m    488\u001b[0m     \u001b[39mself\u001b[39;49m, gradient, retain_graph, create_graph, inputs\u001b[39m=\u001b[39;49minputs\n\u001b[1;32m    489\u001b[0m )\n",
      "File \u001b[0;32m/volatile/aurelien_stumpf_mascles/project/env/lib/python3.8/site-packages/torch/autograd/__init__.py:200\u001b[0m, in \u001b[0;36mbackward\u001b[0;34m(tensors, grad_tensors, retain_graph, create_graph, grad_variables, inputs)\u001b[0m\n\u001b[1;32m    195\u001b[0m     retain_graph \u001b[39m=\u001b[39m create_graph\n\u001b[1;32m    197\u001b[0m \u001b[39m# The reason we repeat same the comment below is that\u001b[39;00m\n\u001b[1;32m    198\u001b[0m \u001b[39m# some Python versions print out the first line of a multi-line function\u001b[39;00m\n\u001b[1;32m    199\u001b[0m \u001b[39m# calls in the traceback and some print out the last line\u001b[39;00m\n\u001b[0;32m--> 200\u001b[0m Variable\u001b[39m.\u001b[39;49m_execution_engine\u001b[39m.\u001b[39;49mrun_backward(  \u001b[39m# Calls into the C++ engine to run the backward pass\u001b[39;49;00m\n\u001b[1;32m    201\u001b[0m     tensors, grad_tensors_, retain_graph, create_graph, inputs,\n\u001b[1;32m    202\u001b[0m     allow_unreachable\u001b[39m=\u001b[39;49m\u001b[39mTrue\u001b[39;49;00m, accumulate_grad\u001b[39m=\u001b[39;49m\u001b[39mTrue\u001b[39;49;00m)\n",
      "\u001b[0;31mKeyboardInterrupt\u001b[0m: "
     ]
    }
   ],
   "source": [
    "cebra_fc = single_session_solver(data_loader = fc_loader, model_architecture = 'offset1-model', \n",
    "                 distance = 'cosine', num_hidden_units = 128, output_dimension = 128,\n",
    "                verbose = True, temperature = 1, beta = 1,learning_rate = 3e-4, model = model)\n",
    "\n",
    "cebra_fc.fit(fc_loader)"
   ]
  }
 ],
 "metadata": {
  "kernelspec": {
   "display_name": "env",
   "language": "python",
   "name": "python3"
  },
  "language_info": {
   "codemirror_mode": {
    "name": "ipython",
    "version": 3
   },
   "file_extension": ".py",
   "mimetype": "text/x-python",
   "name": "python",
   "nbconvert_exporter": "python",
   "pygments_lexer": "ipython3",
   "version": "3.8.0"
  },
  "orig_nbformat": 4
 },
 "nbformat": 4,
 "nbformat_minor": 2
}
