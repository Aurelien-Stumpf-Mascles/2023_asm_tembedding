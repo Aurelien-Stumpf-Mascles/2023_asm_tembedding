{
 "cells": [
  {
   "cell_type": "code",
   "execution_count": null,
   "metadata": {},
   "outputs": [],
   "source": [
    "import sys\n",
    "sys.path\n",
    "sys.path.append('/volatile/aurelien_stumpf_mascles/project/code/')"
   ]
  },
  {
   "cell_type": "code",
   "execution_count": null,
   "metadata": {},
   "outputs": [],
   "source": [
    "import numpy as np\n",
    "import matplotlib.pyplot as plt\n",
    "import matplotlib\n",
    "import torch\n",
    "import torch.nn as nn\n",
    "import cebra_v2 as cebra2\n",
    "from collections import defaultdict\n",
    "import torch.nn.functional as F\n",
    "from sklearn.model_selection import train_test_split\n",
    "from sklearn.decomposition import PCA,FastICA\n",
    "from torch.utils.data.sampler import BatchSampler\n",
    "import package\n",
    "import pandas as pd\n",
    "import matplotlib.animation as animation\n",
    "import tembedding\n",
    "import scipy as sc\n",
    "from skimage.metrics import structural_similarity as ssim\n",
    "from sklearn.cluster import KMeans,OPTICS\n",
    "import math\n",
    "from joblib import Memory,Parallel,delayed,parallel_backend\n",
    "import time\n",
    "from multiprocessing import Lock, Process, Queue\n",
    "import multiprocessing\n",
    "import queue \n",
    "import os\n",
    "import networkx as nx\n",
    "from scipy.spatial.transform import Rotation as R"
   ]
  },
  {
   "cell_type": "code",
   "execution_count": null,
   "metadata": {},
   "outputs": [],
   "source": [
    "import importlib\n",
    "importlib.reload(package.preprocessing)\n",
    "importlib.reload(cebra2.distribution)\n",
    "importlib.reload(cebra2.dataset)"
   ]
  },
  {
   "attachments": {},
   "cell_type": "markdown",
   "metadata": {},
   "source": [
    "## Présentation"
   ]
  },
  {
   "attachments": {},
   "cell_type": "markdown",
   "metadata": {},
   "source": [
    "Dans ce notebook, on essaye de classifier la condition deep-sevoflurane grâce à la méthode CEBRA."
   ]
  },
  {
   "attachments": {},
   "cell_type": "markdown",
   "metadata": {},
   "source": [
    "## Fonctions utiles"
   ]
  },
  {
   "cell_type": "code",
   "execution_count": null,
   "metadata": {},
   "outputs": [],
   "source": [
    "def display(states,li_titles):\n",
    "    fig = plt.figure(figsize=(11, 11))\n",
    "    \n",
    "    # setting values to rows and column variables\n",
    "    n = len(states)\n",
    "    rows = int(np.sqrt(n))+1\n",
    "    columns = n // (rows-1)\n",
    "    \n",
    "    for i in range(n):\n",
    "        fig.add_subplot(rows, columns, i+1)\n",
    "        # showing image\n",
    "        plt.imshow(states[i])\n",
    "        plt.axis('off')\n",
    "        plt.title(li_titles[i])"
   ]
  },
  {
   "cell_type": "code",
   "execution_count": null,
   "metadata": {},
   "outputs": [],
   "source": [
    "def single_session_solver(data_loader, **kwargs):\n",
    "    \"\"\"Train a single session CEBRA model.\"\"\"\n",
    "    norm = True\n",
    "    if kwargs['distance'] == 'euclidean':\n",
    "        norm = False\n",
    "    model = kwargs[\"model\"]\n",
    "\n",
    "    if kwargs['distance'] == 'euclidean':\n",
    "        criterion = cebra2.criterion.EuclideanInfoNCE(temperature=kwargs['temperature'],beta = kwargs['beta'])\n",
    "    elif kwargs['distance'] == 'cosine':        \n",
    "        criterion = cebra2.crite55rion.CosineInfoNCE(temperature=kwargs['temperature'],beta = kwargs['beta'])\n",
    "\n",
    "    optimizer = torch.optim.Adam(model.parameters(), lr=kwargs['learning_rate'])\n",
    "\n",
    "    return cebra2.solver.SingleSessionSolver(model=model,\n",
    "                                            criterion=criterion,\n",
    "                                            optimizer=optimizer)\n",
    "\n",
    "@torch.no_grad()\n",
    "def get_emissions(model, dataset):\n",
    "    if torch.cuda.is_available():\n",
    "        device = \"cuda\"\n",
    "    else:\n",
    "        device = \"cpu\"\n",
    "    model.to(device)\n",
    "    return model(dataset).cpu().numpy()\n",
    "\n",
    "def _compute_emissions_single(solver, dataset):\n",
    "    return get_emissions(solver.model, dataset)"
   ]
  },
  {
   "attachments": {},
   "cell_type": "markdown",
   "metadata": {},
   "source": [
    "## Data Loading"
   ]
  },
  {
   "attachments": {},
   "cell_type": "markdown",
   "metadata": {},
   "source": [
    "Dans le train, on garde les singes 'almira', 'khali', 'kimiko', 'rana'.\n",
    "Dans le test, on utilise 'jade'."
   ]
  },
  {
   "cell_type": "code",
   "execution_count": null,
   "metadata": {},
   "outputs": [],
   "source": [
    "dfc = np.load('/neurospin/lbi/monkeyfmri/deepstim/database/ANESTHETIC_database/derivatives/reference_kmeans/inputs/inputs.npy')\n",
    "meta = pd.read_csv(\"/neurospin/lbi/monkeyfmri/deepstim/database/ANESTHETIC_database/derivatives/reference_kmeans/inputs/metadata.tsv\", sep=\"\\t\")"
   ]
  },
  {
   "cell_type": "code",
   "execution_count": null,
   "metadata": {},
   "outputs": [],
   "source": [
    "n_runs = len(set(meta[\"unique_id\"] + meta[\"monkey\"]))\n",
    "n_wins = 464\n",
    "dfc_train = dfc[meta[\"monkey\"].isin(['almira', 'khali', 'kimiko', 'rana']) & (meta[\"condition\"].isin(['awake', 'light-propofol', 'deep-propofol']))].reshape((-1, n_wins, 82, 82))\n",
    "dfc_test = dfc[meta[\"monkey\"] == \"jade\"].reshape((-1, n_wins, 82, 82))\n",
    "dfc_all = dfc.reshape((-1, n_wins, 82, 82))"
   ]
  },
  {
   "cell_type": "code",
   "execution_count": null,
   "metadata": {},
   "outputs": [],
   "source": [
    "labels_session = np.array([meta[\"condition\"].iloc[i*464] for i in range(len(meta)//464)])"
   ]
  },
  {
   "cell_type": "code",
   "execution_count": null,
   "metadata": {},
   "outputs": [],
   "source": [
    "np.unique(labels_session)"
   ]
  },
  {
   "attachments": {},
   "cell_type": "markdown",
   "metadata": {},
   "source": [
    "## Animation"
   ]
  },
  {
   "cell_type": "code",
   "execution_count": null,
   "metadata": {},
   "outputs": [],
   "source": [
    "idx = np.argwhere(labels_session == 'deep-propofol').flatten()"
   ]
  },
  {
   "cell_type": "code",
   "execution_count": null,
   "metadata": {},
   "outputs": [],
   "source": [
    "import matplotlib.animation as animation\n",
    "\n",
    "# ims is a list of lists, each row is a list of artists to draw in the\n",
    "# current frame; here we are just animating one artist, the image, in\n",
    "# each frame\n",
    "for a in idx :\n",
    "    print(a)\n",
    "    ims = []\n",
    "    fig, ax = plt.subplots()\n",
    "    for i in range(464):\n",
    "        im = ax.imshow(dfc_all[a,i,:,:], animated=True)\n",
    "        if i == 0:\n",
    "            ax.imshow(dfc_all[a,i,:,:])  # show an initial one first\n",
    "        ims.append([im])\n",
    "\n",
    "    ani = animation.ArtistAnimation(fig, ims, interval=50, blit=True,\n",
    "                                    repeat_delay=1000)\n",
    "    \n",
    "    fig.colorbar(im, ax=ax)\n",
    "    \n",
    "    ani.save(\"/volatile/aurelien_stumpf_mascles/project/code/visuals/animation/deep-propofol/movie{}.mp4\".format(a))\n",
    "    print(\"Saved at /volatile/aurelien_stumpf_mascles/project/code/visuals/animation/movie{}.mp4\".format(a))\n",
    "\n",
    "# To save the animation, use e.g.\n",
    "#\n",
    "# ani.save(\"movie.mp4\")\n",
    "#\n",
    "# or\n",
    "#\n",
    "# writer = animation.FFMpegWriter(\n",
    "#     fps=15, metadata=dict(artist='Me'), bitrate=1800)\n",
    "# ani.save(\"movie.mp4\", writer=writer)\n",
    "\n",
    "plt.show()"
   ]
  },
  {
   "attachments": {},
   "cell_type": "markdown",
   "metadata": {},
   "source": [
    "## Classification des états de Propofol/Deep-Propofol/Awake"
   ]
  },
  {
   "cell_type": "code",
   "execution_count": null,
   "metadata": {},
   "outputs": [],
   "source": [
    "def STRUCTURE(x,y):\n",
    "        return 1 - package.preprocessing.structure(x,y,is_batch = False)\n",
    "\n",
    "metric = STRUCTURE"
   ]
  },
  {
   "cell_type": "code",
   "execution_count": null,
   "metadata": {},
   "outputs": [],
   "source": [
    "dfc_test_deep_propofol = dfc[(meta[\"monkey\"].isin(['jade'])) & (meta[\"condition\"] == \"deep-propofol\")].reshape(-1,n_wins,82,82)\n",
    "dfc_test_light_propofol = dfc[(meta[\"monkey\"].isin(['jade'])) & (meta[\"condition\"] == \"light-propofol\")].reshape(-1,n_wins,82,82)\n",
    "dfc_test_awake = dfc[(meta[\"monkey\"].isin(['jade'])) & (meta[\"condition\"] == \"awake\")].reshape(-1,n_wins,82,82)"
   ]
  },
  {
   "attachments": {},
   "cell_type": "markdown",
   "metadata": {},
   "source": [
    "### Basis : Deep-propofol mean states"
   ]
  },
  {
   "cell_type": "code",
   "execution_count": null,
   "metadata": {},
   "outputs": [],
   "source": [
    "mean_states = np.load(\"./BrainStates/deep-propofol/mean_states.npy\")"
   ]
  },
  {
   "cell_type": "code",
   "execution_count": null,
   "metadata": {},
   "outputs": [],
   "source": [
    "display(mean_states,np.arange(len(mean_states)))"
   ]
  },
  {
   "cell_type": "code",
   "execution_count": null,
   "metadata": {},
   "outputs": [],
   "source": [
    "list_session_deep_propofol = np.zeros((dfc_test_deep_propofol.shape[0],len(mean_states)))\n",
    "mean_states_ = torch.from_numpy(mean_states)\n",
    "dfc_test_deep_propofol_ = torch.from_numpy(dfc_test_deep_propofol)\n",
    "for i in range(len(mean_states)):\n",
    "    print(i)\n",
    "    for session in range(dfc_test_deep_propofol.shape[0]):\n",
    "        min_val = 1\n",
    "        for t in range(464):\n",
    "            accu = STRUCTURE(dfc_test_deep_propofol_[session,t,:,:],mean_states_[i,:,:])\n",
    "            min_val = min(accu,min_val)\n",
    "        list_session_deep_propofol[session,i] = min_val"
   ]
  },
  {
   "cell_type": "code",
   "execution_count": null,
   "metadata": {},
   "outputs": [],
   "source": [
    "plt.plot(list_session_deep_propofol,label = list(np.arange(len(mean_states))))\n",
    "#leg = plt.legend(loc='upper center')\n",
    "plt.show()"
   ]
  },
  {
   "cell_type": "code",
   "execution_count": null,
   "metadata": {},
   "outputs": [],
   "source": [
    "list_session_awake = np.zeros((dfc_test_awake.shape[0],len(mean_states)))\n",
    "mean_states_ = torch.from_numpy(mean_states)\n",
    "dfc_test_awake_ = torch.from_numpy(dfc_test_awake)\n",
    "for i in range(len(mean_states)):\n",
    "    for session in range(dfc_test_awake.shape[0]):\n",
    "        min_val = 1\n",
    "        for t in range(464):\n",
    "            accu = STRUCTURE(dfc_test_awake_[session,t,:,:],mean_states_[i,:,:])\n",
    "            min_val = min(accu,min_val)\n",
    "        list_session_awake[session,i] = min_val"
   ]
  },
  {
   "cell_type": "code",
   "execution_count": null,
   "metadata": {},
   "outputs": [],
   "source": [
    "plt.plot(list_session_awake,label = list(np.arange(len(mean_states))))\n",
    "#leg = plt.legend(loc='upper center')\n",
    "plt.show()"
   ]
  },
  {
   "cell_type": "code",
   "execution_count": null,
   "metadata": {},
   "outputs": [],
   "source": [
    "list_session_light_propofol = np.zeros((dfc_test_light_propofol.shape[0],len(mean_states)))\n",
    "mean_states_ = torch.from_numpy(mean_states)\n",
    "dfc_test_light_propofol_ = torch.from_numpy(dfc_test_light_propofol)\n",
    "for i in range(len(mean_states)):\n",
    "    for session in range(dfc_test_light_propofol_.shape[0]):\n",
    "        min_val = 1\n",
    "        for t in range(464):\n",
    "            accu = STRUCTURE(dfc_test_light_propofol_[session,t,:,:],mean_states_[i,:,:])\n",
    "            min_val = min(accu,min_val)\n",
    "        list_session_light_propofol[session,i] = min_val"
   ]
  },
  {
   "cell_type": "code",
   "execution_count": null,
   "metadata": {},
   "outputs": [],
   "source": [
    "plt.plot(list_session_light_propofol,label = list(np.arange(len(mean_states))))\n",
    "#leg = plt.legend(loc='upper center')\n",
    "plt.show()"
   ]
  },
  {
   "cell_type": "code",
   "execution_count": null,
   "metadata": {},
   "outputs": [],
   "source": [
    "list_session_light_propofol"
   ]
  },
  {
   "cell_type": "code",
   "execution_count": null,
   "metadata": {},
   "outputs": [],
   "source": [
    "plt.plot(np.mean(list_session_light_propofol,axis=0),color=\"r\")\n",
    "plt.plot(np.mean(list_session_deep_propofol,axis=0),color = \"b\")\n",
    "plt.plot(np.mean(list_session_awake,axis=0), color = \"k\")"
   ]
  },
  {
   "cell_type": "code",
   "execution_count": null,
   "metadata": {},
   "outputs": [],
   "source": [
    "np.argsort(np.mean(list_session_awake,axis=0) - np.mean(list_session_deep_propofol,axis=0))"
   ]
  },
  {
   "cell_type": "code",
   "execution_count": null,
   "metadata": {},
   "outputs": [],
   "source": [
    "np.argsort(np.mean(list_session_light_propofol,axis=0) - np.mean(list_session_deep_propofol,axis=0))"
   ]
  },
  {
   "cell_type": "code",
   "execution_count": null,
   "metadata": {},
   "outputs": [],
   "source": [
    "np.sort(np.mean(list_session_light_propofol,axis=0) - np.mean(list_session_deep_propofol,axis=0))"
   ]
  },
  {
   "cell_type": "code",
   "execution_count": null,
   "metadata": {},
   "outputs": [],
   "source": [
    "plt.imshow(mean_states[74,:])"
   ]
  },
  {
   "attachments": {},
   "cell_type": "markdown",
   "metadata": {},
   "source": [
    "### Basis : Awake mean states"
   ]
  },
  {
   "cell_type": "code",
   "execution_count": null,
   "metadata": {},
   "outputs": [],
   "source": [
    "mean_states = np.load(\"./BrainStates/awake/mean_states.npy\")"
   ]
  },
  {
   "cell_type": "code",
   "execution_count": null,
   "metadata": {},
   "outputs": [],
   "source": [
    "list_session_awake.shape"
   ]
  },
  {
   "cell_type": "code",
   "execution_count": null,
   "metadata": {},
   "outputs": [],
   "source": [
    "list_session_awake = np.zeros((dfc_test_awake.shape[0],len(mean_states)))\n",
    "mean_states_ = torch.from_numpy(mean_states)\n",
    "dfc_test_awake_ = torch.from_numpy(dfc_test_awake)\n",
    "for i in range(len(mean_states)):\n",
    "    for session in range(dfc_test_awake.shape[0]):\n",
    "        min_val = 1\n",
    "        for t in range(464):\n",
    "            accu = STRUCTURE(dfc_test_awake_[session,t,:,:],mean_states_[i,:,:])\n",
    "            min_val = min(accu,min_val)\n",
    "        list_session_awake[session,i] = min_val"
   ]
  },
  {
   "cell_type": "code",
   "execution_count": null,
   "metadata": {},
   "outputs": [],
   "source": [
    "plt.plot(list_session_awake,label = list(np.arange(len(mean_states))))\n",
    "leg = plt.legend(loc='upper center')\n",
    "plt.show()"
   ]
  },
  {
   "cell_type": "code",
   "execution_count": null,
   "metadata": {},
   "outputs": [],
   "source": [
    "list_session_deep_propofol = np.zeros((dfc_test_deep_propofol.shape[0],len(mean_states)))\n",
    "mean_states_ = torch.from_numpy(mean_states)\n",
    "dfc_test_deep_propofol_ = torch.from_numpy(dfc_test_deep_propofol)\n",
    "for i in range(len(mean_states)):\n",
    "    for session in range(dfc_test_deep_propofol.shape[0]):\n",
    "        min_val = 1\n",
    "        for t in range(464):\n",
    "            accu = STRUCTURE(dfc_test_deep_propofol_[session,t,:,:],mean_states_[i,:,:])\n",
    "            min_val = min(accu,min_val)\n",
    "        list_session_deep_propofol[session,i] = min_val"
   ]
  },
  {
   "cell_type": "code",
   "execution_count": null,
   "metadata": {},
   "outputs": [],
   "source": [
    "plt.plot(list_session_deep_propofol,label = list(np.arange(len(mean_states))))\n",
    "leg = plt.legend(loc='upper center')\n",
    "plt.show()"
   ]
  },
  {
   "cell_type": "code",
   "execution_count": null,
   "metadata": {},
   "outputs": [],
   "source": [
    "list_session_light_propofol = np.zeros((dfc_test_light_propofol.shape[0],len(mean_states)))\n",
    "mean_states_ = torch.from_numpy(mean_states)\n",
    "dfc_test_light_propofol_ = torch.from_numpy(dfc_test_light_propofol)\n",
    "for i in range(len(mean_states)):\n",
    "    for session in range(dfc_test_light_propofol.shape[0]):\n",
    "        min_val = 1\n",
    "        for t in range(464):\n",
    "            accu = STRUCTURE(dfc_test_light_propofol_[session,t,:,:],mean_states_[i,:,:])\n",
    "            min_val = min(accu,min_val)\n",
    "        list_session_light_propofol[session,i] = min_val"
   ]
  },
  {
   "cell_type": "code",
   "execution_count": null,
   "metadata": {},
   "outputs": [],
   "source": [
    "plt.plot(list_session_light_propofol,label = list(np.arange(len(mean_states))))\n",
    "leg = plt.legend(loc='upper center')\n",
    "plt.show()"
   ]
  },
  {
   "attachments": {},
   "cell_type": "markdown",
   "metadata": {},
   "source": [
    "### Light-propofol mean states"
   ]
  },
  {
   "cell_type": "code",
   "execution_count": null,
   "metadata": {},
   "outputs": [],
   "source": [
    "mean_states = np.load(\"./BrainStates/light-propofol/mean_states.npy\")"
   ]
  },
  {
   "cell_type": "code",
   "execution_count": null,
   "metadata": {},
   "outputs": [],
   "source": [
    "display(mean_states,np.arange(len(mean_states)))"
   ]
  },
  {
   "cell_type": "code",
   "execution_count": null,
   "metadata": {},
   "outputs": [],
   "source": [
    "list_session_awake = np.zeros((dfc_test_awake.shape[0],len(mean_states)))\n",
    "mean_states_ = torch.from_numpy(mean_states)\n",
    "dfc_test_awake_ = torch.from_numpy(dfc_test_awake)\n",
    "for i in range(len(mean_states)):\n",
    "    for session in range(dfc_test_awake.shape[0]):\n",
    "        min_val = 1\n",
    "        for t in range(464):\n",
    "            accu = STRUCTURE(dfc_test_awake_[session,t,:,:],mean_states_[i,:,:])\n",
    "            min_val = min(accu,min_val)\n",
    "        list_session_awake[session,i] = min_val"
   ]
  },
  {
   "cell_type": "code",
   "execution_count": null,
   "metadata": {},
   "outputs": [],
   "source": [
    "plt.plot(list_session_awake,label = list(np.arange(len(mean_states))))\n",
    "#leg = plt.legend(loc='upper center')\n",
    "plt.show()"
   ]
  },
  {
   "cell_type": "code",
   "execution_count": null,
   "metadata": {},
   "outputs": [],
   "source": [
    "list_session_deep_propofol = np.zeros((dfc_test_deep_propofol.shape[0],len(mean_states)))\n",
    "mean_states_ = torch.from_numpy(mean_states)\n",
    "dfc_test_deep_propofol_ = torch.from_numpy(dfc_test_deep_propofol)\n",
    "for i in range(len(mean_states)):\n",
    "    print(i)\n",
    "    for session in range(dfc_test_deep_propofol.shape[0]):\n",
    "        min_val = 1\n",
    "        for t in range(464):\n",
    "            accu = STRUCTURE(dfc_test_deep_propofol_[session,t,:,:],mean_states_[i,:,:])\n",
    "            min_val = min(accu,min_val)\n",
    "        list_session_deep_propofol[session,i] = min_val"
   ]
  },
  {
   "cell_type": "code",
   "execution_count": null,
   "metadata": {},
   "outputs": [],
   "source": [
    "plt.plot(list_session_deep_propofol,label = list(np.arange(len(mean_states))))\n",
    "#leg = plt.legend(loc='upper center')\n",
    "plt.show()"
   ]
  },
  {
   "cell_type": "code",
   "execution_count": null,
   "metadata": {},
   "outputs": [],
   "source": [
    "list_session_light_propofol = np.zeros((dfc_test_light_propofol.shape[0],len(mean_states)))\n",
    "mean_states_ = torch.from_numpy(mean_states)\n",
    "dfc_test_light_propofol_ = torch.from_numpy(dfc_test_light_propofol)\n",
    "for i in range(len(mean_states)):\n",
    "    for session in range(dfc_test_light_propofol_.shape[0]):\n",
    "        min_val = 1\n",
    "        for t in range(464):\n",
    "            accu = STRUCTURE(dfc_test_light_propofol_[session,t,:,:],mean_states_[i,:,:])\n",
    "            min_val = min(accu,min_val)\n",
    "        list_session_light_propofol[session,i] = min_val"
   ]
  },
  {
   "cell_type": "code",
   "execution_count": null,
   "metadata": {},
   "outputs": [],
   "source": [
    "plt.plot(list_session_light_propofol,label = list(np.arange(len(mean_states))))\n",
    "#leg = plt.legend(loc='upper center')\n",
    "plt.show()"
   ]
  },
  {
   "cell_type": "code",
   "execution_count": null,
   "metadata": {},
   "outputs": [],
   "source": [
    "plt.plot(np.mean(list_session_light_propofol,axis=0),color=\"r\")\n",
    "plt.plot(np.mean(list_session_deep_propofol,axis=0),color = \"b\")\n",
    "plt.plot(np.mean(list_session_awake,axis=0), color = \"k\")"
   ]
  },
  {
   "cell_type": "code",
   "execution_count": null,
   "metadata": {},
   "outputs": [],
   "source": [
    "np.argsort(np.mean(list_session_awake,axis=0) - np.mean(list_session_light_propofol,axis=0))"
   ]
  },
  {
   "cell_type": "code",
   "execution_count": null,
   "metadata": {},
   "outputs": [],
   "source": [
    "np.argsort(np.mean(list_session_deep_propofol,axis=0) - np.mean(list_session_light_propofol,axis=0))"
   ]
  },
  {
   "cell_type": "code",
   "execution_count": null,
   "metadata": {},
   "outputs": [],
   "source": [
    "plt.imshow(mean_states[6])"
   ]
  },
  {
   "attachments": {},
   "cell_type": "markdown",
   "metadata": {},
   "source": [
    "## Classification avec les labels"
   ]
  },
  {
   "cell_type": "code",
   "execution_count": null,
   "metadata": {},
   "outputs": [],
   "source": [
    "dict_labels = {\"awake\" : 0, \"light-propofol\" : 1, \"deep-propofol\" : 2}"
   ]
  },
  {
   "cell_type": "code",
   "execution_count": null,
   "metadata": {},
   "outputs": [],
   "source": [
    "meta"
   ]
  },
  {
   "cell_type": "code",
   "execution_count": null,
   "metadata": {},
   "outputs": [],
   "source": [
    "meta_test = meta[meta[\"monkey\"].isin(['jade']) & (meta[\"condition\"].isin([\"awake\",\"light-propofol\",\"deep-propofol\"]))][\"condition\"]\n",
    "labels_test_condition = np.array([meta_test.iloc[i] for i in range(len(meta_test))])\n",
    "labels_test = np.array([dict_labels[elem] for elem in labels_test_condition]).reshape((len(labels_test_condition)//464,464))"
   ]
  },
  {
   "cell_type": "code",
   "execution_count": null,
   "metadata": {},
   "outputs": [],
   "source": [
    "meta_train = meta[meta[\"monkey\"].isin(['almira', 'khali', 'kimiko', 'rana']) & (meta[\"condition\"].isin([\"awake\",\"light-propofol\",\"deep-propofol\"]))][\"condition\"]\n",
    "labels_train_condition = np.array([meta_train.iloc[i] for i in range(len(meta_train))])\n",
    "labels_train = np.array([dict_labels[elem] for elem in labels_train_condition]).reshape((len(labels_train_condition)//464,464))"
   ]
  },
  {
   "cell_type": "code",
   "execution_count": null,
   "metadata": {},
   "outputs": [],
   "source": [
    "#We define the architecture of the model we will use\n",
    "\n",
    "num_output = 6\n",
    "normalize = True\n",
    "num_neurons = 3321\n",
    "\n",
    "model = cebra2.model.Model(\n",
    "    nn.Dropout(0),\n",
    "    nn.Linear(\n",
    "        num_neurons,\n",
    "        1000,\n",
    "    ),\n",
    "    nn.Linear(\n",
    "        1000,\n",
    "        500,\n",
    "    ),\n",
    "    nn.Linear(\n",
    "        500,\n",
    "        100,\n",
    "    ),\n",
    "    nn.Linear(\n",
    "        100,\n",
    "        50,\n",
    "    ),\n",
    "    nn.Linear(\n",
    "        50,\n",
    "        20,\n",
    "    ),\n",
    "    nn.Linear(\n",
    "        20,\n",
    "        6,\n",
    "    ),\n",
    "    num_input=num_neurons,\n",
    "    num_output=num_output,\n",
    "    normalize = True\n",
    "        )"
   ]
  },
  {
   "cell_type": "code",
   "execution_count": null,
   "metadata": {},
   "outputs": [],
   "source": [
    "dfc = dfc_train\n",
    "fc_train = torch.from_numpy(dfc.reshape((dfc.shape[0],464,1,82,82)))\n",
    "discrete = labels_train"
   ]
  },
  {
   "cell_type": "code",
   "execution_count": null,
   "metadata": {},
   "outputs": [],
   "source": [
    "fc_train = torch.squeeze(fc_train,dim=2)\n",
    "fc_train_vector = torch.from_numpy(package.preprocessing.flatten_higher_triangular(fc_train))\n",
    "fc_dataset = cebra2.dataset.SimpleMultiSessionDataset(fc_train_vector,discrete = discrete)\n",
    "fc_loader = cebra2.dataset.MultiSessionLoader(fc_dataset, num_steps = 1000, batch_size = 6000,  time_delta = 5, matrix_delta = 0.5)"
   ]
  },
  {
   "cell_type": "code",
   "execution_count": null,
   "metadata": {},
   "outputs": [],
   "source": [
    "cebra_fc = single_session_solver(data_loader = fc_loader, model_architecture = 'offset1-model', \n",
    "                 distance = 'cosine', num_hidden_units = 128, output_dimension = 128,\n",
    "                verbose = True, temperature = 1, beta = 1,learning_rate = 3e-4, model = model)"
   ]
  },
  {
   "cell_type": "code",
   "execution_count": null,
   "metadata": {},
   "outputs": [],
   "source": [
    "cebra_fc.fit(fc_loader)"
   ]
  },
  {
   "cell_type": "code",
   "execution_count": null,
   "metadata": {},
   "outputs": [],
   "source": [
    "a,b,c = fc_dataset.neural.shape\n",
    "data = fc_dataset.neural.resize(a*b,c)\n",
    "fc_emb = _compute_emissions_single(cebra_fc, data)\n",
    "fc_emb = fc_emb.reshape((a,b,6))\n",
    "fig = plt.figure(figsize = (12,5))\n",
    "\n",
    "ax1 = plt.subplot(121)\n",
    "ax1.set_title('Embedding du train')\n",
    "colors = [\"black\",'red','green','blue','purple','yellow']\n",
    "for i in range(58):\n",
    "    ax1.scatter(fc_emb[i,:,0], fc_emb[i,:,3], cmap = matplotlib.colors.ListedColormap(colors), c = colors[labels_train[i,0]], s=1)\n",
    "#ax1.xticks() \n",
    "ax1.axis('on')"
   ]
  },
  {
   "cell_type": "code",
   "execution_count": null,
   "metadata": {},
   "outputs": [],
   "source": [
    "dfc_test_vector = torch.from_numpy(package.preprocessing.flatten_higher_triangular(torch.from_numpy(dfc_test)))\n",
    "dfc_test_vector = dfc_test_vector.type(torch.float32)"
   ]
  },
  {
   "cell_type": "code",
   "execution_count": null,
   "metadata": {},
   "outputs": [],
   "source": [
    "#dfc_test_vector = torch.from_numpy(package.preprocessing.flatten_higher_triangular(torch.from_numpy(dfc_test)))\n",
    "a,b,c = dfc_test_vector.shape\n",
    "data = dfc_test_vector.resize(a*b,c)\n",
    "fc_emb = _compute_emissions_single(cebra_fc, data)"
   ]
  },
  {
   "cell_type": "code",
   "execution_count": null,
   "metadata": {},
   "outputs": [],
   "source": [
    "a,b,c = dfc_test_vector.shape\n",
    "data = dfc_test_vector.resize(a*b,c)\n",
    "fc_emb = _compute_emissions_single(cebra_fc, data)\n",
    "fc_emb = fc_emb.reshape((a,b,3))\n",
    "fig = plt.figure(figsize = (12,5))\n",
    "\n",
    "ax1 = plt.subplot(121)\n",
    "ax1.set_title('Embedding du train')\n",
    "colors = [\"black\",'red','green','blue','purple','yellow']\n",
    "for i in range(28):\n",
    "    if labels_test[i,0] in [0,1,2]:\n",
    "        ax1.scatter(fc_emb[i,:,0], fc_emb[i,:,1], cmap = matplotlib.colors.ListedColormap(colors), c = colors[labels_test[i,0]], s=1)\n",
    "#ax1.xticks() \n",
    "ax1.axis('on')"
   ]
  },
  {
   "attachments": {},
   "cell_type": "markdown",
   "metadata": {},
   "source": [
    "### Algorithme de classification"
   ]
  },
  {
   "cell_type": "code",
   "execution_count": null,
   "metadata": {},
   "outputs": [],
   "source": [
    "net = package.torch_classifier.MLP(input_dim = 3)\n",
    "a,b,c = fc_dataset.neural.shape\n",
    "data = fc_dataset.neural.resize(a*b,c)\n",
    "fc_emb = _compute_emissions_single(cebra_fc, data)\n",
    "X = fc_emb.reshape((-1,3))\n",
    "y = labels_train.reshape((-1))\n",
    "X_train, X_test,y_train, y_test = train_test_split(X, y, test_size=0.25, random_state=42)\n",
    "train = package.torch_classifier.SimpleDataset(X_train,y_train)\n",
    "test = package.torch_classifier.SimpleDataset(X_test,y_test)\n",
    "balanced_batch_sampler = package.torch_classifier.BalancedBatchSampler(train, n_classes = 3, n_samples = 1000)\n",
    "train_loader = torch.utils.data.DataLoader(train, batch_sampler = balanced_batch_sampler)\n",
    "test_loader = torch.utils.data.DataLoader(test, batch_size=10, shuffle=True, num_workers=6)"
   ]
  },
  {
   "cell_type": "code",
   "execution_count": null,
   "metadata": {},
   "outputs": [],
   "source": [
    "fig = plt.figure(figsize = (12,5))\n",
    "\n",
    "ax1 = plt.subplot(121)\n",
    "ax1.set_title('Embedding du train')\n",
    "colors = [\"black\",'red','green','blue','purple','yellow']\n",
    "ax1.scatter(X_train[:,0], X_train[:,1], cmap = matplotlib.colors.ListedColormap(colors), c = y_train, s=1)\n",
    "#ax1.xticks() \n",
    "ax1.axis('on')"
   ]
  },
  {
   "cell_type": "code",
   "execution_count": null,
   "metadata": {},
   "outputs": [],
   "source": [
    "import importlib\n",
    "importlib.reload(package.torch_classifier)"
   ]
  },
  {
   "cell_type": "code",
   "execution_count": null,
   "metadata": {},
   "outputs": [],
   "source": [
    "package.torch_classifier.Train(net,train_loader,test_loader,100,lr = 0.1)"
   ]
  },
  {
   "cell_type": "code",
   "execution_count": null,
   "metadata": {},
   "outputs": [],
   "source": [
    "a,b = np.meshgrid(np.linspace(0,2*np.pi,300),np.linspace(0,np.pi,200))\n",
    "x = (np.cos(a)*np.cos(b)).reshape(-1,1)\n",
    "y = (np.sin(a)*np.cos(b)).reshape(-1,1)\n",
    "z = np.sin(b).reshape(-1,1)\n",
    "sphere = np.concatenate((x,y,z),axis = 1)\n",
    "\n",
    "net.eval()\n",
    "probas = torch.exp(net(torch.from_numpy(sphere).type(torch.float32)))\n",
    "res = torch.argmax(probas,dim=1)\n",
    "\n",
    "fig = plt.figure(figsize = (12,5))\n",
    "ax1 = plt.subplot(121)\n",
    "ax1.set_title('Embedding du train')\n",
    "colors = [\"black\",'red','green','blue','purple',\"yellow\"]\n",
    "ax1.scatter(sphere[:,0], sphere[:,1], cmap = matplotlib.colors.ListedColormap(colors), c = res, s=1)\n",
    "#ax1.xticks() \n",
    "ax1.axis('on')\n"
   ]
  },
  {
   "cell_type": "code",
   "execution_count": null,
   "metadata": {},
   "outputs": [],
   "source": [
    "a,b = np.meshgrid(np.linspace(0,2*np.pi,300),-np.linspace(0,np.pi,200))\n",
    "x = (np.cos(a)*np.cos(b)).reshape(-1,1)\n",
    "y = (np.sin(a)*np.cos(b)).reshape(-1,1)\n",
    "z = np.sin(b).reshape(-1,1)\n",
    "sphere = np.concatenate((x,y,z),axis = 1)\n",
    "\n",
    "net.eval()\n",
    "probas = torch.exp(net(torch.from_numpy(sphere).type(torch.float32)))\n",
    "res = torch.argmax(probas,dim=1)\n",
    "\n",
    "fig = plt.figure(figsize = (12,5))\n",
    "ax1 = plt.subplot(121)\n",
    "ax1.set_title('Embedding du train')\n",
    "colors = [\"black\",'red','green','blue','purple',\"yellow\"]\n",
    "ax1.scatter(sphere[:,0], sphere[:,1], cmap = matplotlib.colors.ListedColormap(colors), c = res, s=1)\n",
    "#ax1.xticks() \n",
    "ax1.axis('on')"
   ]
  },
  {
   "attachments": {},
   "cell_type": "markdown",
   "metadata": {},
   "source": [
    "Résultats"
   ]
  },
  {
   "cell_type": "code",
   "execution_count": null,
   "metadata": {},
   "outputs": [],
   "source": [
    "net.eval()\n",
    "for session in range(28):\n",
    "    probas = torch.zeros((6))\n",
    "    emb = torch.from_numpy(_compute_emissions_single(cebra_fc, dfc_test_vector[session,:,:]))\n",
    "    probas = torch.sum(torch.exp(net(emb.type(torch.float32))),dim=0)\n",
    "    res = torch.argmax(probas,dim=0)\n",
    "    print(\"True label : {}, Predicted label : {}\".format(labels_test[session,0],res))"
   ]
  }
 ],
 "metadata": {
  "kernelspec": {
   "display_name": "env",
   "language": "python",
   "name": "python3"
  },
  "language_info": {
   "codemirror_mode": {
    "name": "ipython",
    "version": 3
   },
   "file_extension": ".py",
   "mimetype": "text/x-python",
   "name": "python",
   "nbconvert_exporter": "python",
   "pygments_lexer": "ipython3",
   "version": "3.8.0"
  },
  "orig_nbformat": 4
 },
 "nbformat": 4,
 "nbformat_minor": 2
}
