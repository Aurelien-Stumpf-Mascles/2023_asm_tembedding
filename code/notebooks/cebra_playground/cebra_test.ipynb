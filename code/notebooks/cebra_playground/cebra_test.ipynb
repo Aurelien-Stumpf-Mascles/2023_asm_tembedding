{
 "cells": [
  {
   "cell_type": "markdown",
   "metadata": {},
   "source": [
    "This notebook tests the CEBRA algorithm on simple datasets."
   ]
  },
  {
   "cell_type": "code",
   "execution_count": 1,
   "metadata": {},
   "outputs": [],
   "source": [
    "import sys\n",
    "sys.path.append(\"/neurospin/lbi/monkeyfmri/deepstim/workspace/2023_ASM_tembedding/gitproject/2023_asm_tembedding/code\")\n",
    "sys.path.append(\"/neurospin/lbi/monkeyfmri/deepstim/workspace/2023_ASM_tembedding/gitproject/2023_asm_tembedding\")"
   ]
  },
  {
   "cell_type": "code",
   "execution_count": 2,
   "metadata": {},
   "outputs": [],
   "source": [
    "import numpy as np\n",
    "import matplotlib.pyplot as plt\n",
    "import matplotlib\n",
    "import torch\n",
    "import torch.nn as nn\n",
    "import cebra_v2 as cebra2\n",
    "from collections import defaultdict\n",
    "import torch.nn.functional as F\n",
    "from sklearn.model_selection import train_test_split\n",
    "from sklearn.decomposition import PCA,FastICA\n",
    "from torch.utils.data.sampler import BatchSampler\n",
    "import package\n",
    "import pandas as pd\n",
    "import matplotlib.animation as animation\n",
    "import tembedding\n",
    "import scipy as sc\n",
    "from skimage.metrics import structural_similarity as ssim\n",
    "from sklearn.cluster import KMeans,OPTICS\n",
    "import math\n",
    "from joblib import Memory,Parallel,delayed,parallel_backend\n",
    "import time\n",
    "from multiprocessing import Lock, Process, Queue\n",
    "import multiprocessing\n",
    "import queue \n",
    "import os\n",
    "import networkx as nx\n",
    "from scipy.spatial.transform import Rotation as R\n",
    "import matplotlib.patches as mpatches\n",
    "from mpl_toolkits.mplot3d import axes3d\n",
    "from sklearn import datasets, manifold"
   ]
  },
  {
   "cell_type": "code",
   "execution_count": 41,
   "metadata": {},
   "outputs": [
    {
     "data": {
      "text/plain": [
       "<module 'cebra_v2.distribution' from '/neurospin/lbi/monkeyfmri/deepstim/workspace/2023_ASM_tembedding/gitproject/2023_asm_tembedding/code/cebra_v2/distribution.py'>"
      ]
     },
     "execution_count": 41,
     "metadata": {},
     "output_type": "execute_result"
    }
   ],
   "source": [
    "import importlib\n",
    "importlib.reload(package.preprocessing)\n",
    "importlib.reload(cebra2.dataset)\n",
    "importlib.reload(cebra2.distribution)"
   ]
  },
  {
   "cell_type": "markdown",
   "metadata": {},
   "source": [
    "## Utilitaires"
   ]
  },
  {
   "cell_type": "code",
   "execution_count": 3,
   "metadata": {},
   "outputs": [],
   "source": [
    "def single_session_solver(data_loader, **kwargs):\n",
    "    \"\"\"Train a single session CEBRA model.\"\"\"\n",
    "    norm = True\n",
    "    if kwargs['distance'] == 'euclidean':\n",
    "        norm = False\n",
    "    model = kwargs[\"model\"]\n",
    "\n",
    "    if kwargs['distance'] == 'euclidean':\n",
    "        criterion = cebra2.criterion.EuclideanInfoNCE(temperature=kwargs['temperature'],beta = kwargs['beta'])\n",
    "    elif kwargs['distance'] == 'cosine':        \n",
    "        criterion = cebra2.criterion.CosineInfoNCE(temperature=kwargs['temperature'],beta = kwargs['beta'])\n",
    "\n",
    "    optimizer = torch.optim.Adam(model.parameters(), lr=kwargs['learning_rate'])\n",
    "\n",
    "    return cebra2.solver.SingleSessionSolver(model=model,\n",
    "                                            criterion=criterion,\n",
    "                                            optimizer=optimizer)\n",
    "\n",
    "@torch.no_grad()\n",
    "def get_emissions(model, dataset):\n",
    "    if torch.cuda.is_available():\n",
    "        device = \"cuda\"\n",
    "    else:\n",
    "        device = \"cpu\"\n",
    "    model.to(device)\n",
    "    return model(dataset).cpu().numpy()\n",
    "\n",
    "def _compute_emissions_single(solver, dataset):\n",
    "    return get_emissions(solver.model, dataset)"
   ]
  },
  {
   "cell_type": "markdown",
   "metadata": {},
   "source": [
    "## Synthetic data"
   ]
  },
  {
   "cell_type": "code",
   "execution_count": 4,
   "metadata": {},
   "outputs": [],
   "source": [
    "dfc, S_color = datasets.make_s_curve(50000, random_state=0)"
   ]
  },
  {
   "cell_type": "code",
   "execution_count": 21,
   "metadata": {},
   "outputs": [
    {
     "data": {
      "text/plain": [
       "(500, 3)"
      ]
     },
     "execution_count": 21,
     "metadata": {},
     "output_type": "execute_result"
    }
   ],
   "source": [
    "dfc.shape"
   ]
  },
  {
   "cell_type": "code",
   "execution_count": 85,
   "metadata": {},
   "outputs": [
    {
     "data": {
      "text/plain": [
       "<matplotlib.collections.PathCollection at 0x7ff09c340610>"
      ]
     },
     "execution_count": 85,
     "metadata": {},
     "output_type": "execute_result"
    },
    {
     "data": {
      "image/png": "[encoded data removed]",
      "text/plain": [
       "<Figure size 640x480 with 1 Axes>"
      ]
     },
     "metadata": {},
     "output_type": "display_data"
    }
   ],
   "source": [
    "plt.scatter(dfc[300:350,0],dfc[300:350,2])"
   ]
  },
  {
   "cell_type": "code",
   "execution_count": 5,
   "metadata": {},
   "outputs": [],
   "source": [
    "dfc = np.zeros((6,100,50))\n",
    "meta = np.concatenate([np.ones((1,100))*i for i in range(6)],axis = 0)"
   ]
  },
  {
   "cell_type": "code",
   "execution_count": 6,
   "metadata": {},
   "outputs": [],
   "source": [
    "state_vector = np.ones(50)\n",
    "list_factor = np.linspace(1,1.1,100)"
   ]
  },
  {
   "cell_type": "code",
   "execution_count": 7,
   "metadata": {},
   "outputs": [],
   "source": [
    "def create_session(dfc,state_vector,i):\n",
    "    list_factor = np.linspace(1,1.01,dfc.shape[1])\n",
    "    dfc[i,:] = np.array([list_factor[k] * state_vector for k in range(len(list_factor))])\n",
    "\n",
    "def generate_dataset(dfc):\n",
    "    list_factor = np.linspace(1,3,dfc.shape[1])\n",
    "    for i in range(dfc.shape[0]):\n",
    "        state_vector = np.random.normal(loc = 0, scale = 10, size = dfc.shape[2])\n",
    "        dfc[i,:] = np.array([list_factor[k] * state_vector for k in range(len(list_factor))])\n",
    "\n",
    "def generate_dataset2(dfc):\n",
    "    return np.random.uniform(low = -10, high = 10, size = dfc.shape)\n",
    "\n",
    "def generate_dataset3(dfc):\n",
    "    for i in range(dfc.shape[0]):\n",
    "        dfc[i,:] =  np.random.normal(loc = 5*i, scale = 1, size = (dfc.shape[1],dfc.shape[2]))\n"
   ]
  },
  {
   "cell_type": "code",
   "execution_count": 8,
   "metadata": {},
   "outputs": [],
   "source": [
    "generate_dataset3(dfc)"
   ]
  },
  {
   "cell_type": "code",
   "execution_count": 11,
   "metadata": {},
   "outputs": [
    {
     "data": {
      "text/plain": [
       "(-3.624609441053802, 28.902138040349953, -4.519316298249372, 28.45711917558391)"
      ]
     },
     "execution_count": 11,
     "metadata": {},
     "output_type": "execute_result"
    },
    {
     "data": {
      "image/png": "[encoded data removed]",
      "text/plain": [
       "<Figure size 1200x500 with 1 Axes>"
      ]
     },
     "metadata": {},
     "output_type": "display_data"
    }
   ],
   "source": [
    "fig = plt.figure(figsize = (12,5))\n",
    "\n",
    "ax1 = plt.subplot(121)\n",
    "colors = [\"black\",'red','green','blue','pink','grey']\n",
    "for i in range(6):\n",
    "    ax1.scatter(dfc[i,:,0], dfc[i,:,10], c = colors[int(meta[i,0])], s=1)\n",
    "#ax1.xticks() \n",
    "ax1.axis('on')"
   ]
  },
  {
   "cell_type": "code",
   "execution_count": 163,
   "metadata": {},
   "outputs": [
    {
     "data": {
      "text/plain": [
       "array([4.89616109, 5.06234857, 4.99937906, 5.0403824 , 4.90147854,\n",
       "       5.03912567, 5.07513253, 5.01157599, 4.99655668, 5.03708574,\n",
       "       5.01159918, 4.85255666, 4.99911956, 4.88088355, 5.00472157,\n",
       "       4.90682743, 4.99397549, 5.39201932, 4.88725122, 4.69731518,\n",
       "       5.01143405, 4.95286126, 4.78870117, 5.18594937, 4.88662978,\n",
       "       5.01681367, 4.97737153, 4.90585396, 4.96063498, 4.97683753,\n",
       "       4.95848852, 5.02840888, 4.88686495, 5.02352197, 5.1103689 ,\n",
       "       5.20792466, 5.10504222, 4.8669555 , 4.96998723, 4.86800423,\n",
       "       4.76123916, 5.02589512, 4.96438651, 5.0023947 , 4.7811567 ,\n",
       "       4.96079667, 4.99419858, 4.93974066, 4.91363019, 4.90003467])"
      ]
     },
     "execution_count": 163,
     "metadata": {},
     "output_type": "execute_result"
    }
   ],
   "source": [
    "dfc[5,1,:]"
   ]
  },
  {
   "cell_type": "markdown",
   "metadata": {},
   "source": [
    "## Cebra"
   ]
  },
  {
   "cell_type": "code",
   "execution_count": 12,
   "metadata": {},
   "outputs": [],
   "source": [
    "#We define the architecture of the model we will use\n",
    "\n",
    "num_output = 3\n",
    "normalize = True\n",
    "num_neurons = 50\n",
    "\n",
    "model = cebra2.model.Model(\n",
    "    nn.Linear(\n",
    "        num_neurons,\n",
    "        10\n",
    "    ),\n",
    "    nn.GELU(),\n",
    "    nn.Linear(\n",
    "        10,\n",
    "        3\n",
    "    ),\n",
    "    num_input=num_neurons,\n",
    "    num_output=num_output,\n",
    "    normalize = False\n",
    "        )"
   ]
  },
  {
   "cell_type": "code",
   "execution_count": 13,
   "metadata": {},
   "outputs": [],
   "source": [
    "fc_train_vector = dfc\n",
    "#discrete = meta"
   ]
  },
  {
   "cell_type": "code",
   "execution_count": 14,
   "metadata": {},
   "outputs": [],
   "source": [
    "#Si single session\n",
    "fc_dataset = cebra2.dataset.TensorDataset(fc_train_vector) #,discrete = discrete)\n",
    "fc_loader = cebra2.dataset.Loader(fc_dataset, num_steps = 1000, batch_size = 1000, time_delta = 2)"
   ]
  },
  {
   "cell_type": "code",
   "execution_count": 16,
   "metadata": {},
   "outputs": [],
   "source": [
    "#Si multi session\n",
    "fc_dataset = cebra2.dataset.SimpleMultiSessionDataset(fc_train_vector) #,discrete = discrete)\n",
    "fc_loader = cebra2.dataset.MultiSessionLoader(fc_dataset, num_steps = 1000, batch_size = 100, time_delta = 2)"
   ]
  },
  {
   "cell_type": "code",
   "execution_count": 17,
   "metadata": {},
   "outputs": [],
   "source": [
    "cebra_fc = single_session_solver(data_loader = fc_loader, model_architecture = 'offset1-model', \n",
    "                 distance = 'cosine', num_hidden_units = 128, output_dimension = 128,\n",
    "                verbose = True, temperature = 1, beta = 1,learning_rate = 3e-5, model = model)"
   ]
  },
  {
   "cell_type": "code",
   "execution_count": 103,
   "metadata": {},
   "outputs": [
    {
     "name": "stdout",
     "output_type": "stream",
     "text": [
      "Epoch 0\n",
      "Train loss 6.8934, Train accuracy 0.00%\n",
      "Epoch 100\n",
      "Train loss 6.8956, Train accuracy 0.00%\n",
      "Epoch 200\n",
      "Train loss 6.8895, Train accuracy 0.00%\n",
      "Epoch 300\n",
      "Train loss 6.8889, Train accuracy 0.00%\n",
      "Epoch 400\n",
      "Train loss 6.8866, Train accuracy 0.00%\n",
      "Epoch 500\n",
      "Train loss 6.8839, Train accuracy 0.00%\n",
      "Epoch 600\n",
      "Train loss 6.8843, Train accuracy 0.00%\n",
      "Epoch 700\n",
      "Train loss 6.8856, Train accuracy 0.00%\n",
      "Epoch 800\n",
      "Train loss 6.8795, Train accuracy 0.00%\n",
      "Epoch 900\n",
      "Train loss 6.8752, Train accuracy 0.00%\n"
     ]
    }
   ],
   "source": [
    "cebra_fc.fit(fc_loader)"
   ]
  },
  {
   "cell_type": "code",
   "execution_count": 18,
   "metadata": {},
   "outputs": [
    {
     "name": "stderr",
     "output_type": "stream",
     "text": [
      "/neurospin/lbi/monkeyfmri/deepstim/workspace/2023_ASM_tembedding/gitproject/2023_asm_tembedding/env/lib/python3.8/site-packages/torch/cuda/__init__.py:107: UserWarning: CUDA initialization: The NVIDIA driver on your system is too old (found version 9010). Please update your GPU driver by downloading and installing a new version from the URL: http://www.nvidia.com/Download/index.aspx Alternatively, go to: https://pytorch.org to install a PyTorch version that has been compiled with your version of the CUDA driver. (Triggered internally at ../c10/cuda/CUDAFunctions.cpp:109.)\n",
      "  return torch._C._cuda_getDeviceCount() > 0\n"
     ]
    },
    {
     "data": {
      "text/plain": [
       "(-5.506203055381775, 6.085307002067566, -5.91550509929657, 5.866181540489197)"
      ]
     },
     "execution_count": 18,
     "metadata": {},
     "output_type": "execute_result"
    },
    {
     "data": {
      "image/png": "[encoded data removed]",
      "text/plain": [
       "<Figure size 1200x500 with 1 Axes>"
      ]
     },
     "metadata": {},
     "output_type": "display_data"
    }
   ],
   "source": [
    "fig = plt.figure(figsize = (12,5))\n",
    "\n",
    "ax1 = plt.subplot(121)\n",
    "colors = [\"black\",'red','green','blue','pink','grey']\n",
    "data = torch.from_numpy(dfc).type(torch.float32)\n",
    "fc_emb = _compute_emissions_single(cebra_fc, data)\n",
    "ax1.scatter(fc_emb[:,1], fc_emb[:,0], s=1)\n",
    "#ax1.xticks() \n",
    "ax1.axis('on')"
   ]
  },
  {
   "cell_type": "code",
   "execution_count": 19,
   "metadata": {},
   "outputs": [
    {
     "data": {
      "text/plain": [
       "(-0.7860126197338104,\n",
       " 2.4443508088588715,\n",
       " -0.9903371334075928,\n",
       " 6.265228986740112)"
      ]
     },
     "execution_count": 19,
     "metadata": {},
     "output_type": "execute_result"
    },
    {
     "data": {
      "image/png": "[encoded data removed]",
      "text/plain": [
       "<Figure size 1200x500 with 1 Axes>"
      ]
     },
     "metadata": {},
     "output_type": "display_data"
    }
   ],
   "source": [
    "fig = plt.figure(figsize = (12,5))\n",
    "\n",
    "ax1 = plt.subplot(121)\n",
    "colors = [\"black\",'red','green','blue','pink','grey']\n",
    "for i in range(6):\n",
    "    data = torch.from_numpy(dfc[i,:]).type(torch.float32)\n",
    "    fc_emb = _compute_emissions_single(cebra_fc, data)\n",
    "    ax1.scatter(fc_emb[:,2], fc_emb[:,0], c = colors[int(meta[i,0])], s=1)\n",
    "#ax1.xticks() \n",
    "ax1.axis('on')"
   ]
  },
  {
   "cell_type": "code",
   "execution_count": 47,
   "metadata": {},
   "outputs": [
    {
     "data": {
      "text/plain": [
       "array([0.85154647, 0.84271604, 0.8054037 , 0.82855004, 0.8131946 ,\n",
       "       0.7415217 , 0.7432062 , 0.8608511 , 0.8469128 , 0.64217544,\n",
       "       0.8305512 , 0.82320195, 0.8491223 , 0.79578763, 0.6182777 ,\n",
       "       0.8175461 , 0.8504333 , 0.80230516, 0.8471003 , 0.82638043,\n",
       "       0.8019343 , 0.8563623 , 0.79516065, 0.8630579 , 0.8327116 ,\n",
       "       0.82610893, 0.8330532 , 0.80367434, 0.81344324, 0.8560402 ,\n",
       "       0.8664488 , 0.82001746, 0.8369263 , 0.8626054 , 0.83434916,\n",
       "       0.7963342 , 0.8346572 , 0.84812737, 0.83650535, 0.86135453,\n",
       "       0.835256  , 0.8555301 , 0.8232088 , 0.84169006, 0.83165634,\n",
       "       0.7664996 , 0.67862934, 0.8362539 , 0.83639157, 0.83652824,\n",
       "       0.7975961 , 0.92984766, 0.8660097 , 0.831456  , 0.8147686 ,\n",
       "       0.8151435 , 0.8078452 , 0.83588475, 0.8001504 , 0.8334385 ,\n",
       "       0.87690324, 0.8330698 , 0.8176767 , 0.8291991 , 0.8555954 ,\n",
       "       0.80897653, 0.8212079 , 0.85831255, 0.823974  , 0.83280444,\n",
       "       0.849166  , 0.8330515 , 0.84164   , 0.83329475, 0.8396245 ,\n",
       "       0.6564422 , 0.83574796, 0.8290431 , 0.808044  , 0.8400739 ,\n",
       "       0.8362502 , 0.84981936, 0.84050465, 0.8381825 , 0.8013744 ,\n",
       "       0.89005667, 0.8838532 , 0.89368695, 0.8200116 , 0.8261289 ,\n",
       "       0.24518856, 0.84638333, 0.86227876, 0.8497371 , 0.8734693 ,\n",
       "       0.88588786, 0.8525651 , 0.8359494 , 0.81200975, 0.8982521 ],\n",
       "      dtype=float32)"
      ]
     },
     "execution_count": 47,
     "metadata": {},
     "output_type": "execute_result"
    }
   ],
   "source": [
    "fc_emb[:,0]"
   ]
  }
 ],
 "metadata": {
  "kernelspec": {
   "display_name": "Python 3 (ipykernel)",
   "language": "python",
   "name": "python3"
  },
  "language_info": {
   "codemirror_mode": {
    "name": "ipython",
    "version": 3
   },
   "file_extension": ".py",
   "mimetype": "text/x-python",
   "name": "python",
   "nbconvert_exporter": "python",
   "pygments_lexer": "ipython3",
   "version": "3.8.10"
  }
 },
 "nbformat": 4,
 "nbformat_minor": 2
}
