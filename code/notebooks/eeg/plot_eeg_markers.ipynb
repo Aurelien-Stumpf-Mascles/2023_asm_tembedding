{
 "cells": [
  {
   "cell_type": "code",
   "execution_count": 4,
   "metadata": {},
   "outputs": [],
   "source": [
    "import sys\n",
    "sys.path.append('/neurospin/lbi/monkeyfmri/deepstim/workspace/2023_ASM_tembedding/gitproject/2023_asm_tembedding/')"
   ]
  },
  {
   "cell_type": "code",
   "execution_count": 3,
   "metadata": {},
   "outputs": [],
   "source": [
    "import os\n",
    "import glob\n",
    "import mne\n",
    "import pandas as pd\n",
    "import seaborn as sns\n",
    "import matplotlib.pyplot as plt\n",
    "from tembedding.eeg import eeg_markers"
   ]
  },
  {
   "cell_type": "code",
   "execution_count": 10,
   "metadata": {},
   "outputs": [],
   "source": [
    "os.environ[\"TEMBEDDING_DIR\"] = \"/neurospin/lbi/monkeyfmri/deepstim/database/DBS_database/\""
   ]
  },
  {
   "cell_type": "code",
   "execution_count": 11,
   "metadata": {},
   "outputs": [
    {
     "name": "stdout",
     "output_type": "stream",
     "text": [
      "    subject   session      condition   \n",
      "0      Taro  20160513  cm_5v_results  \\\n",
      "1      Taro  20161209  cm_5v_results   \n",
      "2      Taro  20160429  cm_5v_results   \n",
      "3      Nori  20170407  cm_5v_results   \n",
      "4      Nori  20170407  cm_5v_results   \n",
      "..      ...       ...            ...   \n",
      "107    Taro  20161209  vl_5v_results   \n",
      "108    Taro  20161209  vl_5v_results   \n",
      "109    Taro  20161209  vl_5v_results   \n",
      "110    Taro  20161209  vl_5v_results   \n",
      "111    Taro  20161209  vl_5v_results   \n",
      "\n",
      "                                                  path  \n",
      "0    /neurospin/lbi/monkeyfmri/deepstim/database/DB...  \n",
      "1    /neurospin/lbi/monkeyfmri/deepstim/database/DB...  \n",
      "2    /neurospin/lbi/monkeyfmri/deepstim/database/DB...  \n",
      "3    /neurospin/lbi/monkeyfmri/deepstim/database/DB...  \n",
      "4    /neurospin/lbi/monkeyfmri/deepstim/database/DB...  \n",
      "..                                                 ...  \n",
      "107  /neurospin/lbi/monkeyfmri/deepstim/database/DB...  \n",
      "108  /neurospin/lbi/monkeyfmri/deepstim/database/DB...  \n",
      "109  /neurospin/lbi/monkeyfmri/deepstim/database/DB...  \n",
      "110  /neurospin/lbi/monkeyfmri/deepstim/database/DB...  \n",
      "111  /neurospin/lbi/monkeyfmri/deepstim/database/DB...  \n",
      "\n",
      "[112 rows x 4 columns]\n",
      "        session                       condition                              \n",
      "          count unique       top freq     count unique            top freq   \n",
      "subject                                                                      \n",
      "Nori         36      2  20170407   20        36      3  cm_3v_results   13  \\\n",
      "Taro         76      7  20161209   22        76      5  vl_3v_results   20   \n",
      "\n",
      "         path                                                                 \n",
      "        count unique                                                top freq  \n",
      "subject                                                                       \n",
      "Nori       36     36  /neurospin/lbi/monkeyfmri/deepstim/database/DB...    1  \n",
      "Taro       76     76  /neurospin/lbi/monkeyfmri/deepstim/database/DB...    1  \n"
     ]
    }
   ],
   "source": [
    "datadir = os.getenv(\"TEMBEDDING_DIR\")\n",
    "if datadir is None:\n",
    "    raise ValueError(\"Please specify the dataset directory in the \"\n",
    "                     \"TEMBEDDING_DIR variable.\")\n",
    "eegdir = os.path.join(datadir, \"derivatives\", \"eeg_preproc\")\n",
    "data = {\"subject\": [], \"session\": [], \"condition\": [], \"path\": []}\n",
    "for path in glob.glob(os.path.join(eegdir, \"*\", \"*\", \"*.fif\")):\n",
    "    split = path.split(os.sep)\n",
    "    data[\"condition\"].append(split[-3])\n",
    "    sid, ses = split[-2].split(\"_\")[:2]\n",
    "    data[\"subject\"].append(sid)\n",
    "    data[\"session\"].append(ses)\n",
    "    data[\"path\"].append(path)\n",
    "data = pd.DataFrame.from_dict(data)\n",
    "print(data)\n",
    "print(data.groupby(\"subject\").describe())"
   ]
  }
 ],
 "metadata": {
  "kernelspec": {
   "display_name": "env",
   "language": "python",
   "name": "python3"
  },
  "language_info": {
   "codemirror_mode": {
    "name": "ipython",
    "version": 3
   },
   "file_extension": ".py",
   "mimetype": "text/x-python",
   "name": "python",
   "nbconvert_exporter": "python",
   "pygments_lexer": "ipython3",
   "version": "3.8.10"
  },
  "orig_nbformat": 4
 },
 "nbformat": 4,
 "nbformat_minor": 2
}
