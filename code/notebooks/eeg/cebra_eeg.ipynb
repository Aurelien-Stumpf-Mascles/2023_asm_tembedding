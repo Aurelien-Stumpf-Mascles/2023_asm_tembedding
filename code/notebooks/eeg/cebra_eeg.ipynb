{
 "cells": [
  {
   "cell_type": "code",
   "execution_count": 7,
   "metadata": {},
   "outputs": [],
   "source": [
    "import sys\n",
    "sys.path\n",
    "sys.path.append('/neurospin/lbi/monkeyfmri/deepstim/workspace/2023_ASM_tembedding/gitproject/2023_asm_tembedding/code/')"
   ]
  },
  {
   "cell_type": "code",
   "execution_count": 9,
   "metadata": {},
   "outputs": [],
   "source": [
    "import numpy as np\n",
    "import matplotlib.pyplot as plt\n",
    "import matplotlib\n",
    "import torch\n",
    "import torch.nn as nn\n",
    "import cebra_v2 as cebra2\n",
    "from collections import defaultdict\n",
    "import torch.nn.functional as F\n",
    "from sklearn.model_selection import train_test_split\n",
    "from sklearn.decomposition import PCA,FastICA\n",
    "from torch.utils.data.sampler import BatchSampler\n",
    "import package\n",
    "import pandas as pd\n",
    "import matplotlib.animation as animation\n",
    "import matplotlib.cm as cm\n",
    "import scipy as sc\n",
    "from skimage.metrics import structural_similarity as ssim\n",
    "from sklearn.cluster import KMeans,OPTICS,DBSCAN\n",
    "import math\n",
    "from joblib import Memory,Parallel,delayed,parallel_backend\n",
    "import time\n",
    "from multiprocessing import Lock, Process, Queue\n",
    "import multiprocessing\n",
    "import queue \n",
    "import os\n",
    "import networkx as nx\n",
    "from scipy.spatial.transform import Rotation as R\n",
    "import sklearn"
   ]
  },
  {
   "cell_type": "code",
   "execution_count": null,
   "metadata": {},
   "outputs": [],
   "source": [
    "dfc = np.load('/neurospin/lbi/monkeyfmri/deepstim/database/ANESTHETIC_database/derivatives/reference_kmeans/inputs/inputs.npy')\n",
    "meta = pd.read_csv(\"/neurospin/lbi/monkeyfmri/deepstim/database/ANESTHETIC_database/derivatives/reference_kmeans/inputs/metadata.tsv\", sep=\"\\t\")\n",
    "\n",
    "n_runs = len(set(meta[\"unique_id\"] + meta[\"monkey\"]))\n",
    "n_wins = 464\n",
    "dfc_train = dfc[meta[\"monkey\"].isin(['almira', 'khali', 'kimiko', 'rana'])].reshape((-1, n_wins, 82, 82))\n",
    "dfc_test = dfc[meta[\"monkey\"] == \"jade\"].reshape((-1, n_wins, 82, 82))\n",
    "dfc_all = dfc.reshape((-1, n_wins, 82, 82))"
   ]
  }
 ],
 "metadata": {
  "kernelspec": {
   "display_name": "env",
   "language": "python",
   "name": "python3"
  },
  "language_info": {
   "codemirror_mode": {
    "name": "ipython",
    "version": 3
   },
   "file_extension": ".py",
   "mimetype": "text/x-python",
   "name": "python",
   "nbconvert_exporter": "python",
   "pygments_lexer": "ipython3",
   "version": "3.8.10"
  },
  "orig_nbformat": 4
 },
 "nbformat": 4,
 "nbformat_minor": 2
}
