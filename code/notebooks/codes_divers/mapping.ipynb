{
 "cells": [
  {
   "cell_type": "code",
   "execution_count": 1,
   "metadata": {},
   "outputs": [
    {
     "name": "stdout",
     "output_type": "stream",
     "text": [
      "\u001b[0m\u001b[01;32mDemo.ipynb\u001b[0m*                      \u001b[01;32mdemo_with_labels.ipynb\u001b[0m*\n",
      "\u001b[01;32mdemo_matrix_distance.ipynb\u001b[0m*      \u001b[01;32mgraph_analysis.ipynb\u001b[0m*\n",
      "\u001b[01;32mdemo_matrix_distance_pca.ipynb\u001b[0m*  \u001b[01;32mmapping.ipynb\u001b[0m*\n",
      "\u001b[01;32mdemo_monkey_fmri_test.ipynb\u001b[0m*     \u001b[01;32mtest.ipynb\u001b[0m*\n",
      "\u001b[01;32mdemo_time.ipynb\u001b[0m*\n"
     ]
    }
   ],
   "source": [
    "ls"
   ]
  },
  {
   "cell_type": "code",
   "execution_count": 2,
   "metadata": {},
   "outputs": [
    {
     "name": "stdout",
     "output_type": "stream",
     "text": [
      "/neurospin/lbi/monkeyfmri/deepstim/workspace/2023_JH_eegfmri/results\n"
     ]
    }
   ],
   "source": [
    "cd /neurospin/lbi/monkeyfmri/deepstim/workspace/2023_JH_eegfmri/results"
   ]
  },
  {
   "cell_type": "code",
   "execution_count": 3,
   "metadata": {},
   "outputs": [
    {
     "name": "stdout",
     "output_type": "stream",
     "text": [
      "EEG-fMRIc.tsv  \u001b[0m\u001b[01;32mEEG-fMRI.tsv\u001b[0m*  \u001b[01;34mfigure\u001b[0m/\n"
     ]
    }
   ],
   "source": [
    "ls"
   ]
  },
  {
   "cell_type": "code",
   "execution_count": 4,
   "metadata": {},
   "outputs": [],
   "source": [
    "import pandas as pd"
   ]
  },
  {
   "cell_type": "code",
   "execution_count": 10,
   "metadata": {},
   "outputs": [],
   "source": [
    "db = pd.read_csv(\"/neurospin/lbi/monkeyfmri/deepstim/workspace/2023_JH_eegfmri/results/EEG-fMRIc.tsv\",sep = \"\\t\")"
   ]
  },
  {
   "cell_type": "code",
   "execution_count": 8,
   "metadata": {},
   "outputs": [
    {
     "data": {
      "text/html": [
       "<div>\n",
       "<style scoped>\n",
       "    .dataframe tbody tr th:only-of-type {\n",
       "        vertical-align: middle;\n",
       "    }\n",
       "\n",
       "    .dataframe tbody tr th {\n",
       "        vertical-align: top;\n",
       "    }\n",
       "\n",
       "    .dataframe thead th {\n",
       "        text-align: right;\n",
       "    }\n",
       "</style>\n",
       "<table border=\"1\" class=\"dataframe\">\n",
       "  <thead>\n",
       "    <tr style=\"text-align: right;\">\n",
       "      <th></th>\n",
       "      <th>sub</th>\n",
       "      <th>ses EEG</th>\n",
       "      <th>run EEG</th>\n",
       "      <th>pattern</th>\n",
       "      <th>icm_preproc_path</th>\n",
       "      <th>raw_path</th>\n",
       "      <th>cond DBS</th>\n",
       "      <th>cond plot</th>\n",
       "      <th>cond activité</th>\n",
       "      <th>Run fMRI</th>\n",
       "      <th>FC</th>\n",
       "      <th>FR</th>\n",
       "      <th>Sat</th>\n",
       "      <th>EfCO2</th>\n",
       "      <th>PAS</th>\n",
       "      <th>PAD</th>\n",
       "      <th>PAM</th>\n",
       "    </tr>\n",
       "  </thead>\n",
       "  <tbody>\n",
       "    <tr>\n",
       "      <th>0</th>\n",
       "      <td>taro</td>\n",
       "      <td>20160422</td>\n",
       "      <td>1</td>\n",
       "      <td>/neurospin/lbi/monkeyfmri/DICOM/3T_dicom/taro/...</td>\n",
       "      <td>/neurospin/lbi/monkeyfmri/deepstim/database/DB...</td>\n",
       "      <td>/neurospin/lbi/monkeyfmri/DICOM/3T_dicom/taro/...</td>\n",
       "      <td>anest</td>\n",
       "      <td>NaN</td>\n",
       "      <td>RS</td>\n",
       "      <td>3</td>\n",
       "      <td>139.0</td>\n",
       "      <td>20.0</td>\n",
       "      <td>99.0</td>\n",
       "      <td>39.0</td>\n",
       "      <td>94.0</td>\n",
       "      <td>45.0</td>\n",
       "      <td>66.0</td>\n",
       "    </tr>\n",
       "    <tr>\n",
       "      <th>1</th>\n",
       "      <td>taro</td>\n",
       "      <td>20160422</td>\n",
       "      <td>2</td>\n",
       "      <td>/neurospin/lbi/monkeyfmri/DICOM/3T_dicom/taro/...</td>\n",
       "      <td>/neurospin/lbi/monkeyfmri/deepstim/database/DB...</td>\n",
       "      <td>/neurospin/lbi/monkeyfmri/DICOM/3T_dicom/taro/...</td>\n",
       "      <td>anest</td>\n",
       "      <td>NaN</td>\n",
       "      <td>RS</td>\n",
       "      <td>6</td>\n",
       "      <td>137.0</td>\n",
       "      <td>20.0</td>\n",
       "      <td>100.0</td>\n",
       "      <td>37.0</td>\n",
       "      <td>104.0</td>\n",
       "      <td>48.0</td>\n",
       "      <td>74.0</td>\n",
       "    </tr>\n",
       "    <tr>\n",
       "      <th>2</th>\n",
       "      <td>taro</td>\n",
       "      <td>20160422</td>\n",
       "      <td>1</td>\n",
       "      <td>/neurospin/lbi/monkeyfmri/DICOM/3T_dicom/taro/...</td>\n",
       "      <td>/neurospin/lbi/monkeyfmri/deepstim/database/DB...</td>\n",
       "      <td>/neurospin/lbi/monkeyfmri/DICOM/3T_dicom/taro/...</td>\n",
       "      <td>cm_3v</td>\n",
       "      <td>1</td>\n",
       "      <td>RS</td>\n",
       "      <td>7</td>\n",
       "      <td>147.0</td>\n",
       "      <td>20.0</td>\n",
       "      <td>100.0</td>\n",
       "      <td>37.0</td>\n",
       "      <td>103.0</td>\n",
       "      <td>49.0</td>\n",
       "      <td>74.0</td>\n",
       "    </tr>\n",
       "    <tr>\n",
       "      <th>3</th>\n",
       "      <td>taro</td>\n",
       "      <td>20160422</td>\n",
       "      <td>2</td>\n",
       "      <td>/neurospin/lbi/monkeyfmri/DICOM/3T_dicom/taro/...</td>\n",
       "      <td>/neurospin/lbi/monkeyfmri/deepstim/database/DB...</td>\n",
       "      <td>/neurospin/lbi/monkeyfmri/DICOM/3T_dicom/taro/...</td>\n",
       "      <td>cm_3v</td>\n",
       "      <td>1</td>\n",
       "      <td>RS</td>\n",
       "      <td>8</td>\n",
       "      <td>146.0</td>\n",
       "      <td>20.0</td>\n",
       "      <td>99.0</td>\n",
       "      <td>37.0</td>\n",
       "      <td>106.0</td>\n",
       "      <td>46.0</td>\n",
       "      <td>76.0</td>\n",
       "    </tr>\n",
       "    <tr>\n",
       "      <th>4</th>\n",
       "      <td>taro</td>\n",
       "      <td>20160422</td>\n",
       "      <td>3</td>\n",
       "      <td>/neurospin/lbi/monkeyfmri/DICOM/3T_dicom/taro/...</td>\n",
       "      <td>/neurospin/lbi/monkeyfmri/deepstim/database/DB...</td>\n",
       "      <td>/neurospin/lbi/monkeyfmri/DICOM/3T_dicom/taro/...</td>\n",
       "      <td>cm_3v</td>\n",
       "      <td>1</td>\n",
       "      <td>RS</td>\n",
       "      <td>9</td>\n",
       "      <td>148.0</td>\n",
       "      <td>20.0</td>\n",
       "      <td>100.0</td>\n",
       "      <td>38.0</td>\n",
       "      <td>105.0</td>\n",
       "      <td>48.0</td>\n",
       "      <td>74.0</td>\n",
       "    </tr>\n",
       "  </tbody>\n",
       "</table>\n",
       "</div>"
      ],
      "text/plain": [
       "    sub   ses EEG  run EEG                                            pattern  \\\n",
       "0  taro  20160422        1  /neurospin/lbi/monkeyfmri/DICOM/3T_dicom/taro/...   \n",
       "1  taro  20160422        2  /neurospin/lbi/monkeyfmri/DICOM/3T_dicom/taro/...   \n",
       "2  taro  20160422        1  /neurospin/lbi/monkeyfmri/DICOM/3T_dicom/taro/...   \n",
       "3  taro  20160422        2  /neurospin/lbi/monkeyfmri/DICOM/3T_dicom/taro/...   \n",
       "4  taro  20160422        3  /neurospin/lbi/monkeyfmri/DICOM/3T_dicom/taro/...   \n",
       "\n",
       "                                    icm_preproc_path  \\\n",
       "0  /neurospin/lbi/monkeyfmri/deepstim/database/DB...   \n",
       "1  /neurospin/lbi/monkeyfmri/deepstim/database/DB...   \n",
       "2  /neurospin/lbi/monkeyfmri/deepstim/database/DB...   \n",
       "3  /neurospin/lbi/monkeyfmri/deepstim/database/DB...   \n",
       "4  /neurospin/lbi/monkeyfmri/deepstim/database/DB...   \n",
       "\n",
       "                                            raw_path cond DBS cond plot  \\\n",
       "0  /neurospin/lbi/monkeyfmri/DICOM/3T_dicom/taro/...    anest       NaN   \n",
       "1  /neurospin/lbi/monkeyfmri/DICOM/3T_dicom/taro/...    anest       NaN   \n",
       "2  /neurospin/lbi/monkeyfmri/DICOM/3T_dicom/taro/...    cm_3v         1   \n",
       "3  /neurospin/lbi/monkeyfmri/DICOM/3T_dicom/taro/...    cm_3v         1   \n",
       "4  /neurospin/lbi/monkeyfmri/DICOM/3T_dicom/taro/...    cm_3v         1   \n",
       "\n",
       "  cond activité Run fMRI     FC    FR    Sat  EfCO2    PAS   PAD   PAM  \n",
       "0            RS        3  139.0  20.0   99.0   39.0   94.0  45.0  66.0  \n",
       "1            RS        6  137.0  20.0  100.0   37.0  104.0  48.0  74.0  \n",
       "2            RS        7  147.0  20.0  100.0   37.0  103.0  49.0  74.0  \n",
       "3            RS        8  146.0  20.0   99.0   37.0  106.0  46.0  76.0  \n",
       "4            RS        9  148.0  20.0  100.0   38.0  105.0  48.0  74.0  "
      ]
     },
     "execution_count": 8,
     "metadata": {},
     "output_type": "execute_result"
    }
   ],
   "source": [
    "db.head()"
   ]
  },
  {
   "cell_type": "code",
   "execution_count": 9,
   "metadata": {},
   "outputs": [
    {
     "data": {
      "text/plain": [
       "array(['anest', 'cm_3v', 'cm_5v', 'vl_3v', 'vl_5v'], dtype=object)"
      ]
     },
     "execution_count": 9,
     "metadata": {},
     "output_type": "execute_result"
    }
   ],
   "source": [
    "db[\"cond DBS\"].unique()"
   ]
  }
 ],
 "metadata": {
  "kernelspec": {
   "display_name": ".venv",
   "language": "python",
   "name": "python3"
  },
  "language_info": {
   "codemirror_mode": {
    "name": "ipython",
    "version": 3
   },
   "file_extension": ".py",
   "mimetype": "text/x-python",
   "name": "python",
   "nbconvert_exporter": "python",
   "pygments_lexer": "ipython3",
   "version": "3.8.10"
  },
  "orig_nbformat": 4
 },
 "nbformat": 4,
 "nbformat_minor": 2
}
