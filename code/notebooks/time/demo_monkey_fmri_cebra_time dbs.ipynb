{
 "cells": [
  {
   "cell_type": "code",
   "execution_count": 2,
   "metadata": {},
   "outputs": [],
   "source": [
    "import sys\n",
    "sys.path.append(\"/volatile/aurelien_stumpf_mascles/project/code\")"
   ]
  },
  {
   "cell_type": "code",
   "execution_count": 3,
   "metadata": {},
   "outputs": [],
   "source": [
    "import numpy as np\n",
    "import matplotlib.pyplot as plt\n",
    "import matplotlib\n",
    "import torch\n",
    "import torch.nn as nn\n",
    "import cebra_v2 as cebra2\n",
    "from collections import defaultdict\n",
    "import torch.nn.functional as F\n",
    "from sklearn.model_selection import train_test_split\n",
    "from sklearn.decomposition import PCA,FastICA\n",
    "from torch.utils.data.sampler import BatchSampler\n",
    "import package\n",
    "import pandas as pd\n",
    "import matplotlib.animation as animation\n",
    "import tembedding\n",
    "import scipy as sc\n",
    "from skimage.metrics import structural_similarity as ssim\n",
    "from sklearn.cluster import KMeans,OPTICS\n",
    "import math\n",
    "from joblib import Memory,Parallel,delayed,parallel_backend\n",
    "import time\n",
    "from multiprocessing import Lock, Process, Queue\n",
    "import multiprocessing\n",
    "import queue \n",
    "import os\n",
    "import networkx as nx\n",
    "from scipy.spatial.transform import Rotation as R"
   ]
  },
  {
   "cell_type": "code",
   "execution_count": 21,
   "metadata": {},
   "outputs": [
    {
     "data": {
      "text/plain": [
       "<module 'cebra_v2.dataset' from '/volatile/aurelien_stumpf_mascles/project/code/cebra_v2/dataset.py'>"
      ]
     },
     "execution_count": 21,
     "metadata": {},
     "output_type": "execute_result"
    }
   ],
   "source": [
    "import importlib\n",
    "importlib.reload(package.preprocessing)\n",
    "importlib.reload(cebra2.distribution)\n",
    "importlib.reload(cebra2.dataset)"
   ]
  },
  {
   "attachments": {},
   "cell_type": "markdown",
   "metadata": {},
   "source": [
    "## Utilitaires"
   ]
  },
  {
   "cell_type": "code",
   "execution_count": 2,
   "metadata": {},
   "outputs": [],
   "source": [
    "def single_session_solver(data_loader, **kwargs):\n",
    "    \"\"\"Train a single session CEBRA model.\"\"\"\n",
    "    norm = True\n",
    "    if kwargs['distance'] == 'euclidean':\n",
    "        norm = False\n",
    "    model = kwargs[\"model\"]\n",
    "\n",
    "    if kwargs['distance'] == 'euclidean':\n",
    "        criterion = cebra2.criterion.EuclideanInfoNCE(temperature=kwargs['temperature'],beta = kwargs['beta'])\n",
    "    elif kwargs['distance'] == 'cosine':        \n",
    "        criterion = cebra2.criterion.CosineInfoNCE(temperature=kwargs['temperature'],beta = kwargs['beta'])\n",
    "\n",
    "    optimizer = torch.optim.Adam(model.parameters(), lr=kwargs['learning_rate'])\n",
    "\n",
    "    return cebra2.solver.SingleSessionSolver(model=model,\n",
    "                                            criterion=criterion,\n",
    "                                            optimizer=optimizer)\n",
    "\n",
    "@torch.no_grad()\n",
    "def get_emissions(model, dataset):\n",
    "    if torch.cuda.is_available():\n",
    "        device = \"cuda\"\n",
    "    else:\n",
    "        device = \"cpu\"\n",
    "    model.to(device)\n",
    "    return model(dataset).cpu().numpy()\n",
    "\n",
    "def _compute_emissions_single(model, dataset):\n",
    "    return get_emissions(model, dataset)"
   ]
  },
  {
   "attachments": {},
   "cell_type": "markdown",
   "metadata": {},
   "source": [
    "## DBS"
   ]
  },
  {
   "cell_type": "code",
   "execution_count": 13,
   "metadata": {},
   "outputs": [
    {
     "name": "stdout",
     "output_type": "stream",
     "text": [
      "/neurospin/lbi/monkeyfmri/deepstim/database/DBS_database/rawdata/dfc/outliers\n"
     ]
    }
   ],
   "source": [
    "cd /neurospin/lbi/monkeyfmri/deepstim/database/DBS_database/rawdata/dfc/outliers"
   ]
  },
  {
   "cell_type": "code",
   "execution_count": 14,
   "metadata": {},
   "outputs": [
    {
     "name": "stdout",
     "output_type": "stream",
     "text": [
      "\u001b[0m\u001b[01;32mdfc.npy\u001b[0m*  \u001b[01;32mmetadata.tsv\u001b[0m*\n"
     ]
    }
   ],
   "source": [
    "ls"
   ]
  },
  {
   "attachments": {},
   "cell_type": "markdown",
   "metadata": {},
   "source": [
    "## Data Loading"
   ]
  },
  {
   "cell_type": "code",
   "execution_count": 4,
   "metadata": {},
   "outputs": [],
   "source": [
    "dfc = np.load('/neurospin/lbi/monkeyfmri/deepstim/database/DBS_database/rawdata/dfc/outliers/dfc.npy')\n",
    "meta = pd.read_csv(\"/neurospin/lbi/monkeyfmri/deepstim/database/DBS_database/rawdata/dfc/outliers/metadata.tsv\", sep=\"\\t\")"
   ]
  },
  {
   "cell_type": "code",
   "execution_count": 5,
   "metadata": {},
   "outputs": [],
   "source": [
    "n_runs = len(set(meta[\"unique_id\"] + meta[\"monkey\"]))\n",
    "n_wins = 464\n",
    "dfc_all = dfc.reshape((-1, n_wins, 82, 82))"
   ]
  },
  {
   "cell_type": "code",
   "execution_count": 10,
   "metadata": {},
   "outputs": [],
   "source": [
    "def STRUCTURE(x,y):\n",
    "        return 1 - package.preprocessing.structure(x,y,is_batch = False)\n",
    "\n",
    "metric = STRUCTURE"
   ]
  },
  {
   "cell_type": "code",
   "execution_count": 5,
   "metadata": {},
   "outputs": [],
   "source": [
    "dict_labels = {'awake-bold' : 0, 'stim-cont-on-3v' : 1, 'stim-cont-on-5v' : 2, 'stim-off' : 3, 'stim-on-3v' : 4, 'stim-on-5v' : 5}"
   ]
  },
  {
   "cell_type": "code",
   "execution_count": 6,
   "metadata": {},
   "outputs": [],
   "source": [
    "meta_condition = meta[\"condition\"]\n",
    "labels_all_condition = np.array([meta_condition.iloc[i] for i in range(len(meta_condition))])\n",
    "labels_all = np.array([dict_labels[elem] for elem in labels_all_condition]).reshape((len(labels_all_condition)//464,464))"
   ]
  },
  {
   "cell_type": "code",
   "execution_count": 10,
   "metadata": {},
   "outputs": [],
   "source": [
    "fc_dbs = dfc_all.reshape((dfc_all.shape[0],464,1,82,82))"
   ]
  },
  {
   "attachments": {},
   "cell_type": "markdown",
   "metadata": {},
   "source": [
    "## Cebra"
   ]
  },
  {
   "cell_type": "code",
   "execution_count": 35,
   "metadata": {},
   "outputs": [],
   "source": [
    "fc_dbs = dfc_all.reshape((dfc_all.shape[0],464,82,82))\n",
    "fc_dbs_vector = torch.from_numpy(package.preprocessing.flatten_higher_triangular(torch.from_numpy(fc_dbs)))\n",
    "fc_dbs_vector = fc_dbs_vector.type(torch.float32)"
   ]
  },
  {
   "cell_type": "code",
   "execution_count": 29,
   "metadata": {},
   "outputs": [
    {
     "data": {
      "text/plain": [
       "Model(\n",
       "  (net): Sequential(\n",
       "    (0): Linear(in_features=3321, out_features=100, bias=True)\n",
       "    (1): Dropout(p=0.2, inplace=False)\n",
       "    (2): GELU(approximate='none')\n",
       "    (3): Linear(in_features=100, out_features=20, bias=True)\n",
       "    (4): GELU(approximate='none')\n",
       "    (5): Linear(in_features=20, out_features=3, bias=True)\n",
       "    (6): _Norm()\n",
       "    (7): Squeeze()\n",
       "  )\n",
       ")"
      ]
     },
     "execution_count": 29,
     "metadata": {},
     "output_type": "execute_result"
    }
   ],
   "source": [
    "num_output = 3\n",
    "normalize = True\n",
    "num_neurons = 3321\n",
    "\n",
    "model = cebra2.model.Model(\n",
    "    nn.Linear(\n",
    "        num_neurons,\n",
    "        100,\n",
    "    ),\n",
    "    nn.Dropout(0.2),\n",
    "    nn.GELU(),\n",
    "    nn.Linear(\n",
    "        100,\n",
    "        20,\n",
    "    ),\n",
    "    nn.GELU(),\n",
    "    nn.Linear(\n",
    "        20,\n",
    "        3,\n",
    "    ),\n",
    "    num_input=num_neurons,\n",
    "    num_output=num_output,\n",
    "    normalize = True\n",
    "        )\n",
    "model.load_state_dict(torch.load('/volatile/aurelien_stumpf_mascles/project/models/model.pth'))\n",
    "model.eval()"
   ]
  },
  {
   "cell_type": "code",
   "execution_count": 41,
   "metadata": {},
   "outputs": [
    {
     "data": {
      "text/plain": [
       "(184, 464)"
      ]
     },
     "execution_count": 41,
     "metadata": {},
     "output_type": "execute_result"
    }
   ],
   "source": [
    "labels_all.shape"
   ]
  },
  {
   "cell_type": "code",
   "execution_count": 36,
   "metadata": {},
   "outputs": [
    {
     "data": {
      "text/plain": [
       "torch.Size([184, 464, 3321])"
      ]
     },
     "execution_count": 36,
     "metadata": {},
     "output_type": "execute_result"
    }
   ],
   "source": [
    "fc_dbs_vector.shape"
   ]
  },
  {
   "cell_type": "code",
   "execution_count": 89,
   "metadata": {},
   "outputs": [
    {
     "data": {
      "text/plain": [
       "array([[108],\n",
       "       [109],\n",
       "       [110],\n",
       "       [111],\n",
       "       [112],\n",
       "       [113],\n",
       "       [114],\n",
       "       [115],\n",
       "       [116],\n",
       "       [117],\n",
       "       [118],\n",
       "       [119],\n",
       "       [120],\n",
       "       [121],\n",
       "       [122],\n",
       "       [123],\n",
       "       [124],\n",
       "       [125],\n",
       "       [126],\n",
       "       [127],\n",
       "       [128],\n",
       "       [129],\n",
       "       [130],\n",
       "       [131],\n",
       "       [132],\n",
       "       [133],\n",
       "       [134],\n",
       "       [135],\n",
       "       [136],\n",
       "       [137],\n",
       "       [138],\n",
       "       [139],\n",
       "       [140],\n",
       "       [141],\n",
       "       [142],\n",
       "       [143]])"
      ]
     },
     "execution_count": 89,
     "metadata": {},
     "output_type": "execute_result"
    }
   ],
   "source": [
    "np.argwhere(labels_all[:,0] == 5)"
   ]
  },
  {
   "cell_type": "code",
   "execution_count": 65,
   "metadata": {},
   "outputs": [
    {
     "name": "stderr",
     "output_type": "stream",
     "text": [
      "/tmp/ipykernel_662/2622663001.py:8: UserWarning: No data for colormapping provided via 'c'. Parameters 'cmap' will be ignored\n",
      "  ax1.scatter(fc_emb[:,1], fc_emb[:,2], cmap = matplotlib.colors.ListedColormap(colors), c = colors[labels_all[i,0]], s=1)\n"
     ]
    },
    {
     "data": {
      "text/plain": [
       "(-1.0996078163385392,\n",
       " 1.0996096640825272,\n",
       " -1.0999904900789261,\n",
       " 1.0999681383371354)"
      ]
     },
     "execution_count": 65,
     "metadata": {},
     "output_type": "execute_result"
    },
    {
     "data": {
      "image/png": "[encoded data removed]",
      "text/plain": [
       "<Figure size 1200x500 with 1 Axes>"
      ]
     },
     "metadata": {},
     "output_type": "display_data"
    }
   ],
   "source": [
    "fig = plt.figure(figsize = (12,5))\n",
    "\n",
    "ax1 = plt.subplot(121)\n",
    "ax1.set_title('Embedding of train set')\n",
    "colors = [\"black\",'red','green',\"blue\",\"pink\",\"yellow\"]\n",
    "for i in range(40):\n",
    "    fc_emb = _compute_emissions_single(model, fc_dbs_vector[i,:,:])\n",
    "    ax1.scatter(fc_emb[:,1], fc_emb[:,2], cmap = matplotlib.colors.ListedColormap(colors), c = colors[labels_all[i,0]], s=1)\n",
    "#ax1.xticks() \n",
    "ax1.axis('off')"
   ]
  },
  {
   "attachments": {},
   "cell_type": "markdown",
   "metadata": {},
   "source": [
    "### Algorithme de classification"
   ]
  },
  {
   "cell_type": "code",
   "execution_count": 73,
   "metadata": {},
   "outputs": [
    {
     "data": {
      "text/plain": [
       "(184, 464)"
      ]
     },
     "execution_count": 73,
     "metadata": {},
     "output_type": "execute_result"
    }
   ],
   "source": [
    "labels_all.shape"
   ]
  },
  {
   "cell_type": "code",
   "execution_count": 67,
   "metadata": {},
   "outputs": [
    {
     "data": {
      "text/plain": [
       "<All keys matched successfully>"
      ]
     },
     "execution_count": 67,
     "metadata": {},
     "output_type": "execute_result"
    }
   ],
   "source": [
    "net = package.torch_classifier.MLP(input_dim = 3,output_dim = 3)\n",
    "net.load_state_dict(torch.load('/volatile/aurelien_stumpf_mascles/project/models/classifier.pth'))"
   ]
  },
  {
   "cell_type": "code",
   "execution_count": 74,
   "metadata": {},
   "outputs": [
    {
     "name": "stdout",
     "output_type": "stream",
     "text": [
      "True label : 0, Predicted label : 2, Probas : [0.19216716 0.11656231 0.6912705 ]\n",
      "True label : 0, Predicted label : 2, Probas : [0.11048429 0.06250868 0.82700706]\n",
      "True label : 0, Predicted label : 2, Probas : [0.25909987 0.1812598  0.5596403 ]\n",
      "True label : 0, Predicted label : 2, Probas : [0.3035058  0.26910603 0.4273882 ]\n",
      "True label : 0, Predicted label : 2, Probas : [0.1528837  0.11042586 0.7366904 ]\n",
      "True label : 0, Predicted label : 2, Probas : [0.27372438 0.22274707 0.50352854]\n",
      "True label : 0, Predicted label : 2, Probas : [0.27238435 0.25117823 0.47643745]\n",
      "True label : 0, Predicted label : 2, Probas : [0.10251262 0.08483481 0.8126526 ]\n",
      "True label : 0, Predicted label : 1, Probas : [0.35342145 0.41255444 0.23402411]\n",
      "True label : 0, Predicted label : 2, Probas : [0.22361274 0.13958111 0.6368061 ]\n",
      "True label : 0, Predicted label : 1, Probas : [0.3856672  0.39450812 0.2198247 ]\n",
      "True label : 0, Predicted label : 2, Probas : [0.20616588 0.13299617 0.66083795]\n",
      "True label : 0, Predicted label : 2, Probas : [0.06435002 0.03934258 0.8963074 ]\n",
      "True label : 0, Predicted label : 2, Probas : [0.09424207 0.04631964 0.8594383 ]\n",
      "True label : 0, Predicted label : 2, Probas : [0.14902227 0.12145681 0.7295209 ]\n",
      "True label : 0, Predicted label : 2, Probas : [0.12108717 0.06418519 0.8147276 ]\n",
      "True label : 0, Predicted label : 2, Probas : [0.04790403 0.03222109 0.9198749 ]\n",
      "True label : 0, Predicted label : 2, Probas : [0.10204659 0.05258312 0.84537023]\n",
      "True label : 0, Predicted label : 0, Probas : [0.42250055 0.27657896 0.3009205 ]\n",
      "True label : 0, Predicted label : 0, Probas : [0.37238482 0.3113062  0.31630898]\n",
      "True label : 0, Predicted label : 2, Probas : [0.3047732  0.17857574 0.5166511 ]\n",
      "True label : 0, Predicted label : 0, Probas : [0.46833286 0.37774783 0.15391932]\n",
      "True label : 0, Predicted label : 0, Probas : [0.5113548  0.46783745 0.02080769]\n",
      "True label : 0, Predicted label : 0, Probas : [0.49404773 0.48196307 0.02398919]\n",
      "True label : 0, Predicted label : 0, Probas : [0.4742141  0.47204915 0.05373677]\n",
      "True label : 0, Predicted label : 0, Probas : [0.40788066 0.39176202 0.20035733]\n",
      "True label : 0, Predicted label : 2, Probas : [0.3013464  0.22813192 0.47052166]\n",
      "True label : 0, Predicted label : 2, Probas : [0.29722884 0.33302054 0.3697506 ]\n",
      "True label : 0, Predicted label : 1, Probas : [0.42373586 0.4296739  0.14659023]\n",
      "True label : 0, Predicted label : 2, Probas : [0.31823802 0.19235602 0.48940596]\n",
      "True label : 0, Predicted label : 2, Probas : [0.31556523 0.27888212 0.40555263]\n",
      "True label : 0, Predicted label : 0, Probas : [0.3919389  0.38489735 0.22316374]\n",
      "True label : 0, Predicted label : 2, Probas : [0.15125011 0.12058033 0.7281696 ]\n",
      "True label : 0, Predicted label : 2, Probas : [0.28877175 0.2070669  0.50416136]\n",
      "True label : 0, Predicted label : 2, Probas : [0.22320743 0.16802016 0.6087724 ]\n",
      "True label : 0, Predicted label : 2, Probas : [0.25413582 0.15917112 0.586693  ]\n",
      "True label : 0, Predicted label : 2, Probas : [0.2936971  0.22105633 0.48524657]\n",
      "True label : 0, Predicted label : 2, Probas : [0.10674521 0.06589366 0.8273612 ]\n",
      "True label : 0, Predicted label : 2, Probas : [0.2280774  0.18712008 0.58480257]\n",
      "True label : 0, Predicted label : 0, Probas : [0.36337003 0.27769303 0.3589369 ]\n",
      "True label : 0, Predicted label : 2, Probas : [0.12284195 0.06793077 0.8092272 ]\n",
      "True label : 3, Predicted label : 0, Probas : [0.48791468 0.37078592 0.14129941]\n",
      "True label : 3, Predicted label : 0, Probas : [0.5177139  0.43292817 0.04935801]\n",
      "True label : 3, Predicted label : 0, Probas : [0.5439144  0.42802396 0.02806163]\n",
      "True label : 3, Predicted label : 0, Probas : [0.5027016  0.35191357 0.14538482]\n",
      "True label : 3, Predicted label : 0, Probas : [0.4039963  0.25500256 0.34100112]\n",
      "True label : 3, Predicted label : 0, Probas : [0.4149977  0.25026968 0.33473265]\n",
      "True label : 3, Predicted label : 0, Probas : [0.4916693  0.34174573 0.16658495]\n",
      "True label : 3, Predicted label : 0, Probas : [0.3499684  0.3400237  0.31000787]\n",
      "True label : 3, Predicted label : 0, Probas : [0.43645886 0.41755638 0.14598474]\n",
      "True label : 3, Predicted label : 0, Probas : [0.43001932 0.3235772  0.24640353]\n",
      "True label : 3, Predicted label : 0, Probas : [0.47736514 0.43027344 0.09236144]\n",
      "True label : 3, Predicted label : 0, Probas : [0.47417358 0.40261978 0.12320662]\n",
      "True label : 3, Predicted label : 0, Probas : [0.4658951  0.39271468 0.14139022]\n",
      "True label : 3, Predicted label : 2, Probas : [0.21072358 0.15102543 0.63825095]\n",
      "True label : 3, Predicted label : 2, Probas : [0.16827984 0.10929467 0.72242546]\n",
      "True label : 3, Predicted label : 2, Probas : [0.15657705 0.10433621 0.73908675]\n",
      "True label : 3, Predicted label : 0, Probas : [0.35060197 0.30898833 0.34040964]\n",
      "True label : 3, Predicted label : 2, Probas : [0.27288067 0.23260944 0.49450994]\n",
      "True label : 3, Predicted label : 2, Probas : [0.3136523  0.28770855 0.3986391 ]\n",
      "True label : 3, Predicted label : 0, Probas : [0.42010012 0.41032356 0.16957635]\n",
      "True label : 3, Predicted label : 2, Probas : [0.27942795 0.18149978 0.5390723 ]\n",
      "True label : 3, Predicted label : 0, Probas : [0.44652975 0.43521553 0.11825474]\n",
      "True label : 3, Predicted label : 0, Probas : [0.43881345 0.3222598  0.23892672]\n",
      "True label : 3, Predicted label : 0, Probas : [0.48292378 0.44602102 0.07105527]\n",
      "True label : 3, Predicted label : 0, Probas : [0.4640747  0.46373674 0.07218861]\n",
      "True label : 3, Predicted label : 0, Probas : [0.45405006 0.43558946 0.11036053]\n",
      "True label : 3, Predicted label : 0, Probas : [0.42889532 0.30522826 0.26587644]\n",
      "True label : 3, Predicted label : 0, Probas : [0.44208258 0.35246596 0.20545147]\n",
      "True label : 3, Predicted label : 0, Probas : [0.4278487  0.42405215 0.14809911]\n",
      "True label : 3, Predicted label : 0, Probas : [0.46280012 0.34227148 0.19492838]\n",
      "True label : 3, Predicted label : 0, Probas : [0.47853133 0.39835793 0.12311076]\n",
      "True label : 3, Predicted label : 0, Probas : [0.489891   0.4007122  0.10939684]\n",
      "True label : 4, Predicted label : 1, Probas : [0.44273758 0.4435646  0.11369784]\n",
      "True label : 4, Predicted label : 1, Probas : [0.33485073 0.44728303 0.21786623]\n",
      "True label : 4, Predicted label : 2, Probas : [0.23326512 0.2454317  0.52130324]\n",
      "True label : 4, Predicted label : 2, Probas : [0.15607747 0.11043362 0.7334889 ]\n",
      "True label : 4, Predicted label : 2, Probas : [0.25101534 0.2277966  0.521188  ]\n",
      "True label : 4, Predicted label : 2, Probas : [0.17924161 0.10518114 0.7155773 ]\n",
      "True label : 4, Predicted label : 2, Probas : [0.21927045 0.21420522 0.5665243 ]\n",
      "True label : 4, Predicted label : 2, Probas : [0.2900198 0.25185   0.4581302]\n",
      "True label : 4, Predicted label : 2, Probas : [0.24456966 0.18471538 0.570715  ]\n",
      "True label : 4, Predicted label : 0, Probas : [0.3558491  0.3049895  0.33916137]\n",
      "True label : 4, Predicted label : 1, Probas : [0.36255708 0.4667941  0.17064883]\n",
      "True label : 4, Predicted label : 0, Probas : [0.41328517 0.35483998 0.23187491]\n",
      "True label : 4, Predicted label : 2, Probas : [0.23588845 0.22261709 0.5414944 ]\n",
      "True label : 4, Predicted label : 0, Probas : [0.473673   0.35404646 0.1722805 ]\n",
      "True label : 4, Predicted label : 2, Probas : [0.26434875 0.20701246 0.5286388 ]\n",
      "True label : 4, Predicted label : 2, Probas : [0.08795708 0.05013781 0.86190504]\n",
      "True label : 4, Predicted label : 1, Probas : [0.42080405 0.44400674 0.13518919]\n",
      "True label : 4, Predicted label : 0, Probas : [0.4275084  0.3855501  0.18694146]\n",
      "True label : 4, Predicted label : 2, Probas : [0.2691007  0.1877451  0.54315424]\n",
      "True label : 4, Predicted label : 2, Probas : [0.18532938 0.13047785 0.6841928 ]\n",
      "True label : 4, Predicted label : 2, Probas : [0.23649728 0.13059011 0.6329126 ]\n",
      "True label : 4, Predicted label : 2, Probas : [0.276302  0.1846256 0.5390724]\n",
      "True label : 4, Predicted label : 1, Probas : [0.3513645  0.37173855 0.27689692]\n",
      "True label : 4, Predicted label : 0, Probas : [0.41093788 0.32964846 0.25941363]\n",
      "True label : 4, Predicted label : 0, Probas : [0.41637775 0.37270334 0.21091881]\n",
      "True label : 4, Predicted label : 0, Probas : [0.43822834 0.4037031  0.15806855]\n",
      "True label : 4, Predicted label : 0, Probas : [0.45632973 0.3335708  0.21009944]\n",
      "True label : 4, Predicted label : 0, Probas : [0.5031511  0.40926778 0.08758109]\n",
      "True label : 4, Predicted label : 2, Probas : [0.35090882 0.23969027 0.4094009 ]\n",
      "True label : 4, Predicted label : 0, Probas : [0.3681361  0.29216722 0.33969668]\n",
      "True label : 4, Predicted label : 0, Probas : [0.40533453 0.27360854 0.32105693]\n",
      "True label : 4, Predicted label : 0, Probas : [0.38663346 0.30880496 0.3045616 ]\n",
      "True label : 4, Predicted label : 0, Probas : [0.48161548 0.43031618 0.08806833]\n",
      "True label : 4, Predicted label : 2, Probas : [0.35634544 0.24378082 0.39987373]\n",
      "True label : 4, Predicted label : 0, Probas : [0.39180946 0.2625369  0.3456536 ]\n",
      "True label : 5, Predicted label : 2, Probas : [0.09943275 0.05860804 0.8419591 ]\n",
      "True label : 5, Predicted label : 2, Probas : [0.10554168 0.06747781 0.8269805 ]\n",
      "True label : 5, Predicted label : 2, Probas : [0.20831873 0.16174269 0.62993854]\n",
      "True label : 5, Predicted label : 2, Probas : [0.18808645 0.12471996 0.68719363]\n",
      "True label : 5, Predicted label : 2, Probas : [0.24708126 0.17155012 0.58136857]\n",
      "True label : 5, Predicted label : 2, Probas : [0.22971387 0.16987306 0.6004131 ]\n",
      "True label : 5, Predicted label : 2, Probas : [0.13707955 0.0898624  0.77305806]\n",
      "True label : 5, Predicted label : 2, Probas : [0.33538717 0.23653823 0.4280746 ]\n",
      "True label : 5, Predicted label : 2, Probas : [0.11418379 0.06584524 0.81997097]\n",
      "True label : 5, Predicted label : 2, Probas : [0.10591059 0.05555704 0.8385323 ]\n",
      "True label : 5, Predicted label : 2, Probas : [0.15944222 0.10942426 0.7311336 ]\n",
      "True label : 5, Predicted label : 2, Probas : [0.24904838 0.16488932 0.58606225]\n",
      "True label : 5, Predicted label : 2, Probas : [0.2629098  0.21732146 0.5197688 ]\n",
      "True label : 5, Predicted label : 2, Probas : [0.09381463 0.05342329 0.85276216]\n",
      "True label : 5, Predicted label : 0, Probas : [0.4699939  0.38387245 0.14613369]\n",
      "True label : 5, Predicted label : 0, Probas : [0.5434837  0.40737304 0.04914329]\n",
      "True label : 5, Predicted label : 2, Probas : [0.23377942 0.19443984 0.57178074]\n",
      "True label : 5, Predicted label : 2, Probas : [0.29245293 0.20961635 0.4979307 ]\n",
      "True label : 5, Predicted label : 0, Probas : [0.39803368 0.37211367 0.22985262]\n",
      "True label : 5, Predicted label : 2, Probas : [0.1047122  0.0593623  0.83592546]\n",
      "True label : 5, Predicted label : 2, Probas : [0.12577496 0.07317861 0.80104643]\n",
      "True label : 5, Predicted label : 2, Probas : [0.09674204 0.05915654 0.8441015 ]\n",
      "True label : 5, Predicted label : 2, Probas : [0.06554623 0.04203263 0.8924212 ]\n",
      "True label : 5, Predicted label : 2, Probas : [0.07759685 0.05004851 0.8723547 ]\n",
      "True label : 5, Predicted label : 2, Probas : [0.13866124 0.08537725 0.77596146]\n",
      "True label : 5, Predicted label : 2, Probas : [0.21913435 0.1467627  0.634103  ]\n",
      "True label : 5, Predicted label : 0, Probas : [0.45030794 0.3976775  0.15201457]\n",
      "True label : 5, Predicted label : 0, Probas : [0.4530561  0.4029679  0.14397599]\n",
      "True label : 5, Predicted label : 0, Probas : [0.43390763 0.3309471  0.23514526]\n",
      "True label : 5, Predicted label : 0, Probas : [0.42495313 0.34552416 0.22952275]\n",
      "True label : 5, Predicted label : 0, Probas : [0.45379704 0.38966918 0.15653375]\n",
      "True label : 5, Predicted label : 2, Probas : [0.33009955 0.20887083 0.46102962]\n",
      "True label : 5, Predicted label : 2, Probas : [0.28026858 0.16681665 0.5529148 ]\n",
      "True label : 5, Predicted label : 2, Probas : [0.25128272 0.16824917 0.58046806]\n",
      "True label : 5, Predicted label : 2, Probas : [0.28038743 0.22004697 0.49956566]\n",
      "True label : 5, Predicted label : 2, Probas : [0.19332908 0.1104854  0.6961855 ]\n",
      "True label : 1, Predicted label : 2, Probas : [0.26121622 0.19726989 0.54151386]\n",
      "True label : 1, Predicted label : 2, Probas : [0.11628237 0.05909833 0.8246193 ]\n",
      "True label : 1, Predicted label : 0, Probas : [0.42804655 0.41969734 0.15225612]\n",
      "True label : 1, Predicted label : 0, Probas : [0.43244445 0.3745019  0.19305366]\n",
      "True label : 1, Predicted label : 0, Probas : [0.42703286 0.40678614 0.166181  ]\n",
      "True label : 1, Predicted label : 2, Probas : [0.33426785 0.23261958 0.43311256]\n",
      "True label : 1, Predicted label : 2, Probas : [0.23921552 0.16957618 0.5912082 ]\n",
      "True label : 1, Predicted label : 2, Probas : [0.2540712 0.2131302 0.5327986]\n",
      "True label : 1, Predicted label : 2, Probas : [0.18052498 0.17955014 0.6399249 ]\n",
      "True label : 1, Predicted label : 2, Probas : [0.3210728  0.33579534 0.3431319 ]\n",
      "True label : 1, Predicted label : 2, Probas : [0.32883006 0.3014202  0.36974972]\n",
      "True label : 1, Predicted label : 2, Probas : [0.24746525 0.1916328  0.560902  ]\n",
      "True label : 1, Predicted label : 0, Probas : [0.40329584 0.3559632  0.24074091]\n",
      "True label : 1, Predicted label : 2, Probas : [0.23995684 0.17006062 0.5899825 ]\n",
      "True label : 1, Predicted label : 2, Probas : [0.29079956 0.24330138 0.46589905]\n",
      "True label : 1, Predicted label : 0, Probas : [0.4080454  0.3092927  0.28266186]\n",
      "True label : 1, Predicted label : 2, Probas : [0.2687797  0.22719039 0.5040299 ]\n",
      "True label : 1, Predicted label : 2, Probas : [0.32936114 0.30233383 0.368305  ]\n",
      "True label : 1, Predicted label : 2, Probas : [0.29383945 0.23398443 0.47217613]\n",
      "True label : 1, Predicted label : 0, Probas : [0.3720026  0.31869474 0.30930263]\n",
      "True label : 2, Predicted label : 0, Probas : [0.4550293  0.35687456 0.18809618]\n",
      "True label : 2, Predicted label : 0, Probas : [0.42184862 0.2903511  0.28780028]\n",
      "True label : 2, Predicted label : 2, Probas : [0.34161952 0.27695137 0.38142908]\n",
      "True label : 2, Predicted label : 0, Probas : [0.49110612 0.37769753 0.13119632]\n",
      "True label : 2, Predicted label : 0, Probas : [0.4510858  0.4193536  0.12956055]\n",
      "True label : 2, Predicted label : 0, Probas : [0.44240648 0.4126593  0.14493419]\n",
      "True label : 2, Predicted label : 2, Probas : [0.35420522 0.26155415 0.3842406 ]\n",
      "True label : 2, Predicted label : 0, Probas : [0.42826495 0.36666107 0.205074  ]\n",
      "True label : 2, Predicted label : 0, Probas : [0.38831335 0.29345313 0.31823355]\n",
      "True label : 2, Predicted label : 2, Probas : [0.26102996 0.24696219 0.49200788]\n",
      "True label : 2, Predicted label : 0, Probas : [0.47029254 0.41157794 0.11812947]\n",
      "True label : 2, Predicted label : 0, Probas : [0.46971565 0.403168   0.12711634]\n",
      "True label : 2, Predicted label : 0, Probas : [0.538561   0.32977578 0.13166316]\n",
      "True label : 2, Predicted label : 0, Probas : [0.4536212  0.30458695 0.24179186]\n",
      "True label : 2, Predicted label : 0, Probas : [0.4724011  0.38480586 0.142793  ]\n",
      "True label : 2, Predicted label : 2, Probas : [0.36136132 0.25223395 0.38640475]\n",
      "True label : 2, Predicted label : 0, Probas : [0.47496888 0.37503687 0.14999425]\n",
      "True label : 2, Predicted label : 0, Probas : [0.42141846 0.34286955 0.23571199]\n",
      "True label : 2, Predicted label : 2, Probas : [0.25962108 0.22683416 0.5135448 ]\n",
      "True label : 2, Predicted label : 0, Probas : [0.46309766 0.3447754  0.19212693]\n"
     ]
    }
   ],
   "source": [
    "net.eval()\n",
    "for session in range(184):\n",
    "    fc_emb = torch.from_numpy(_compute_emissions_single(model, fc_dbs_vector[session,:,:]))\n",
    "    probas = torch.sum(torch.exp(net(fc_emb.type(torch.float32))),dim=0)/464\n",
    "    res = torch.argmax(probas,dim=0)\n",
    "    print(\"True label : {}, Predicted label : {}, Probas : {}\".format(labels_all[session,0],res,probas.detach().numpy()))"
   ]
  },
  {
   "cell_type": "code",
   "execution_count": 91,
   "metadata": {},
   "outputs": [
    {
     "name": "stdout",
     "output_type": "stream",
     "text": [
      "[light-propofol,deep-propofol,awake]\n",
      "awake-bold : tensor([0.2195, 0.0732, 0.7073])\n",
      "stim-cont-on-3v : tensor([0.3000, 0.0000, 0.7000])\n",
      "stim-cont-on-5v : tensor([0.7500, 0.0000, 0.2500])\n",
      "stim-off : tensor([0.8125, 0.0000, 0.1875])\n",
      "stim-on-3v : tensor([0.4118, 0.1471, 0.4706])\n",
      "stim-on-5v : tensor([0.2286, 0.0000, 0.8000])\n"
     ]
    }
   ],
   "source": [
    "net.eval()\n",
    "accu = torch.zeros(3)\n",
    "print(\"[light-propofol,deep-propofol,awake]\")\n",
    "for session in range(0,41):\n",
    "    fc_emb = torch.from_numpy(_compute_emissions_single(model, fc_dbs_vector[session,:,:]))\n",
    "    probas = torch.sum(torch.exp(net(fc_emb.type(torch.float32))),dim=0)/464\n",
    "    res = torch.argmax(probas,dim=0)\n",
    "    accu[res] += 1\n",
    "print(\"awake-bold :\",accu/41)\n",
    "\n",
    "accu = torch.zeros(3)\n",
    "for session in range(144,164):\n",
    "    fc_emb = torch.from_numpy(_compute_emissions_single(model, fc_dbs_vector[session,:,:]))\n",
    "    probas = torch.sum(torch.exp(net(fc_emb.type(torch.float32))),dim=0)/464\n",
    "    res = torch.argmax(probas,dim=0)\n",
    "    accu[res] += 1\n",
    "print(\"stim-cont-on-3v :\",accu/20)\n",
    "\n",
    "accu = torch.zeros(3)\n",
    "for session in range(164,184):\n",
    "    fc_emb = torch.from_numpy(_compute_emissions_single(model, fc_dbs_vector[session,:,:]))\n",
    "    probas = torch.sum(torch.exp(net(fc_emb.type(torch.float32))),dim=0)/464\n",
    "    res = torch.argmax(probas,dim=0)\n",
    "    accu[res] += 1\n",
    "print(\"stim-cont-on-5v :\",accu/20)\n",
    "\n",
    "accu = torch.zeros(3)\n",
    "for session in range(41,73):\n",
    "    fc_emb = torch.from_numpy(_compute_emissions_single(model, fc_dbs_vector[session,:,:]))\n",
    "    probas = torch.sum(torch.exp(net(fc_emb.type(torch.float32))),dim=0)/464\n",
    "    res = torch.argmax(probas,dim=0)\n",
    "    accu[res] += 1\n",
    "print(\"stim-off :\",accu/32)\n",
    "\n",
    "accu = torch.zeros(3)\n",
    "for session in range(73,108):\n",
    "    fc_emb = torch.from_numpy(_compute_emissions_single(model, fc_dbs_vector[session,:,:]))\n",
    "    probas = torch.sum(torch.exp(net(fc_emb.type(torch.float32))),dim=0)/464\n",
    "    res = torch.argmax(probas,dim=0)\n",
    "    accu[res] += 1\n",
    "print(\"stim-on-3v :\",accu/34)\n",
    "\n",
    "accu = torch.zeros(3)\n",
    "for session in range(108,144):\n",
    "    fc_emb = torch.from_numpy(_compute_emissions_single(model, fc_dbs_vector[session,:,:]))\n",
    "    probas = torch.sum(torch.exp(net(fc_emb.type(torch.float32))),dim=0)/464\n",
    "    res = torch.argmax(probas,dim=0)\n",
    "    accu[res] += 1\n",
    "print(\"stim-on-5v :\",accu/35)"
   ]
  },
  {
   "attachments": {},
   "cell_type": "markdown",
   "metadata": {},
   "source": [
    "## MLP on dbs"
   ]
  },
  {
   "cell_type": "code",
   "execution_count": 94,
   "metadata": {},
   "outputs": [
    {
     "data": {
      "text/plain": [
       "<All keys matched successfully>"
      ]
     },
     "execution_count": 94,
     "metadata": {},
     "output_type": "execute_result"
    }
   ],
   "source": [
    "mlp = package.torch_classifier.MLP2(input_dim = 3321,output_dim = 3)\n",
    "mlp.load_state_dict(torch.load('/volatile/aurelien_stumpf_mascles/project/models/condition_classifier.pth'))"
   ]
  },
  {
   "cell_type": "code",
   "execution_count": 97,
   "metadata": {},
   "outputs": [
    {
     "name": "stdout",
     "output_type": "stream",
     "text": [
      "True label : 0, Predicted label : 0, Probas : [0.8057636  0.06592146 0.128315  ]\n",
      "True label : 0, Predicted label : 0, Probas : [0.77404153 0.03551681 0.19044167]\n",
      "True label : 0, Predicted label : 0, Probas : [0.57464415 0.21402368 0.21133216]\n",
      "True label : 0, Predicted label : 0, Probas : [0.69819415 0.11385728 0.18794858]\n",
      "True label : 0, Predicted label : 0, Probas : [7.0508933e-01 2.4787523e-05 2.9488596e-01]\n",
      "True label : 0, Predicted label : 0, Probas : [0.69860876 0.10491075 0.1964805 ]\n",
      "True label : 0, Predicted label : 0, Probas : [0.5999804  0.06472281 0.33529684]\n",
      "True label : 0, Predicted label : 0, Probas : [0.5690403  0.07093722 0.36002246]\n",
      "True label : 0, Predicted label : 0, Probas : [0.48737684 0.074703   0.43792012]\n",
      "True label : 0, Predicted label : 0, Probas : [0.75449413 0.05296081 0.19254507]\n",
      "True label : 0, Predicted label : 0, Probas : [0.79273754 0.13546167 0.07180074]\n",
      "True label : 0, Predicted label : 0, Probas : [0.50913703 0.16848831 0.32237464]\n",
      "True label : 0, Predicted label : 0, Probas : [0.6932759 0.008559  0.2981651]\n",
      "True label : 0, Predicted label : 2, Probas : [0.44203496 0.03042716 0.5275379 ]\n",
      "True label : 0, Predicted label : 2, Probas : [0.30699924 0.1170546  0.57594615]\n",
      "True label : 0, Predicted label : 0, Probas : [0.78577626 0.0338188  0.18040495]\n",
      "True label : 0, Predicted label : 2, Probas : [0.47819245 0.01030137 0.5115062 ]\n",
      "True label : 0, Predicted label : 0, Probas : [0.86432844 0.01993434 0.11573723]\n",
      "True label : 0, Predicted label : 0, Probas : [0.6941661  0.12241758 0.18341625]\n",
      "True label : 0, Predicted label : 0, Probas : [0.7166006  0.19016723 0.09323207]\n",
      "True label : 0, Predicted label : 0, Probas : [0.57850146 0.12617141 0.29532713]\n",
      "True label : 0, Predicted label : 0, Probas : [0.62000847 0.33570638 0.04428514]\n",
      "True label : 0, Predicted label : 0, Probas : [7.7216613e-01 2.2755748e-01 2.7636657e-04]\n",
      "True label : 0, Predicted label : 0, Probas : [0.5918718  0.3909092  0.01721905]\n",
      "True label : 0, Predicted label : 1, Probas : [0.47227064 0.5021348  0.02559466]\n",
      "True label : 0, Predicted label : 0, Probas : [0.59162784 0.08251243 0.3258598 ]\n",
      "True label : 0, Predicted label : 0, Probas : [7.9356086e-01 2.1892069e-05 2.0641728e-01]\n",
      "True label : 0, Predicted label : 2, Probas : [0.2425176  0.18168016 0.57580227]\n",
      "True label : 0, Predicted label : 0, Probas : [0.7146996  0.16029692 0.12500343]\n",
      "True label : 0, Predicted label : 0, Probas : [0.60990274 0.02431518 0.36578205]\n",
      "True label : 0, Predicted label : 2, Probas : [0.24643628 0.08644655 0.6671172 ]\n",
      "True label : 0, Predicted label : 2, Probas : [0.29305893 0.02581294 0.68112814]\n",
      "True label : 0, Predicted label : 2, Probas : [0.3806835  0.03429057 0.58502597]\n",
      "True label : 0, Predicted label : 0, Probas : [0.488521   0.17710356 0.33437538]\n",
      "True label : 0, Predicted label : 0, Probas : [0.78638065 0.13707606 0.07654335]\n",
      "True label : 0, Predicted label : 0, Probas : [0.82050997 0.07150047 0.1079896 ]\n",
      "True label : 0, Predicted label : 0, Probas : [0.6120501  0.24422902 0.14372094]\n",
      "True label : 0, Predicted label : 2, Probas : [4.2324862e-01 1.9415800e-06 5.7674938e-01]\n",
      "True label : 0, Predicted label : 2, Probas : [0.36464593 0.06226035 0.5730938 ]\n",
      "True label : 0, Predicted label : 2, Probas : [0.23146178 0.23850064 0.5300376 ]\n",
      "True label : 0, Predicted label : 2, Probas : [1.983069e-01 5.407897e-04 8.011523e-01]\n",
      "True label : 3, Predicted label : 0, Probas : [0.75246304 0.20197484 0.04556208]\n",
      "True label : 3, Predicted label : 0, Probas : [0.563535   0.4348102  0.00165481]\n",
      "True label : 3, Predicted label : 0, Probas : [0.6408044  0.32622415 0.0329714 ]\n",
      "True label : 3, Predicted label : 0, Probas : [0.74634135 0.21001218 0.04364651]\n",
      "True label : 3, Predicted label : 0, Probas : [0.8761309  0.07576164 0.04810753]\n",
      "True label : 3, Predicted label : 0, Probas : [0.9753326  0.01846525 0.00620215]\n",
      "True label : 3, Predicted label : 0, Probas : [0.8183644  0.15211885 0.02951673]\n",
      "True label : 3, Predicted label : 0, Probas : [0.7607523  0.18118018 0.05806752]\n",
      "True label : 3, Predicted label : 0, Probas : [0.5249377  0.45945445 0.01560786]\n",
      "True label : 3, Predicted label : 0, Probas : [0.56447524 0.36741105 0.06811374]\n",
      "True label : 3, Predicted label : 0, Probas : [0.65793335 0.30076718 0.04129945]\n",
      "True label : 3, Predicted label : 0, Probas : [0.56395704 0.4187489  0.01729407]\n",
      "True label : 3, Predicted label : 0, Probas : [0.6804434  0.2786559  0.04090079]\n",
      "True label : 3, Predicted label : 2, Probas : [0.31515655 0.02138603 0.6634574 ]\n",
      "True label : 3, Predicted label : 0, Probas : [0.49087197 0.10086767 0.40826032]\n",
      "True label : 3, Predicted label : 2, Probas : [0.44598866 0.10654028 0.44747108]\n",
      "True label : 3, Predicted label : 0, Probas : [0.6709126  0.22027041 0.10881696]\n",
      "True label : 3, Predicted label : 0, Probas : [0.75539637 0.09108447 0.1535192 ]\n",
      "True label : 3, Predicted label : 0, Probas : [0.5682348  0.29388058 0.1378846 ]\n",
      "True label : 3, Predicted label : 0, Probas : [0.51693386 0.43759188 0.04547433]\n",
      "True label : 3, Predicted label : 0, Probas : [0.770975   0.06971394 0.1593111 ]\n",
      "True label : 3, Predicted label : 0, Probas : [0.5833565  0.32624647 0.09039701]\n",
      "True label : 3, Predicted label : 0, Probas : [0.8891332  0.0738144  0.03705242]\n",
      "True label : 3, Predicted label : 0, Probas : [0.63106024 0.36764944 0.00129024]\n",
      "True label : 3, Predicted label : 0, Probas : [0.60851353 0.3898219  0.0016646 ]\n",
      "True label : 3, Predicted label : 0, Probas : [0.7365994  0.21877417 0.04462643]\n",
      "True label : 3, Predicted label : 0, Probas : [0.7702541  0.22516595 0.00458   ]\n",
      "True label : 3, Predicted label : 0, Probas : [0.7646641  0.22795583 0.00738008]\n",
      "True label : 3, Predicted label : 0, Probas : [0.6657741  0.32296163 0.01126423]\n",
      "True label : 3, Predicted label : 0, Probas : [6.2631357e-01 3.7338141e-01 3.0507302e-04]\n",
      "True label : 3, Predicted label : 0, Probas : [0.7428936  0.22413751 0.03296891]\n",
      "True label : 3, Predicted label : 0, Probas : [0.5738381  0.405707   0.02045485]\n",
      "True label : 4, Predicted label : 0, Probas : [0.48905918 0.386432   0.12450887]\n",
      "True label : 4, Predicted label : 1, Probas : [0.2859855  0.48785216 0.2261624 ]\n",
      "True label : 4, Predicted label : 2, Probas : [0.21722697 0.25540283 0.5273702 ]\n",
      "True label : 4, Predicted label : 2, Probas : [0.13285592 0.22976033 0.6373837 ]\n",
      "True label : 4, Predicted label : 2, Probas : [0.25946757 0.29851696 0.4420154 ]\n",
      "True label : 4, Predicted label : 2, Probas : [0.31679928 0.14048801 0.5427127 ]\n",
      "True label : 4, Predicted label : 2, Probas : [0.02766157 0.44869402 0.5236444 ]\n",
      "True label : 4, Predicted label : 0, Probas : [0.6654158  0.16516696 0.16941719]\n",
      "True label : 4, Predicted label : 0, Probas : [0.6176058  0.09914324 0.28325102]\n",
      "True label : 4, Predicted label : 0, Probas : [0.38244176 0.3625177  0.25504053]\n",
      "True label : 4, Predicted label : 1, Probas : [0.39418295 0.507258   0.09855901]\n",
      "True label : 4, Predicted label : 0, Probas : [0.6413122  0.28606722 0.07262059]\n",
      "True label : 4, Predicted label : 0, Probas : [0.58412063 0.0824669  0.33341244]\n",
      "True label : 4, Predicted label : 0, Probas : [0.69478244 0.2823767  0.02284082]\n",
      "True label : 4, Predicted label : 0, Probas : [0.57828397 0.29851872 0.12319735]\n",
      "True label : 4, Predicted label : 0, Probas : [0.72809184 0.01669243 0.2552157 ]\n",
      "True label : 4, Predicted label : 0, Probas : [0.5449179  0.4399727  0.01510942]\n",
      "True label : 4, Predicted label : 0, Probas : [0.66853344 0.2777855  0.05368097]\n",
      "True label : 4, Predicted label : 0, Probas : [0.80293447 0.07461682 0.12244875]\n",
      "True label : 4, Predicted label : 0, Probas : [0.8021176  0.08524272 0.11263973]\n",
      "True label : 4, Predicted label : 0, Probas : [0.9113214  0.07246515 0.01621347]\n",
      "True label : 4, Predicted label : 0, Probas : [0.82386535 0.13326164 0.04287296]\n",
      "True label : 4, Predicted label : 0, Probas : [0.66412014 0.30994675 0.02593318]\n",
      "True label : 4, Predicted label : 0, Probas : [0.81807816 0.12700365 0.05491815]\n",
      "True label : 4, Predicted label : 0, Probas : [0.732201   0.21534476 0.05245429]\n",
      "True label : 4, Predicted label : 0, Probas : [0.75770205 0.2357909  0.00650703]\n",
      "True label : 4, Predicted label : 0, Probas : [0.73520553 0.26323622 0.00155823]\n",
      "True label : 4, Predicted label : 0, Probas : [0.82254356 0.13757047 0.039886  ]\n",
      "True label : 4, Predicted label : 0, Probas : [0.8652466  0.12694985 0.00780351]\n",
      "True label : 4, Predicted label : 0, Probas : [0.7577218  0.22104776 0.02123043]\n",
      "True label : 4, Predicted label : 0, Probas : [0.8157953  0.17469394 0.00951076]\n",
      "True label : 4, Predicted label : 0, Probas : [0.7575689  0.23774493 0.00468618]\n",
      "True label : 4, Predicted label : 1, Probas : [0.43907624 0.56013095 0.00079279]\n",
      "True label : 4, Predicted label : 0, Probas : [0.737702   0.17818679 0.0841112 ]\n",
      "True label : 4, Predicted label : 0, Probas : [0.6821988  0.24028088 0.07752032]\n",
      "True label : 5, Predicted label : 0, Probas : [0.74558985 0.00830875 0.24610142]\n",
      "True label : 5, Predicted label : 0, Probas : [0.8126585  0.01545698 0.17188454]\n",
      "True label : 5, Predicted label : 0, Probas : [0.59579426 0.10019964 0.30400604]\n",
      "True label : 5, Predicted label : 0, Probas : [5.5083162e-01 1.7439194e-07 4.4916818e-01]\n",
      "True label : 5, Predicted label : 0, Probas : [0.5988096  0.09899288 0.30219752]\n",
      "True label : 5, Predicted label : 0, Probas : [0.6596037  0.08829803 0.2520983 ]\n",
      "True label : 5, Predicted label : 0, Probas : [0.5880148  0.05137161 0.36061352]\n",
      "True label : 5, Predicted label : 0, Probas : [0.62464774 0.15535766 0.21999456]\n",
      "True label : 5, Predicted label : 0, Probas : [0.61734784 0.03114634 0.3515058 ]\n",
      "True label : 5, Predicted label : 0, Probas : [7.7875245e-01 2.0369907e-07 2.2124740e-01]\n",
      "True label : 5, Predicted label : 0, Probas : [0.5340437  0.06372958 0.4022267 ]\n",
      "True label : 5, Predicted label : 0, Probas : [0.8127968  0.05116887 0.13603437]\n",
      "True label : 5, Predicted label : 0, Probas : [0.72176343 0.15201822 0.12621838]\n",
      "True label : 5, Predicted label : 0, Probas : [0.70379686 0.00479854 0.29140466]\n",
      "True label : 5, Predicted label : 0, Probas : [0.75952417 0.23761739 0.00285838]\n",
      "True label : 5, Predicted label : 0, Probas : [0.5800396  0.38189062 0.03806975]\n",
      "True label : 5, Predicted label : 0, Probas : [0.8161075  0.07579119 0.1081013 ]\n",
      "True label : 5, Predicted label : 0, Probas : [0.70883065 0.13159755 0.15957178]\n",
      "True label : 5, Predicted label : 0, Probas : [0.7811634  0.19326934 0.02556731]\n",
      "True label : 5, Predicted label : 0, Probas : [9.7680295e-01 3.9710690e-06 2.3193086e-02]\n",
      "True label : 5, Predicted label : 0, Probas : [9.7719431e-01 2.2579588e-02 2.2613438e-04]\n",
      "True label : 5, Predicted label : 0, Probas : [9.7419333e-01 1.7790704e-05 2.5788903e-02]\n",
      "True label : 5, Predicted label : 0, Probas : [9.4646215e-01 6.4463762e-07 5.3537216e-02]\n",
      "True label : 5, Predicted label : 0, Probas : [9.5010102e-01 5.1422912e-08 4.9898960e-02]\n",
      "True label : 5, Predicted label : 0, Probas : [0.9661639  0.01612666 0.01770941]\n",
      "True label : 5, Predicted label : 0, Probas : [0.89625114 0.05818605 0.04556282]\n",
      "True label : 5, Predicted label : 0, Probas : [0.73961794 0.20897995 0.05140202]\n",
      "True label : 5, Predicted label : 0, Probas : [0.70976275 0.2585256  0.0317116 ]\n",
      "True label : 5, Predicted label : 0, Probas : [0.73011774 0.24431615 0.02556617]\n",
      "True label : 5, Predicted label : 0, Probas : [0.63060296 0.28338075 0.08601633]\n",
      "True label : 5, Predicted label : 0, Probas : [0.6922554  0.23902304 0.06872164]\n",
      "True label : 5, Predicted label : 0, Probas : [0.85551363 0.14051762 0.00396872]\n",
      "True label : 5, Predicted label : 0, Probas : [0.7957281  0.18894958 0.01532229]\n",
      "True label : 5, Predicted label : 0, Probas : [0.8492696  0.04709582 0.10363455]\n",
      "True label : 5, Predicted label : 0, Probas : [0.7379971  0.16199063 0.10001224]\n",
      "True label : 5, Predicted label : 0, Probas : [0.86550653 0.08946802 0.04502545]\n",
      "True label : 1, Predicted label : 0, Probas : [0.6527315  0.12881231 0.21845624]\n",
      "True label : 1, Predicted label : 2, Probas : [1.4577658e-01 3.9627130e-07 8.5422307e-01]\n",
      "True label : 1, Predicted label : 0, Probas : [0.5874664  0.33266613 0.07986742]\n",
      "True label : 1, Predicted label : 0, Probas : [0.5219601  0.3744655  0.10357439]\n",
      "True label : 1, Predicted label : 0, Probas : [0.7426372  0.20851755 0.04884518]\n",
      "True label : 1, Predicted label : 0, Probas : [0.6173316  0.19002165 0.19264668]\n",
      "True label : 1, Predicted label : 0, Probas : [0.45470893 0.12998535 0.41530573]\n",
      "True label : 1, Predicted label : 0, Probas : [0.74756575 0.11644864 0.13598564]\n",
      "True label : 1, Predicted label : 0, Probas : [0.60419446 0.18413791 0.21166764]\n",
      "True label : 1, Predicted label : 0, Probas : [0.5257848  0.29758558 0.17662963]\n",
      "True label : 1, Predicted label : 0, Probas : [0.65133035 0.18032086 0.16834883]\n",
      "True label : 1, Predicted label : 0, Probas : [0.61672485 0.21299087 0.17028424]\n",
      "True label : 1, Predicted label : 0, Probas : [0.5895286  0.28867406 0.12179731]\n",
      "True label : 1, Predicted label : 0, Probas : [0.591737   0.17092225 0.2373408 ]\n",
      "True label : 1, Predicted label : 0, Probas : [0.6643278  0.16713576 0.16853645]\n",
      "True label : 1, Predicted label : 0, Probas : [0.47163558 0.36957893 0.15878549]\n",
      "True label : 1, Predicted label : 0, Probas : [0.5875913  0.09450857 0.3179001 ]\n",
      "True label : 1, Predicted label : 0, Probas : [0.5351353  0.3255504  0.13931426]\n",
      "True label : 1, Predicted label : 0, Probas : [0.69978344 0.13205774 0.16815884]\n",
      "True label : 1, Predicted label : 0, Probas : [0.74187243 0.1233957  0.13473187]\n",
      "True label : 2, Predicted label : 0, Probas : [0.6231816  0.3651851  0.01163331]\n",
      "True label : 2, Predicted label : 0, Probas : [0.59234697 0.2374364  0.17021666]\n",
      "True label : 2, Predicted label : 0, Probas : [0.7070031  0.22824456 0.06475233]\n",
      "True label : 2, Predicted label : 0, Probas : [0.5091345  0.46456358 0.02630199]\n",
      "True label : 2, Predicted label : 0, Probas : [0.6628006  0.31143907 0.02576031]\n",
      "True label : 2, Predicted label : 0, Probas : [0.5549488  0.38829982 0.05675139]\n",
      "True label : 2, Predicted label : 0, Probas : [0.6677704  0.14736652 0.18486312]\n",
      "True label : 2, Predicted label : 0, Probas : [0.70055425 0.2233575  0.07608826]\n",
      "True label : 2, Predicted label : 0, Probas : [0.7410936  0.1680231  0.09088328]\n",
      "True label : 2, Predicted label : 0, Probas : [0.7467244  0.14251232 0.11076322]\n",
      "True label : 2, Predicted label : 0, Probas : [0.62843347 0.3290003  0.04256621]\n",
      "True label : 2, Predicted label : 0, Probas : [0.60357356 0.3920958  0.00433062]\n",
      "True label : 2, Predicted label : 0, Probas : [0.6826959  0.29346135 0.02384272]\n",
      "True label : 2, Predicted label : 0, Probas : [0.7982138  0.07663363 0.1251526 ]\n",
      "True label : 2, Predicted label : 0, Probas : [0.6468186  0.27556002 0.07762146]\n",
      "True label : 2, Predicted label : 0, Probas : [0.7186788  0.16433045 0.11699073]\n",
      "True label : 2, Predicted label : 0, Probas : [0.5785435  0.32653922 0.09491732]\n",
      "True label : 2, Predicted label : 0, Probas : [0.57092714 0.31810513 0.11096772]\n",
      "True label : 2, Predicted label : 0, Probas : [0.69570357 0.11923215 0.18506433]\n",
      "True label : 2, Predicted label : 0, Probas : [0.6194023  0.19730827 0.18328948]\n"
     ]
    }
   ],
   "source": [
    "mlp.eval()\n",
    "for session in range(184):\n",
    "    probas = torch.sum(torch.exp(mlp(fc_dbs_vector[session,:,:].type(torch.float32))),dim=0)/464\n",
    "    res = torch.argmax(probas,dim=0)\n",
    "    print(\"True label : {}, Predicted label : {}, Probas : {}\".format(labels_all[session,0],res,probas.detach().numpy()))"
   ]
  },
  {
   "cell_type": "code",
   "execution_count": 100,
   "metadata": {},
   "outputs": [
    {
     "name": "stdout",
     "output_type": "stream",
     "text": [
      "[light-propofol,deep-propofol,awake]\n",
      "awake-bold : tensor([0.7073, 0.0244, 0.2683])\n",
      "stim-cont-on-3v : tensor([0.9500, 0.0000, 0.0500])\n",
      "stim-cont-on-5v : tensor([1., 0., 0.])\n",
      "stim-off : tensor([0.9375, 0.0000, 0.0625])\n",
      "stim-on-3v : tensor([0.7941, 0.0882, 0.1471])\n",
      "stim-on-5v : tensor([1., 0., 0.])\n"
     ]
    }
   ],
   "source": [
    "mlp.eval()\n",
    "accu = torch.zeros(3)\n",
    "print(\"[light-propofol,deep-propofol,awake]\")\n",
    "for session in range(0,41):\n",
    "    probas = torch.sum(torch.exp(mlp(fc_dbs_vector[session,:,:].type(torch.float32))),dim=0)/464\n",
    "    res = torch.argmax(probas,dim=0)\n",
    "    accu[res] += 1\n",
    "print(\"awake-bold :\",accu/41)\n",
    "\n",
    "accu = torch.zeros(3)\n",
    "for session in range(144,164):\n",
    "    probas = torch.sum(torch.exp(mlp(fc_dbs_vector[session,:,:].type(torch.float32))),dim=0)/464\n",
    "    res = torch.argmax(probas,dim=0)\n",
    "    accu[res] += 1\n",
    "print(\"stim-cont-on-3v :\",accu/20)\n",
    "\n",
    "accu = torch.zeros(3)\n",
    "for session in range(164,184):\n",
    "    probas = torch.sum(torch.exp(mlp(fc_dbs_vector[session,:,:].type(torch.float32))),dim=0)/464\n",
    "    res = torch.argmax(probas,dim=0)\n",
    "    accu[res] += 1\n",
    "print(\"stim-cont-on-5v :\",accu/20)\n",
    "\n",
    "accu = torch.zeros(3)\n",
    "for session in range(41,73):\n",
    "    probas = torch.sum(torch.exp(mlp(fc_dbs_vector[session,:,:].type(torch.float32))),dim=0)/464\n",
    "    res = torch.argmax(probas,dim=0)\n",
    "    accu[res] += 1\n",
    "print(\"stim-off :\",accu/32)\n",
    "\n",
    "accu = torch.zeros(3)\n",
    "for session in range(73,108):\n",
    "    probas = torch.sum(torch.exp(mlp(fc_dbs_vector[session,:,:].type(torch.float32))),dim=0)/464\n",
    "    res = torch.argmax(probas,dim=0)\n",
    "    accu[res] += 1\n",
    "print(\"stim-on-3v :\",accu/34)\n",
    "\n",
    "accu = torch.zeros(3)\n",
    "for session in range(108,144):\n",
    "    probas = torch.sum(torch.exp(mlp(fc_dbs_vector[session,:,:].type(torch.float32))),dim=0)/464\n",
    "    res = torch.argmax(probas,dim=0)\n",
    "    accu[res] += 1\n",
    "print(\"stim-on-5v :\",accu/36)"
   ]
  },
  {
   "attachments": {},
   "cell_type": "markdown",
   "metadata": {},
   "source": [
    "## CNN on DBS"
   ]
  },
  {
   "cell_type": "code",
   "execution_count": 8,
   "metadata": {},
   "outputs": [
    {
     "data": {
      "text/plain": [
       "<All keys matched successfully>"
      ]
     },
     "execution_count": 8,
     "metadata": {},
     "output_type": "execute_result"
    }
   ],
   "source": [
    "net = package.torch_classifier.CNN1()\n",
    "net.load_state_dict(torch.load('/volatile/aurelien_stumpf_mascles/project/models/model_cnn.pth'))"
   ]
  },
  {
   "cell_type": "code",
   "execution_count": 11,
   "metadata": {},
   "outputs": [
    {
     "data": {
      "text/plain": [
       "(184, 464, 1, 82, 82)"
      ]
     },
     "execution_count": 11,
     "metadata": {},
     "output_type": "execute_result"
    }
   ],
   "source": [
    "fc_dbs.shape"
   ]
  },
  {
   "cell_type": "code",
   "execution_count": 13,
   "metadata": {},
   "outputs": [
    {
     "name": "stdout",
     "output_type": "stream",
     "text": [
      "True label : 0, Predicted label : 2, Probas : [0.28819072 0.08055402 0.63125527]\n",
      "True label : 0, Predicted label : 0, Probas : [0.5199622  0.00705039 0.4729874 ]\n",
      "True label : 0, Predicted label : 0, Probas : [0.5244122  0.09389003 0.38169777]\n",
      "True label : 0, Predicted label : 0, Probas : [0.5052182  0.13198529 0.3627965 ]\n",
      "True label : 0, Predicted label : 0, Probas : [0.5095263  0.01120934 0.47926432]\n",
      "True label : 0, Predicted label : 0, Probas : [0.5660614  0.03353008 0.40040854]\n",
      "True label : 0, Predicted label : 2, Probas : [0.38502738 0.03354507 0.58142745]\n",
      "True label : 0, Predicted label : 2, Probas : [0.42563492 0.07127184 0.50309324]\n",
      "True label : 0, Predicted label : 0, Probas : [0.4629062  0.07985499 0.4572388 ]\n",
      "True label : 0, Predicted label : 0, Probas : [0.5784206  0.15610833 0.26547107]\n",
      "True label : 0, Predicted label : 1, Probas : [0.3290021  0.50146854 0.1695293 ]\n",
      "True label : 0, Predicted label : 2, Probas : [0.33660686 0.04886746 0.6145257 ]\n",
      "True label : 0, Predicted label : 0, Probas : [0.5454747  0.00243695 0.45208833]\n",
      "True label : 0, Predicted label : 2, Probas : [0.0955227  0.01349552 0.89098185]\n",
      "True label : 0, Predicted label : 2, Probas : [0.13087708 0.04573997 0.8233829 ]\n",
      "True label : 0, Predicted label : 2, Probas : [0.22489199 0.04628844 0.7288196 ]\n",
      "True label : 0, Predicted label : 2, Probas : [2.3694972e-02 2.2457428e-04 9.7608048e-01]\n",
      "True label : 0, Predicted label : 2, Probas : [0.02787853 0.02683564 0.9452858 ]\n",
      "True label : 0, Predicted label : 0, Probas : [0.44946766 0.22278276 0.32774955]\n",
      "True label : 0, Predicted label : 0, Probas : [0.4991004  0.2328355  0.26806414]\n",
      "True label : 0, Predicted label : 0, Probas : [0.46509388 0.18281573 0.3520904 ]\n",
      "True label : 0, Predicted label : 0, Probas : [0.52216744 0.351766   0.12606663]\n",
      "True label : 0, Predicted label : 0, Probas : [5.8902019e-01 4.1070634e-01 2.7346841e-04]\n",
      "True label : 0, Predicted label : 0, Probas : [0.570372   0.38192227 0.04770584]\n",
      "True label : 0, Predicted label : 0, Probas : [0.5075041  0.43467194 0.05782393]\n",
      "True label : 0, Predicted label : 0, Probas : [0.46574    0.14884685 0.38541314]\n",
      "True label : 0, Predicted label : 2, Probas : [0.2785567  0.07403625 0.647407  ]\n",
      "True label : 0, Predicted label : 2, Probas : [0.18066075 0.24825929 0.5710799 ]\n",
      "True label : 0, Predicted label : 0, Probas : [0.37683302 0.2534697  0.3696972 ]\n",
      "True label : 0, Predicted label : 2, Probas : [0.33904716 0.26623565 0.3947172 ]\n",
      "True label : 0, Predicted label : 2, Probas : [0.13942912 0.17343913 0.68713176]\n",
      "True label : 0, Predicted label : 2, Probas : [0.15326568 0.0668757  0.7798587 ]\n",
      "True label : 0, Predicted label : 2, Probas : [0.13400008 0.03958756 0.82641244]\n",
      "True label : 0, Predicted label : 0, Probas : [0.41511694 0.2222322  0.36265084]\n",
      "True label : 0, Predicted label : 2, Probas : [0.2765983 0.2167265 0.5066752]\n",
      "True label : 0, Predicted label : 0, Probas : [0.44136867 0.13191819 0.4267131 ]\n",
      "True label : 0, Predicted label : 2, Probas : [0.41418397 0.13498376 0.45083228]\n",
      "True label : 0, Predicted label : 2, Probas : [0.19574988 0.03663871 0.7676114 ]\n",
      "True label : 0, Predicted label : 2, Probas : [0.20752965 0.08538995 0.70708036]\n",
      "True label : 0, Predicted label : 2, Probas : [0.05920251 0.20582603 0.7349714 ]\n",
      "True label : 0, Predicted label : 2, Probas : [0.10883623 0.04243462 0.8487292 ]\n",
      "True label : 3, Predicted label : 0, Probas : [0.4528202  0.39066228 0.15651749]\n",
      "True label : 3, Predicted label : 1, Probas : [0.43312177 0.46138895 0.1054893 ]\n",
      "True label : 3, Predicted label : 1, Probas : [0.3733944  0.5764643  0.05014131]\n",
      "True label : 3, Predicted label : 0, Probas : [0.46676645 0.39185545 0.14137812]\n",
      "True label : 3, Predicted label : 0, Probas : [0.5769335  0.26567167 0.15739484]\n",
      "True label : 3, Predicted label : 0, Probas : [0.80628544 0.1174152  0.07629929]\n",
      "True label : 3, Predicted label : 0, Probas : [0.5632488  0.34721085 0.08954033]\n",
      "True label : 3, Predicted label : 0, Probas : [0.45454806 0.34394982 0.20150214]\n",
      "True label : 3, Predicted label : 1, Probas : [0.29621276 0.5667204  0.1370668 ]\n",
      "True label : 3, Predicted label : 1, Probas : [0.3557046  0.51721007 0.12708533]\n",
      "True label : 3, Predicted label : 1, Probas : [0.37562305 0.51650023 0.10787673]\n",
      "True label : 3, Predicted label : 1, Probas : [0.3870305  0.4427195  0.17025006]\n",
      "True label : 3, Predicted label : 1, Probas : [0.32253978 0.58305824 0.09440195]\n",
      "True label : 3, Predicted label : 2, Probas : [0.05133219 0.02453283 0.924135  ]\n",
      "True label : 3, Predicted label : 2, Probas : [0.1849256  0.15377057 0.6613039 ]\n",
      "True label : 3, Predicted label : 2, Probas : [0.11745885 0.097782   0.78475916]\n",
      "True label : 3, Predicted label : 0, Probas : [0.47054383 0.24677579 0.28268033]\n",
      "True label : 3, Predicted label : 2, Probas : [0.33670035 0.24363618 0.41966346]\n",
      "True label : 3, Predicted label : 0, Probas : [0.43823695 0.21210065 0.34966242]\n",
      "True label : 3, Predicted label : 0, Probas : [0.41235936 0.3777467  0.20989396]\n",
      "True label : 3, Predicted label : 2, Probas : [0.32582828 0.21816634 0.45600536]\n",
      "True label : 3, Predicted label : 1, Probas : [0.3856336  0.49381152 0.12055486]\n",
      "True label : 3, Predicted label : 0, Probas : [0.4751679  0.3861615  0.13867055]\n",
      "True label : 3, Predicted label : 0, Probas : [0.6217943  0.3319506  0.04625514]\n",
      "True label : 3, Predicted label : 1, Probas : [0.47158545 0.5238404  0.00457414]\n",
      "True label : 3, Predicted label : 0, Probas : [0.44506207 0.33290112 0.22203681]\n",
      "True label : 3, Predicted label : 0, Probas : [0.4790494  0.34265962 0.17829102]\n",
      "True label : 3, Predicted label : 0, Probas : [0.49535114 0.44869053 0.0559583 ]\n",
      "True label : 3, Predicted label : 0, Probas : [0.46062267 0.39459512 0.14478222]\n",
      "True label : 3, Predicted label : 0, Probas : [0.5238753  0.40016553 0.07595923]\n",
      "True label : 3, Predicted label : 1, Probas : [0.38772392 0.42884916 0.18342689]\n",
      "True label : 3, Predicted label : 1, Probas : [0.3146539  0.59524703 0.09009907]\n",
      "True label : 4, Predicted label : 1, Probas : [0.3566955  0.44417942 0.19912511]\n",
      "True label : 4, Predicted label : 1, Probas : [0.20349602 0.44175902 0.354745  ]\n",
      "True label : 4, Predicted label : 2, Probas : [0.14729002 0.35917255 0.4935374 ]\n",
      "True label : 4, Predicted label : 2, Probas : [0.14022988 0.22026744 0.6395027 ]\n",
      "True label : 4, Predicted label : 2, Probas : [0.12383731 0.41651595 0.45964676]\n",
      "True label : 4, Predicted label : 2, Probas : [0.29112256 0.18990217 0.51897526]\n",
      "True label : 4, Predicted label : 2, Probas : [0.10026146 0.3870746  0.5126639 ]\n",
      "True label : 4, Predicted label : 2, Probas : [0.25693503 0.1971458  0.5459192 ]\n",
      "True label : 4, Predicted label : 2, Probas : [0.20149466 0.15829569 0.6402097 ]\n",
      "True label : 4, Predicted label : 2, Probas : [0.25193214 0.30221844 0.44584945]\n",
      "True label : 4, Predicted label : 1, Probas : [0.32340327 0.43884528 0.23775147]\n",
      "True label : 4, Predicted label : 0, Probas : [0.38569838 0.29429168 0.32000995]\n",
      "True label : 4, Predicted label : 2, Probas : [0.20377973 0.14287142 0.65334886]\n",
      "True label : 4, Predicted label : 0, Probas : [0.5277664  0.40545818 0.0667754 ]\n",
      "True label : 4, Predicted label : 0, Probas : [0.39742723 0.28030753 0.32226524]\n",
      "True label : 4, Predicted label : 2, Probas : [0.14253989 0.01477383 0.84268636]\n",
      "True label : 4, Predicted label : 1, Probas : [0.38636166 0.4690416  0.14459676]\n",
      "True label : 4, Predicted label : 0, Probas : [0.46166924 0.3621314  0.17619935]\n",
      "True label : 4, Predicted label : 0, Probas : [0.47760278 0.1674835  0.3549137 ]\n",
      "True label : 4, Predicted label : 2, Probas : [0.30637762 0.1729886  0.52063376]\n",
      "True label : 4, Predicted label : 2, Probas : [0.42601162 0.13617449 0.43781388]\n",
      "True label : 4, Predicted label : 2, Probas : [0.4505853  0.09260708 0.45680764]\n",
      "True label : 4, Predicted label : 0, Probas : [0.5432025  0.23135726 0.2254403 ]\n",
      "True label : 4, Predicted label : 0, Probas : [0.5785458  0.11610176 0.30535245]\n",
      "True label : 4, Predicted label : 0, Probas : [0.44397858 0.3584381  0.19758335]\n",
      "True label : 4, Predicted label : 0, Probas : [0.6930987  0.23293851 0.07396279]\n",
      "True label : 4, Predicted label : 0, Probas : [0.616495   0.3581706  0.02533438]\n",
      "True label : 4, Predicted label : 0, Probas : [0.5309078  0.37730783 0.09178439]\n",
      "True label : 4, Predicted label : 0, Probas : [0.5069996  0.2082126  0.28478783]\n",
      "True label : 4, Predicted label : 2, Probas : [0.34679973 0.26795876 0.38524154]\n",
      "True label : 4, Predicted label : 0, Probas : [0.49686232 0.26064593 0.24249177]\n",
      "True label : 4, Predicted label : 0, Probas : [0.4922322  0.25872248 0.24904534]\n",
      "True label : 4, Predicted label : 0, Probas : [0.5508143  0.35364282 0.09554286]\n",
      "True label : 4, Predicted label : 0, Probas : [0.47106865 0.23777486 0.29115647]\n",
      "True label : 4, Predicted label : 0, Probas : [0.3866151  0.30064094 0.31274402]\n",
      "True label : 5, Predicted label : 2, Probas : [0.05338992 0.01198634 0.9346237 ]\n",
      "True label : 5, Predicted label : 2, Probas : [0.15336524 0.01509943 0.83153534]\n",
      "True label : 5, Predicted label : 2, Probas : [0.18213618 0.08194588 0.7359179 ]\n",
      "True label : 5, Predicted label : 2, Probas : [0.22519879 0.00199888 0.77280235]\n",
      "True label : 5, Predicted label : 2, Probas : [0.20900647 0.07442226 0.7165713 ]\n",
      "True label : 5, Predicted label : 2, Probas : [0.24255666 0.08595656 0.67148674]\n",
      "True label : 5, Predicted label : 2, Probas : [0.17053248 0.06084509 0.76862234]\n",
      "True label : 5, Predicted label : 2, Probas : [0.23902823 0.26040632 0.50056547]\n",
      "True label : 5, Predicted label : 2, Probas : [0.02150894 0.04722858 0.93126243]\n",
      "True label : 5, Predicted label : 2, Probas : [1.5000412e-01 7.0808426e-05 8.4992510e-01]\n",
      "True label : 5, Predicted label : 2, Probas : [0.17248693 0.06307567 0.76443744]\n",
      "True label : 5, Predicted label : 0, Probas : [0.46629685 0.1142446  0.4194586 ]\n",
      "True label : 5, Predicted label : 2, Probas : [0.3097933  0.20765382 0.48255286]\n",
      "True label : 5, Predicted label : 2, Probas : [0.2446571  0.04449614 0.7108467 ]\n",
      "True label : 5, Predicted label : 0, Probas : [0.5525669  0.31643626 0.13099687]\n",
      "True label : 5, Predicted label : 1, Probas : [0.40395468 0.53890187 0.05714343]\n",
      "True label : 5, Predicted label : 2, Probas : [0.3068917  0.17714499 0.5159633 ]\n",
      "True label : 5, Predicted label : 2, Probas : [0.28495294 0.23319562 0.4818514 ]\n",
      "True label : 5, Predicted label : 0, Probas : [0.5673889  0.2813741  0.15123703]\n",
      "True label : 5, Predicted label : 2, Probas : [0.37965867 0.01054302 0.6097983 ]\n",
      "True label : 5, Predicted label : 2, Probas : [0.27724215 0.06843522 0.65432256]\n",
      "True label : 5, Predicted label : 2, Probas : [0.18138218 0.00861097 0.8100069 ]\n",
      "True label : 5, Predicted label : 2, Probas : [0.27956975 0.01687731 0.7035529 ]\n",
      "True label : 5, Predicted label : 2, Probas : [0.31334808 0.00136596 0.685286  ]\n",
      "True label : 5, Predicted label : 2, Probas : [0.22397742 0.07070439 0.7053181 ]\n",
      "True label : 5, Predicted label : 2, Probas : [0.38179755 0.1560407  0.46216175]\n",
      "True label : 5, Predicted label : 1, Probas : [0.3995036  0.4856745  0.11482193]\n",
      "True label : 5, Predicted label : 0, Probas : [0.45922402 0.3869299  0.15384606]\n",
      "True label : 5, Predicted label : 0, Probas : [0.47644746 0.45826086 0.06529166]\n",
      "True label : 5, Predicted label : 1, Probas : [0.38177866 0.4881977  0.13002357]\n",
      "True label : 5, Predicted label : 1, Probas : [0.3566204  0.52224606 0.12113356]\n",
      "True label : 5, Predicted label : 0, Probas : [0.50652933 0.1494069  0.3440638 ]\n",
      "True label : 5, Predicted label : 0, Probas : [0.41414675 0.24614511 0.33970815]\n",
      "True label : 5, Predicted label : 2, Probas : [0.4333887  0.11952601 0.44708526]\n",
      "True label : 5, Predicted label : 2, Probas : [0.36654812 0.19868764 0.43476424]\n",
      "True label : 5, Predicted label : 2, Probas : [0.45384806 0.02102617 0.52512574]\n",
      "True label : 1, Predicted label : 2, Probas : [0.31997082 0.12710705 0.5529221 ]\n",
      "True label : 1, Predicted label : 2, Probas : [0.00222056 0.04160614 0.9561733 ]\n",
      "True label : 1, Predicted label : 1, Probas : [0.339884   0.5521869  0.10792913]\n",
      "True label : 1, Predicted label : 0, Probas : [0.44823664 0.30767956 0.24408375]\n",
      "True label : 1, Predicted label : 1, Probas : [0.3526233  0.46592247 0.18145415]\n",
      "True label : 1, Predicted label : 2, Probas : [0.32703736 0.21356541 0.45939726]\n",
      "True label : 1, Predicted label : 2, Probas : [0.17208165 0.13923064 0.6886877 ]\n",
      "True label : 1, Predicted label : 2, Probas : [0.43340677 0.1252133  0.44137993]\n",
      "True label : 1, Predicted label : 2, Probas : [0.36359552 0.15082474 0.48557973]\n",
      "True label : 1, Predicted label : 2, Probas : [0.35648844 0.19727352 0.4462381 ]\n",
      "True label : 1, Predicted label : 2, Probas : [0.27617657 0.34283823 0.3809852 ]\n",
      "True label : 1, Predicted label : 0, Probas : [0.4051995  0.20186907 0.3929314 ]\n",
      "True label : 1, Predicted label : 0, Probas : [0.4205538  0.29884923 0.28059697]\n",
      "True label : 1, Predicted label : 2, Probas : [0.22008301 0.29916912 0.48074788]\n",
      "True label : 1, Predicted label : 0, Probas : [0.49424508 0.15639013 0.34936485]\n",
      "True label : 1, Predicted label : 1, Probas : [0.19790533 0.41571772 0.38637698]\n",
      "True label : 1, Predicted label : 2, Probas : [0.23248872 0.14051454 0.62699676]\n",
      "True label : 1, Predicted label : 1, Probas : [0.29705495 0.37151974 0.33142528]\n",
      "True label : 1, Predicted label : 2, Probas : [0.35938072 0.14579244 0.49482682]\n",
      "True label : 1, Predicted label : 0, Probas : [0.431623   0.32738853 0.24098848]\n",
      "True label : 2, Predicted label : 1, Probas : [0.39426658 0.4371129  0.1686205 ]\n",
      "True label : 2, Predicted label : 0, Probas : [0.4794821  0.33499983 0.18551806]\n",
      "True label : 2, Predicted label : 0, Probas : [0.3800303  0.26449752 0.3554722 ]\n",
      "True label : 2, Predicted label : 0, Probas : [0.47525832 0.45059577 0.07414596]\n",
      "True label : 2, Predicted label : 0, Probas : [0.5727238  0.29781663 0.12945957]\n",
      "True label : 2, Predicted label : 1, Probas : [0.34237406 0.48550755 0.17211841]\n",
      "True label : 2, Predicted label : 0, Probas : [0.46756607 0.2187911  0.3136428 ]\n",
      "True label : 2, Predicted label : 1, Probas : [0.29619533 0.44691554 0.2568891 ]\n",
      "True label : 2, Predicted label : 0, Probas : [0.38662001 0.26734123 0.34603873]\n",
      "True label : 2, Predicted label : 0, Probas : [0.39032376 0.25655898 0.3531172 ]\n",
      "True label : 2, Predicted label : 1, Probas : [0.4018758  0.4706067  0.12751754]\n",
      "True label : 2, Predicted label : 0, Probas : [0.45643055 0.41825446 0.125315  ]\n",
      "True label : 2, Predicted label : 0, Probas : [0.50132054 0.34273002 0.15594941]\n",
      "True label : 2, Predicted label : 0, Probas : [0.44780406 0.25293523 0.29926074]\n",
      "True label : 2, Predicted label : 0, Probas : [0.48299676 0.33170155 0.18530168]\n",
      "True label : 2, Predicted label : 0, Probas : [0.42324752 0.25493497 0.3218175 ]\n",
      "True label : 2, Predicted label : 1, Probas : [0.21455458 0.56708723 0.2183582 ]\n",
      "True label : 2, Predicted label : 2, Probas : [0.33113697 0.3259296  0.34293342]\n",
      "True label : 2, Predicted label : 2, Probas : [0.42428616 0.04243792 0.53327596]\n",
      "True label : 2, Predicted label : 0, Probas : [0.51383704 0.2841243  0.20203865]\n"
     ]
    }
   ],
   "source": [
    "net.eval()\n",
    "for session in range(184):\n",
    "    data = torch.from_numpy(fc_dbs[session,:,:,:,:])\n",
    "    probas = torch.sum(torch.exp(net(data.type(torch.float32))),dim=0)/464\n",
    "    res = torch.argmax(probas,dim=0)\n",
    "    print(\"True label : {}, Predicted label : {}, Probas : {}\".format(labels_all[session,0],res,probas.detach().numpy()))"
   ]
  },
  {
   "cell_type": "code",
   "execution_count": 15,
   "metadata": {},
   "outputs": [
    {
     "name": "stdout",
     "output_type": "stream",
     "text": [
      "[light-propofol,deep-propofol,awake]\n",
      "awake-bold : tensor([0.4634, 0.0244, 0.5122])\n",
      "stim-cont-on-3v : tensor([0.2500, 0.2000, 0.5500])\n",
      "stim-cont-on-5v : tensor([0.6500, 0.2500, 0.1000])\n",
      "stim-off : tensor([0.5000, 0.3438, 0.1562])\n",
      "stim-on-3v : tensor([0.5000, 0.1176, 0.4118])\n",
      "stim-on-5v : tensor([0.1944, 0.1111, 0.6944])\n"
     ]
    }
   ],
   "source": [
    "net.eval()\n",
    "accu = torch.zeros(3)\n",
    "print(\"[light-propofol,deep-propofol,awake]\")\n",
    "for session in range(0,41):\n",
    "    data = torch.from_numpy(fc_dbs[session,:,:,:,:])\n",
    "    probas = torch.sum(torch.exp(net(data.type(torch.float32))),dim=0)/464\n",
    "    res = torch.argmax(probas,dim=0)\n",
    "    accu[res] += 1\n",
    "print(\"awake-bold :\",accu/41)\n",
    "\n",
    "accu = torch.zeros(3)\n",
    "for session in range(144,164):\n",
    "    data = torch.from_numpy(fc_dbs[session,:,:,:,:])\n",
    "    probas = torch.sum(torch.exp(net(data.type(torch.float32))),dim=0)/464\n",
    "    res = torch.argmax(probas,dim=0)\n",
    "    accu[res] += 1\n",
    "print(\"stim-cont-on-3v :\",accu/20)\n",
    "\n",
    "accu = torch.zeros(3)\n",
    "for session in range(164,184):\n",
    "    data = torch.from_numpy(fc_dbs[session,:,:,:,:])\n",
    "    probas = torch.sum(torch.exp(net(data.type(torch.float32))),dim=0)/464\n",
    "    res = torch.argmax(probas,dim=0)\n",
    "    accu[res] += 1\n",
    "print(\"stim-cont-on-5v :\",accu/20)\n",
    "\n",
    "accu = torch.zeros(3)\n",
    "for session in range(41,73):\n",
    "    data = torch.from_numpy(fc_dbs[session,:,:,:,:])\n",
    "    probas = torch.sum(torch.exp(net(data.type(torch.float32))),dim=0)/464\n",
    "    res = torch.argmax(probas,dim=0)\n",
    "    accu[res] += 1\n",
    "print(\"stim-off :\",accu/32)\n",
    "\n",
    "accu = torch.zeros(3)\n",
    "for session in range(73,108):\n",
    "    data = torch.from_numpy(fc_dbs[session,:,:,:,:])\n",
    "    probas = torch.sum(torch.exp(net(data.type(torch.float32))),dim=0)/464\n",
    "    res = torch.argmax(probas,dim=0)\n",
    "    accu[res] += 1\n",
    "print(\"stim-on-3v :\",accu/34)\n",
    "\n",
    "accu = torch.zeros(3)\n",
    "for session in range(108,144):\n",
    "    data = torch.from_numpy(fc_dbs[session,:,:,:,:])\n",
    "    probas = torch.sum(torch.exp(net(data.type(torch.float32))),dim=0)/464\n",
    "    res = torch.argmax(probas,dim=0)\n",
    "    accu[res] += 1\n",
    "print(\"stim-on-5v :\",accu/36)"
   ]
  }
 ],
 "metadata": {
  "kernelspec": {
   "display_name": "env",
   "language": "python",
   "name": "python3"
  },
  "language_info": {
   "codemirror_mode": {
    "name": "ipython",
    "version": 3
   },
   "file_extension": ".py",
   "mimetype": "text/x-python",
   "name": "python",
   "nbconvert_exporter": "python",
   "pygments_lexer": "ipython3",
   "version": "3.8.0"
  },
  "orig_nbformat": 4
 },
 "nbformat": 4,
 "nbformat_minor": 2
}
