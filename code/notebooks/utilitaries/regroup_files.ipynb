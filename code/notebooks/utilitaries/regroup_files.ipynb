{
 "cells": [
  {
   "cell_type": "code",
   "execution_count": 1,
   "metadata": {},
   "outputs": [],
   "source": [
    "import os\n",
    "import re \n",
    "import numpy as np\n",
    "import pandas as pd"
   ]
  },
  {
   "cell_type": "code",
   "execution_count": 2,
   "metadata": {},
   "outputs": [],
   "source": [
    "meta = pd.read_csv(\"/neurospin/lbi/monkeyfmri/deepstim/database/ANESTHETIC_database/derivatives/reference_kmeans/inputs/metadata.tsv\", sep=\"\\t\")\n",
    "n_runs = len(set(meta[\"unique_id\"] + meta[\"monkey\"]))\n",
    "n_wins = 464\n",
    "labels_session = np.array([meta[\"condition\"].iloc[i*464] for i in range(len(meta)//464)])\n",
    "id_sessions = np.argwhere(np.isin(labels_session,[\"light-propofol\",\"deep-propofol\",\"awake\"])).flatten()"
   ]
  },
  {
   "cell_type": "code",
   "execution_count": 10,
   "metadata": {},
   "outputs": [],
   "source": [
    "dfc = np.zeros((156,464,156,464))\n",
    "list_conditions = np.array([meta[\"condition\"].iloc[464*i] for i in range(n_runs)])\n",
    "compteur = 0\n",
    "for i in range(len(list_conditions)):\n",
    "    if list_conditions[i] in [\"light-propofol\",\"deep-propofol\",\"awake\",\"light-sevolfurane\",\"deep-sevoflurane\",\"ketamine\"]:\n",
    "        accu = np.load(\"/neurospin/lbi/monkeyfmri/deepstim/workspace/2023_ASM_tembedding/gitproject/2023_asm_tembedding/data/DistanceMatrices/all/struct-dfc_run-{}_dists.npy\".format(i))\n",
    "        dfc[compteur,:,:,:] = accu\n",
    "        compteur += 1\n",
    "np.save(\"/neurospin/lbi/monkeyfmri/deepstim/workspace/2023_ASM_tembedding/gitproject/2023_asm_tembedding/data/DistanceMatrices/all_conditions/distances.npy\",arr = dfc)"
   ]
  }
 ],
 "metadata": {
  "kernelspec": {
   "display_name": "env",
   "language": "python",
   "name": "python3"
  },
  "language_info": {
   "codemirror_mode": {
    "name": "ipython",
    "version": 3
   },
   "file_extension": ".py",
   "mimetype": "text/x-python",
   "name": "python",
   "nbconvert_exporter": "python",
   "pygments_lexer": "ipython3",
   "version": "3.8.10"
  },
  "orig_nbformat": 4
 },
 "nbformat": 4,
 "nbformat_minor": 2
}
