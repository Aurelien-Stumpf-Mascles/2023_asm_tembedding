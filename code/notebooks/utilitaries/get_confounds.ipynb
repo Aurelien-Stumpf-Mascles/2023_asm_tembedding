{
 "cells": [
  {
   "cell_type": "code",
   "execution_count": 1,
   "metadata": {},
   "outputs": [],
   "source": [
    "import os\n",
    "import re \n",
    "import numpy as np\n",
    "import pandas as pd"
   ]
  },
  {
   "cell_type": "code",
   "execution_count": 3,
   "metadata": {},
   "outputs": [],
   "source": [
    "preproc = \"nsm\"\n",
    "data_dir = \"/neurospin/lbi/monkeyfmri/deepstim/database/ANESTHETIC_database/derivatives/{0}\".format(preproc)\n",
    "meta_file = \"/neurospin/lbi/monkeyfmri/deepstim/database/ANESTHETIC_database/participants.tsv\""
   ]
  },
  {
   "cell_type": "code",
   "execution_count": 10,
   "metadata": {},
   "outputs": [
    {
     "name": "stdout",
     "output_type": "stream",
     "text": [
      "        sub       ses  run          cond\n",
      "0    almira  20130830  014         awake\n",
      "1    almira  20130830  016         awake\n",
      "2    almira  20140314  005         awake\n",
      "3    almira  20140314  006         awake\n",
      "4      jade  20120824  010         awake\n",
      "..      ...       ...  ...           ...\n",
      "151    rana  20150717  009  sevoflurane4\n",
      "152    rana  20160805  004  sevoflurane4\n",
      "153    rana  20160805  005  sevoflurane4\n",
      "154    rana  20160805  006  sevoflurane4\n",
      "155    rana  20160909  014  sevoflurane4\n",
      "\n",
      "[156 rows x 4 columns]\n",
      "/neurospin/lbi/monkeyfmri/deepstim/database/ANESTHETIC_database/derivatives/nsm/sub-rana/ses-20150626/func/sub-rana_ses-20150626_run-019_confounds.par\n",
      "/neurospin/lbi/monkeyfmri/deepstim/database/ANESTHETIC_database/derivatives/nsm/sub-rana/ses-20150626/func/sub-rana_ses-20150626_run-020_confounds.par\n"
     ]
    }
   ],
   "source": [
    "# Load data\n",
    "df = pd.read_csv(meta_file, sep=\"\\t\", dtype=str)\n",
    "df = df.rename(\n",
    "    columns={'monkey': 'sub', 'session': 'ses', 'condition': 'cond'})\n",
    "print(df)\n",
    "basename2 = \"sub-{0}_ses-{1}_run-{2}_confounds.par\"\n",
    "dataset = []\n",
    "for index, row in df.iterrows():\n",
    "    confounds_file = os.path.join(\n",
    "        data_dir, \"sub-{0}\".format(row[\"sub\"]), \"ses-{0}\".format(row[\"ses\"]),\n",
    "        \"func\", basename2.format(row[\"sub\"], row[\"ses\"], row[\"run\"]))\n",
    "    skip = False\n",
    "    if not os.path.isfile(confounds_file):\n",
    "        print(confounds_file)\n",
    "        skip = True\n",
    "    else :\n",
    "        dataset.append(confounds_file)\n",
    "    if skip:\n",
    "        continue"
   ]
  },
  {
   "cell_type": "code",
   "execution_count": 14,
   "metadata": {},
   "outputs": [],
   "source": [
    "confounds = np.zeros((len(dataset),500,7))\n",
    "for i in range(len(dataset)):\n",
    "    accu = np.loadtxt(dataset[i])\n",
    "    confounds[i,:,:] = accu"
   ]
  },
  {
   "cell_type": "code",
   "execution_count": 16,
   "metadata": {},
   "outputs": [],
   "source": [
    "np.save(\"/neurospin/lbi/monkeyfmri/deepstim/workspace/2023_ASM_tembedding/gitproject/2023_asm_tembedding/data/Confounds/confounds.npy\",arr = confounds)"
   ]
  }
 ],
 "metadata": {
  "kernelspec": {
   "display_name": "env",
   "language": "python",
   "name": "python3"
  },
  "language_info": {
   "codemirror_mode": {
    "name": "ipython",
    "version": 3
   },
   "file_extension": ".py",
   "mimetype": "text/x-python",
   "name": "python",
   "nbconvert_exporter": "python",
   "pygments_lexer": "ipython3",
   "version": "3.8.10"
  },
  "orig_nbformat": 4
 },
 "nbformat": 4,
 "nbformat_minor": 2
}
