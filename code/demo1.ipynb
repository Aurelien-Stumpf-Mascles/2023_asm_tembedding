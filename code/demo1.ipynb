{
 "cells": [
  {
   "cell_type": "code",
   "execution_count": 1,
   "metadata": {},
   "outputs": [],
   "source": [
    "import numpy as np\n",
    "import matplotlib.pyplot as plt\n",
    "import torch\n",
    "import torch.nn as nn\n",
    "import cebra_v2 as cebra2"
   ]
  },
  {
   "cell_type": "code",
   "execution_count": 25,
   "metadata": {},
   "outputs": [
    {
     "data": {
      "text/plain": [
       "<module 'cebra_v2.solver' from '/volatile/aurelien_stumpf_mascles/project/code/cebra_v2/solver.py'>"
      ]
     },
     "execution_count": 25,
     "metadata": {},
     "output_type": "execute_result"
    }
   ],
   "source": [
    "import importlib\n",
    "importlib.reload(cebra2.dataset)\n",
    "importlib.reload(cebra2.solver)"
   ]
  },
  {
   "cell_type": "code",
   "execution_count": 6,
   "metadata": {},
   "outputs": [
    {
     "name": "stdout",
     "output_type": "stream",
     "text": [
      "['data25', 'dfc25', 'labels25', 'data30', 'dfc30', 'labels30', 'data35', 'dfc35', 'labels35', 'data40', 'dfc40', 'labels40', 'data45', 'dfc45', 'labels45', 'states']\n"
     ]
    }
   ],
   "source": [
    "loaded_arrays = np.load('/neurospin/lbi/monkeyfmri/deepstim/database/SYNTHETIC_database/sub-200_states-4_noise-high_synth/dataset.npz')\n",
    "print(loaded_arrays.files)"
   ]
  },
  {
   "cell_type": "code",
   "execution_count": 10,
   "metadata": {},
   "outputs": [],
   "source": [
    "data25 = loaded_arrays['data25']\n",
    "array = np.mean(data25,axis = 3)[0]\n",
    "fc_dataset = cebra2.dataset.TensorDataset(array)"
   ]
  },
  {
   "cell_type": "code",
   "execution_count": 11,
   "metadata": {},
   "outputs": [],
   "source": [
    "num_output = 3\n",
    "normalize = True\n",
    "num_neurons = 82\n",
    "\n",
    "model = cebra2.model.Model(\n",
    "    nn.Flatten(start_dim=1, end_dim=-1),\n",
    "    nn.Linear(\n",
    "        num_neurons,\n",
    "        num_output * 30,\n",
    "    ),\n",
    "    nn.GELU(),\n",
    "    nn.Linear(num_output * 30, num_output * 30),\n",
    "    nn.GELU(),\n",
    "    nn.Linear(num_output * 30, num_output * 10),\n",
    "    nn.GELU(),\n",
    "    nn.Linear(int(num_output * 10), num_output),\n",
    "    num_input=num_neurons,\n",
    "    num_output=num_output,\n",
    "    normalize=normalize,\n",
    "        )"
   ]
  },
  {
   "cell_type": "code",
   "execution_count": 12,
   "metadata": {},
   "outputs": [],
   "source": [
    "def single_session_solver(data_loader, **kwargs):\n",
    "    \"\"\"Train a single session CEBRA model.\"\"\"\n",
    "    norm = True\n",
    "    if kwargs['distance'] == 'euclidean':\n",
    "        norm = False\n",
    "    model = kwargs[\"model\"]\n",
    "\n",
    "    if kwargs['distance'] == 'euclidean':\n",
    "        criterion = cebra2.criterion.InfoMSE(temperature=kwargs['temperature'])\n",
    "    elif kwargs['distance'] == 'cosine':        \n",
    "        criterion = cebra2.criterion.InfoNCE(temperature=kwargs['temperature'])\n",
    "\n",
    "    optimizer = torch.optim.Adam(model.parameters(), lr=kwargs['learning_rate'])\n",
    "\n",
    "    return cebra2.solver.SingleSessionSolver(model=model,\n",
    "                                            criterion=criterion,\n",
    "                                            optimizer=optimizer)"
   ]
  },
  {
   "cell_type": "code",
   "execution_count": 19,
   "metadata": {},
   "outputs": [],
   "source": [
    "@torch.no_grad()\n",
    "def get_emissions(model, dataset):\n",
    "    if torch.cuda.is_available():\n",
    "        device = \"cuda\"\n",
    "    else:\n",
    "        device = \"cpu\"\n",
    "    model.to(device)\n",
    "    return model(dataset[torch.arange(len(dataset))].to(device)).cpu().numpy()\n",
    "\n",
    "def _compute_emissions_single(solver, dataset):\n",
    "    return get_emissions(solver.model, dataset)"
   ]
  },
  {
   "cell_type": "code",
   "execution_count": 26,
   "metadata": {},
   "outputs": [],
   "source": [
    "fc_loader = cebra2.dataset.Loader(fc_dataset, num_steps = 10000, batch_size = 512)"
   ]
  },
  {
   "cell_type": "code",
   "execution_count": 27,
   "metadata": {},
   "outputs": [],
   "source": [
    "cebra_fc = single_session_solver(data_loader = fc_loader, model_architecture = 'offset1-model', \n",
    "                 distance = 'cosine', num_hidden_units = 128, output_dimension = 128,\n",
    "                verbose = True, temperature = 1, learning_rate = 3e-2, model = model)"
   ]
  },
  {
   "cell_type": "code",
   "execution_count": 28,
   "metadata": {},
   "outputs": [
    {
     "name": "stdout",
     "output_type": "stream",
     "text": [
      "tensor([101, 379, 110,  ..., 356, 441, 311]) tensor([116, 394, 125,  ..., 371, 456, 326]) tensor([176, 166, 246, 181, 129,  81, 135, 319, 192, 319, 300, 171, 137, 195,\n",
      "        387, 358, 425, 450,  34, 351, 295,  90, 243, 225, 466, 193, 296, 233,\n",
      "        344, 123, 185,  74,  22, 305, 274, 446,  47, 104, 271, 156, 432, 383,\n",
      "        445, 426, 220,  45, 396, 198, 381, 452,  86, 230, 323, 127, 257, 386,\n",
      "        320, 396, 279, 374,  92, 155, 451, 320,  49, 388, 366, 217, 265, 472,\n",
      "        161, 449, 414,  56,  28, 157,  96, 424, 178,  36, 230, 257, 221, 292,\n",
      "         33, 234,   8,  22, 269,  53, 117, 231,  42, 132, 114, 401, 229, 102,\n",
      "        197, 341,  25, 453, 257,  84, 441, 332, 143, 186, 129, 309, 400, 117,\n",
      "         28, 249, 449,  30,  48, 255, 234, 378, 251, 136, 318, 339,  64, 314,\n",
      "        341, 376, 246, 140, 448, 161, 388, 156, 400,  62, 289, 357,  27,  52,\n",
      "        252, 444, 344, 453,   1, 461, 151, 404, 428, 191, 275,  70, 287, 353,\n",
      "        118,  20, 112, 131, 287, 443,  40, 246, 140, 390,  46,  53, 219,  27,\n",
      "         82,  58,  33, 242, 270, 251,  30, 381,   3, 133,  75, 331,  86, 133,\n",
      "         23, 408, 344, 188, 405, 254, 272, 227, 327, 204, 392, 459, 189, 311,\n",
      "        316, 426, 315, 381,  99, 355, 279,  51, 236,  14, 412, 115, 357, 143,\n",
      "         54, 322, 364, 234, 451, 290, 267, 442, 369, 295, 421,  69,  47,  42,\n",
      "        269, 463, 327,  94, 224,  20, 224, 253,  82, 473, 409, 271, 314, 275,\n",
      "        470,  13, 377, 170,  27, 411, 320, 123, 270,  87, 243, 344,  55, 306,\n",
      "        215, 325, 186, 242, 374, 365, 240,  39, 124, 260,  59, 433, 433, 109,\n",
      "         66, 148,  73, 319, 322, 248, 421, 286, 180, 344, 293,  76, 201, 214,\n",
      "        172, 267,  34, 136, 238,  40, 215, 400, 356, 393, 251, 421, 445, 208,\n",
      "         38, 219, 342, 123, 413, 468, 277,   6, 306,  57,  56, 184,  22, 460,\n",
      "        298, 380, 155, 392,  18, 185, 376, 452, 128, 357, 346,  82,   7, 297,\n",
      "        189, 461, 225, 470, 212,  91,  45,  67, 335, 253, 174, 463, 452, 104,\n",
      "         82, 446, 369,  33, 152, 462, 293, 202, 255, 305, 374, 403, 449, 257,\n",
      "        156,  85, 138, 395, 248, 181,  36, 450, 349, 207, 298, 245, 431, 447,\n",
      "        262, 217, 234,  95, 171, 269, 288,  33, 252, 440,   5, 390, 420, 305,\n",
      "        327, 242, 314, 310,  94, 186, 304, 144, 396, 319, 177, 367, 150, 316,\n",
      "         36, 409,   4, 157, 252,   8, 155,  84, 228, 243, 434,  55, 148,  19,\n",
      "        104, 168,  84, 351, 435, 370, 409, 353,  17, 284,  65, 221, 200, 203,\n",
      "        215, 166, 377, 137, 332,  98, 290, 357, 189,  37, 256, 223, 445, 297,\n",
      "         64, 345, 135, 249, 375,  30, 357, 474, 293,  80,  75, 121, 413, 104,\n",
      "        413, 433, 134, 263, 460, 254, 436, 371, 360, 410, 383, 352, 428, 412,\n",
      "        165,  59, 161,  47, 373, 169,  30, 150, 180,  59, 203, 150,  65, 266,\n",
      "         36, 431, 415, 191, 194, 241, 304, 320, 271, 443, 169,  57, 324, 208,\n",
      "        117, 160, 428,  96, 391,  76, 203, 251, 103, 181, 373, 228, 296, 376,\n",
      "        247,  59, 161, 173, 177, 356, 441, 311])\n"
     ]
    },
    {
     "ename": "IndexError",
     "evalue": "index 475 is out of bounds for dimension 0 with size 475",
     "output_type": "error",
     "traceback": [
      "\u001b[0;31m---------------------------------------------------------------------------\u001b[0m",
      "\u001b[0;31mIndexError\u001b[0m                                Traceback (most recent call last)",
      "Cell \u001b[0;32mIn[28], line 1\u001b[0m\n\u001b[0;32m----> 1\u001b[0m cebra_fc\u001b[39m.\u001b[39;49mfit(fc_loader)\n",
      "File \u001b[0;32m/volatile/aurelien_stumpf_mascles/project/code/cebra_v2/solver.py:126\u001b[0m, in \u001b[0;36mSingleSessionSolver.fit\u001b[0;34m(self, loader, valid_loader, save_frequency, valid_frequency, decode, logdir)\u001b[0m\n\u001b[1;32m    124\u001b[0m iterator \u001b[39m=\u001b[39m loader\n\u001b[1;32m    125\u001b[0m \u001b[39mself\u001b[39m\u001b[39m.\u001b[39mmodel\u001b[39m.\u001b[39mtrain()\n\u001b[0;32m--> 126\u001b[0m \u001b[39mfor\u001b[39;00m id_step, batch \u001b[39min\u001b[39;00m iterator:\n\u001b[1;32m    127\u001b[0m     stats \u001b[39m=\u001b[39m \u001b[39mself\u001b[39m\u001b[39m.\u001b[39mstep(batch)\n\u001b[1;32m    129\u001b[0m     \u001b[39mif\u001b[39;00m id_step \u001b[39m%\u001b[39m \u001b[39m1000\u001b[39m \u001b[39m==\u001b[39m \u001b[39m0\u001b[39m : \n",
      "File \u001b[0;32m/volatile/aurelien_stumpf_mascles/project/code/cebra_v2/dataset.py:186\u001b[0m, in \u001b[0;36mLoader.__iter__\u001b[0;34m(self)\u001b[0m\n\u001b[1;32m    184\u001b[0m \u001b[39mfor\u001b[39;00m i \u001b[39min\u001b[39;00m \u001b[39mrange\u001b[39m(\u001b[39mself\u001b[39m\u001b[39m.\u001b[39mnum_steps):\n\u001b[1;32m    185\u001b[0m     index \u001b[39m=\u001b[39m \u001b[39mself\u001b[39m\u001b[39m.\u001b[39mget_indices(num_samples\u001b[39m=\u001b[39m\u001b[39mself\u001b[39m\u001b[39m.\u001b[39mbatch_size)\n\u001b[0;32m--> 186\u001b[0m     \u001b[39myield\u001b[39;00m i,\u001b[39mself\u001b[39;49m\u001b[39m.\u001b[39;49mdataset\u001b[39m.\u001b[39;49mload_batch(index)\n",
      "File \u001b[0;32m/volatile/aurelien_stumpf_mascles/project/code/cebra_v2/dataset.py:111\u001b[0m, in \u001b[0;36mTensorDataset.load_batch\u001b[0;34m(self, index)\u001b[0m\n\u001b[1;32m    108\u001b[0m \u001b[39mdef\u001b[39;00m \u001b[39mload_batch\u001b[39m(\u001b[39mself\u001b[39m, index: BatchIndex) \u001b[39m-\u001b[39m\u001b[39m>\u001b[39m Batch:\n\u001b[1;32m    109\u001b[0m \u001b[39m    \u001b[39m\u001b[39m\"\"\"Return the data at the specified index location.\"\"\"\u001b[39;00m\n\u001b[1;32m    110\u001b[0m     \u001b[39mreturn\u001b[39;00m Batch(\n\u001b[0;32m--> 111\u001b[0m         positive\u001b[39m=\u001b[39m\u001b[39mself\u001b[39;49m\u001b[39m.\u001b[39;49mneural[index\u001b[39m.\u001b[39;49mpositive],\n\u001b[1;32m    112\u001b[0m         negative\u001b[39m=\u001b[39m\u001b[39mself\u001b[39m\u001b[39m.\u001b[39mneural[index\u001b[39m.\u001b[39mnegative],\n\u001b[1;32m    113\u001b[0m         reference\u001b[39m=\u001b[39m\u001b[39mself\u001b[39m\u001b[39m.\u001b[39mneural[index\u001b[39m.\u001b[39mreference],\n\u001b[1;32m    114\u001b[0m     )\n",
      "\u001b[0;31mIndexError\u001b[0m: index 475 is out of bounds for dimension 0 with size 475"
     ]
    }
   ],
   "source": [
    "cebra_fc.fit(fc_loader)"
   ]
  }
 ],
 "metadata": {
  "kernelspec": {
   "display_name": "env",
   "language": "python",
   "name": "python3"
  },
  "language_info": {
   "codemirror_mode": {
    "name": "ipython",
    "version": 3
   },
   "file_extension": ".py",
   "mimetype": "text/x-python",
   "name": "python",
   "nbconvert_exporter": "python",
   "pygments_lexer": "ipython3",
   "version": "3.8.0"
  },
  "orig_nbformat": 4
 },
 "nbformat": 4,
 "nbformat_minor": 2
}
